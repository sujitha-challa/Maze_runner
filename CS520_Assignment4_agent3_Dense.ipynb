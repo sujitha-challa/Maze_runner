{
  "nbformat": 4,
  "nbformat_minor": 0,
  "metadata": {
    "colab": {
      "name": "CS520_Assignment4_agent3_Dense.ipynb",
      "provenance": [],
      "collapsed_sections": []
    },
    "kernelspec": {
      "name": "python3",
      "display_name": "Python 3"
    },
    "language_info": {
      "name": "python"
    }
  },
  "cells": [
    {
      "cell_type": "code",
      "execution_count": 1,
      "metadata": {
        "id": "gLpyvVVfDuQW"
      },
      "outputs": [],
      "source": [
        "import tensorflow as tf\n",
        "import numpy as np\n",
        "import pandas as pd\n",
        "import pickle\n",
        "from collections import defaultdict\n",
        "from sklearn.model_selection import train_test_split\n",
        "from numpy.core.records import array\n",
        "from keras.models import load_model\n",
        "import time\n"
      ]
    },
    {
      "cell_type": "code",
      "source": [
        "with open('/content/grids_agent3_dim10_count1000.pkl', \"rb\") as f:\n",
        "    dict = pickle.load(f)\n",
        "\n",
        "X = dict['KnowledgeGrid']\n",
        "X_PS = dict['KnowledgeGridPS']\n",
        "Y = dict['action']\n",
        "position_dict = dict['position']\n",
        "index_dict = dict['Index']\n",
        "data_count = len(Y)\n",
        "gridSize = len(X[0][0])\n",
        "maze_dict = dict['maze']\n",
        "AstartTime_dict = dict['AstarTime']"
      ],
      "metadata": {
        "id": "B0-n-LxXDyKg"
      },
      "execution_count": 3,
      "outputs": []
    },
    {
      "cell_type": "code",
      "source": [
        "# Reshape position list into array\n",
        "for i in range(data_count):\n",
        "  position_dict[i] = np.reshape(position_dict[i], 1*2)"
      ],
      "metadata": {
        "id": "JYcieRmLjWbt"
      },
      "execution_count": 4,
      "outputs": []
    },
    {
      "cell_type": "code",
      "source": [
        "print(gridSize)\n",
        "print(data_count)\n",
        "print(X[0])\n",
        "print(X_PS[0])\n",
        "print(position_dict[0])\n",
        "print(len(maze_dict))\n",
        "print((maze_dict[0]))\n",
        "print((AstartTime_dict[0]))\n",
        "print(len(AstartTime_dict))\n",
        "print((AstartTime_dict))\n",
        "print(X[0].shape[0])"
      ],
      "metadata": {
        "id": "V7H693XyKhHQ",
        "colab": {
          "base_uri": "https://localhost:8080/"
        },
        "outputId": "2df92027-0739-46a5-e480-e567aa961418"
      },
      "execution_count": 5,
      "outputs": [
        {
          "output_type": "stream",
          "name": "stdout",
          "text": [
            "10\n",
            "34606\n",
            "[[0 0 0 0 0 0 0 0 0 0]\n",
            " [0 0 0 0 0 0 0 0 0 0]\n",
            " [0 0 0 0 0 0 0 0 0 0]\n",
            " [0 0 0 0 0 0 0 0 0 0]\n",
            " [0 0 0 0 0 0 0 0 0 0]\n",
            " [0 0 0 0 0 0 0 0 0 0]\n",
            " [0 0 0 0 0 0 0 0 0 0]\n",
            " [0 0 0 0 0 0 0 0 0 0]\n",
            " [0 0 0 0 0 0 0 0 0 0]\n",
            " [0 0 0 0 0 0 0 0 0 0]]\n",
            "[[ 0 -1 -1 -1 -1 -1 -1 -1 -1 -1]\n",
            " [-1 -1 -1 -1 -1 -1 -1 -1 -1 -1]\n",
            " [-1 -1 -1 -1 -1 -1 -1 -1 -1 -1]\n",
            " [-1 -1 -1 -1 -1 -1 -1 -1 -1 -1]\n",
            " [-1 -1 -1 -1 -1 -1 -1 -1 -1 -1]\n",
            " [-1 -1 -1 -1 -1 -1 -1 -1 -1 -1]\n",
            " [-1 -1 -1 -1 -1 -1 -1 -1 -1 -1]\n",
            " [-1 -1 -1 -1 -1 -1 -1 -1 -1 -1]\n",
            " [-1 -1 -1 -1 -1 -1 -1 -1 -1 -1]\n",
            " [-1 -1 -1 -1 -1 -1 -1 -1 -1 -1]]\n",
            "[0 0]\n",
            "1000\n",
            "[[0, 0, 0, 1, 0, 1, 0, 1, 0, 0], [0, 0, 0, 0, 0, 1, 0, 0, 0, 0], [0, 1, 0, 1, 0, 0, 0, 1, 1, 0], [0, 0, 0, 0, 0, 1, 0, 0, 0, 0], [0, 1, 0, 0, 0, 1, 0, 0, 1, 0], [1, 0, 1, 0, 0, 1, 0, 1, 0, 0], [0, 0, 1, 0, 1, 0, 0, 0, 0, 0], [0, 0, 1, 0, 0, 1, 1, 1, 0, 0], [0, 1, 0, 1, 0, 0, 0, 1, 1, 0], [0, 0, 0, 0, 1, 1, 1, 0, 1, 0]]\n",
            "0.0\n",
            "1000\n",
            "[0.0, 0.0, 0.0010001659393310547, 0.0010728836059570312, 0.0, 0.0009965896606445312, 0.0, 0.0009968280792236328, 0.0010755062103271484, 0.0, 0.0, 0.0, 0.0, 0.0009984970092773438, 0.0, 0.0, 0.0009953975677490234, 0.001003265380859375, 0.0, 0.0, 0.0, 0.0, 0.0009999275207519531, 0.0, 0.0, 0.0, 0.0, 0.0, 0.0, 0.0009999275207519531, 0.0, 0.0009996891021728516, 0.0, 0.0, 0.0, 0.0010008811950683594, 0.0010001659393310547, 0.0, 0.0, 0.0010001659393310547, 0.0010001659393310547, 0.0009999275207519531, 0.0, 0.0, 0.0, 0.0, 0.0005362033843994141, 0.0, 0.0010001659393310547, 0.0, 0.0010001659393310547, 0.0, 0.0009999275207519531, 0.0, 0.0, 0.0, 0.0, 0.0, 0.0, 0.0, 0.0009999275207519531, 0.0, 0.0, 0.0, 0.0, 0.0, 0.0005261898040771484, 0.0, 0.00099945068359375, 0.0, 0.0, 0.0, 0.0010001659393310547, 0.0, 0.0, 0.0, 0.0010521411895751953, 0.0, 0.0, 0.0010001659393310547, 0.0010006427764892578, 0.0, 0.0, 0.0, 0.0, 0.0009920597076416016, 0.0, 0.0010013580322265625, 0.0, 0.0010001659393310547, 0.001068115234375, 0.0, 0.0, 0.0, 0.0, 0.0, 0.0009999275207519531, 0.0010585784912109375, 0.0, 0.0, 0.0009999275207519531, 0.0, 0.0, 0.0, 0.0, 0.0, 0.0, 0.0009999275207519531, 0.0, 0.0009999275207519531, 0.0, 0.0, 0.0010001659393310547, 0.0, 0.0, 0.0, 0.0, 0.0, 0.0010001659393310547, 0.0, 0.0, 0.0, 0.0, 0.00019669532775878906, 0.0010001659393310547, 0.0, 0.0, 0.0009996891021728516, 0.0009999275207519531, 0.0, 0.0, 0.0, 0.0005033016204833984, 0.0, 0.0, 0.0, 0.0, 0.0, 0.000993490219116211, 0.0, 0.0, 0.0, 0.0, 0.0, 0.0009999275207519531, 0.0, 0.0, 0.0, 0.0, 0.0010001659393310547, 0.0, 0.0009999275207519531, 0.0, 0.0, 0.0, 0.0009996891021728516, 0.0, 0.0009999275207519531, 0.0, 0.0, 0.0, 0.0, 0.0, 0.0009999275207519531, 0.0, 0.0, 0.0, 0.0, 0.0, 0.0, 0.0, 0.0, 0.0010950565338134766, 0.0, 0.0010004043579101562, 0.0, 0.0, 0.0, 0.0, 0.0, 0.0, 0.0, 0.0, 0.0, 0.0, 0.0, 0.0, 0.0, 0.0009942054748535156, 0.0010218620300292969, 0.0009999275207519531, 0.0, 0.0, 0.0010027885437011719, 0.0, 0.0009980201721191406, 0.0009996891021728516, 0.0, 0.0, 0.0, 0.00013899803161621094, 0.0, 0.0014300346374511719, 0.0, 0.0, 0.0, 0.0, 0.0, 0.00099945068359375, 0.0, 0.0, 0.0, 0.0, 0.0, 0.0, 0.0, 0.0, 0.0, 0.0, 0.0, 0.0, 0.0, 0.0, 0.0010008811950683594, 0.0, 0.0010006427764892578, 0.0009999275207519531, 0.0, 0.0, 0.0, 0.0010001659393310547, 0.0, 0.0, 0.0009033679962158203, 0.0, 0.0, 0.0, 0.0010013580322265625, 0.001528024673461914, 0.0009996891021728516, 0.0010416507720947266, 0.0, 0.0, 0.0, 0.0, 0.0, 0.0, 0.0, 0.0009999275207519531, 0.0010805130004882812, 0.0, 0.0, 0.0010008811950683594, 0.0, 0.0010440349578857422, 0.0, 0.0, 0.0, 0.0009999275207519531, 0.0, 0.0, 0.0, 0.0, 0.0, 0.0010890960693359375, 0.0, 0.001003265380859375, 0.00101470947265625, 0.0, 0.0009992122650146484, 0.0, 0.0010006427764892578, 0.0, 0.0010056495666503906, 0.0009596347808837891, 0.0, 0.0, 0.0, 0.0, 0.0, 0.0, 0.0, 0.0, 0.0010001659393310547, 0.0010001659393310547, 0.0, 0.0010008811950683594, 0.0, 0.0, 0.0, 0.0, 0.0, 0.0010004043579101562, 0.0, 0.0, 0.0009987354278564453, 0.0, 0.0, 0.0010004043579101562, 0.0, 0.0, 0.0, 0.0, 0.0, 0.0, 0.0010004043579101562, 0.0, 0.0010004043579101562, 0.0, 0.0, 0.0010001659393310547, 0.0, 0.0011374950408935547, 0.0009989738464355469, 0.0, 0.00021266937255859375, 0.0, 0.0, 0.0, 0.001001119613647461, 0.0, 0.0, 0.0, 0.0, 0.0, 0.0, 0.0010001659393310547, 0.0, 0.0010001659393310547, 0.0, 0.0, 0.0010898113250732422, 0.0, 0.0, 0.0, 0.0, 0.0, 0.0, 0.0, 0.0, 0.0, 0.0010006427764892578, 0.0010006427764892578, 0.0, 0.0010936260223388672, 0.0006184577941894531, 0.0009922981262207031, 0.0, 0.0, 0.0010001659393310547, 0.0, 0.0010006427764892578, 0.0, 0.0, 0.0, 0.0, 0.0010290145874023438, 0.0, 0.0, 0.0, 0.0, 0.0, 0.0, 0.0, 0.0, 0.0, 0.0, 0.0004990100860595703, 0.0, 0.000982522964477539, 0.0009205341339111328, 0.0009436607360839844, 0.0, 0.0, 0.0, 0.0, 0.0010001659393310547, 0.0, 0.0, 0.0, 0.0009911060333251953, 0.0, 0.0, 0.0, 0.0, 0.0, 0.0, 0.0, 0.0009732246398925781, 0.0, 0.0, 0.0, 0.0, 0.0009243488311767578, 0.0, 0.0, 0.0, 0.0, 0.0, 0.0010328292846679688, 0.0, 0.0, 0.0, 0.0, 0.0010008811950683594, 0.0, 0.0, 0.0010294914245605469, 0.0, 0.0010044574737548828, 0.0010390281677246094, 0.0, 0.0, 0.0, 0.001003265380859375, 0.0, 0.0, 0.0010118484497070312, 0.0011620521545410156, 0.0, 0.0, 0.0, 0.0, 0.0, 0.0, 0.0, 0.0, 0.0, 0.0, 0.0009911060333251953, 0.0, 0.0009894371032714844, 0.0, 0.0009996891021728516, 0.0, 0.0, 0.0, 0.0, 0.0010006427764892578, 0.0, 0.001001119613647461, 0.0, 0.0, 0.0009970664978027344, 0.0, 0.0, 0.0010106563568115234, 0.0, 0.0010004043579101562, 0.0, 0.0, 0.0, 0.0, 0.0, 0.00024771690368652344, 0.0, 0.0010001659393310547, 0.0, 0.0010004043579101562, 0.0010006427764892578, 0.0, 0.0, 0.0, 0.0, 0.0009903907775878906, 0.0, 0.0009965896606445312, 0.0, 0.0, 0.0, 0.0, 0.0, 0.0, 0.0, 0.0, 0.0, 0.0, 0.0, 0.0009999275207519531, 0.0010302066802978516, 0.0, 0.0, 0.0, 0.0, 0.0010027885437011719, 0.0, 0.0010013580322265625, 0.0, 0.0011303424835205078, 0.0, 0.0009968280792236328, 0.0, 0.0003952980041503906, 0.0, 0.0, 0.0, 0.0, 0.0, 0.0, 0.0, 0.0, 0.0, 0.0009944438934326172, 0.0, 0.0, 0.0010044574737548828, 0.0010008811950683594, 0.0010006427764892578, 0.0009996891021728516, 0.0, 0.0009887218475341797, 0.0, 0.0, 0.0, 0.0010793209075927734, 0.0, 0.0, 0.0, 0.0010764598846435547, 0.0, 0.0, 0.0, 0.0, 0.0, 0.0, 0.0, 0.0, 0.0, 0.00019431114196777344, 0.0009996891021728516, 0.0, 0.0010013580322265625, 0.0, 0.0010673999786376953, 0.0, 0.0, 0.0, 0.0, 0.0, 0.0, 0.0, 0.0014958381652832031, 0.00099945068359375, 0.0, 0.0, 0.0009999275207519531, 0.0, 0.0, 0.000995635986328125, 0.0, 0.0, 0.0010004043579101562, 0.0, 0.0010116100311279297, 0.0, 0.0, 0.0, 0.0, 0.0009856224060058594, 0.0010056495666503906, 0.0, 0.0009860992431640625, 0.0, 0.0, 0.0009999275207519531, 0.0, 0.0, 0.0, 0.0010213851928710938, 0.0, 0.0, 0.0, 0.0, 0.0, 0.0, 0.0010001659393310547, 0.0, 0.0010008811950683594, 0.0, 0.001001596450805664, 0.0, 0.0009870529174804688, 0.0, 0.0, 0.0, 0.0, 0.0009925365447998047, 0.0, 0.0, 0.0, 0.0, 0.0, 0.0009999275207519531, 0.0, 0.000989675521850586, 0.0010385513305664062, 0.0, 0.0009965896606445312, 0.0010001659393310547, 0.0, 0.0010228157043457031, 0.0, 0.0, 0.0, 0.0010046958923339844, 0.0, 0.0010104179382324219, 0.0010058879852294922, 0.001085042953491211, 0.0, 0.0, 0.0009989738464355469, 0.0010669231414794922, 0.0, 0.0, 0.0005006790161132812, 0.0010001659393310547, 0.0, 0.0009238719940185547, 0.0, 0.0, 0.0, 0.0, 0.0, 0.0009920597076416016, 0.0, 0.0, 0.0, 0.0, 0.0, 0.0, 0.0009899139404296875, 0.0009965896606445312, 0.0010023117065429688, 0.0010025501251220703, 0.0, 0.0010025501251220703, 0.0, 0.0, 0.0, 0.0, 0.0, 0.0, 0.0, 0.0, 0.0, 0.0, 0.0, 0.0, 0.0, 0.0, 0.0, 0.0, 0.0009989738464355469, 0.00099945068359375, 0.0, 0.0010006427764892578, 0.0, 0.0, 0.0, 0.00107574462890625, 0.0, 0.0, 0.0010006427764892578, 0.0, 0.0, 0.0, 0.0005006790161132812, 0.0, 0.0, 0.0009970664978027344, 0.0, 0.0010013580322265625, 0.0, 0.001001596450805664, 0.0010004043579101562, 0.0, 0.0, 0.0010025501251220703, 0.0, 0.0, 0.0, 0.0, 0.0, 0.0, 0.0010387897491455078, 0.0, 0.0, 0.0009908676147460938, 0.0, 0.0010690689086914062, 0.0, 0.0, 0.0, 0.0, 0.0004999637603759766, 0.0010848045349121094, 0.0011241436004638672, 0.0, 0.0, 0.0, 0.0, 0.0, 0.0010008811950683594, 0.0015499591827392578, 0.0, 0.0010061264038085938, 0.0, 0.0005006790161132812, 0.0009999275207519531, 0.0, 0.0010008811950683594, 0.0, 0.0010004043579101562, 0.0010006427764892578, 0.0, 0.0, 0.0010008811950683594, 0.0, 0.00099945068359375, 0.0, 0.0010006427764892578, 0.0009999275207519531, 0.0010004043579101562, 0.0, 0.0, 0.0, 0.0, 0.0, 0.0010001659393310547, 0.0, 0.0, 0.000997304916381836, 0.0, 0.0, 0.0, 0.0, 0.0010004043579101562, 0.0009996891021728516, 0.0, 0.000997781753540039, 0.0, 0.0010008811950683594, 0.0, 0.0, 0.0010001659393310547, 0.0, 0.0010001659393310547, 0.0, 0.0, 0.0, 0.0, 0.0010001659393310547, 0.0, 0.0, 0.0, 0.0, 0.0010006427764892578, 0.0, 0.0, 0.0, 0.0, 0.00103759765625, 0.0, 0.0, 0.0, 0.0, 0.0009982585906982422, 0.0, 0.0, 0.0, 0.0, 0.0, 0.0, 0.0010006427764892578, 0.0, 0.0, 0.0010018348693847656, 0.0, 0.0009930133819580078, 0.0010004043579101562, 0.0011208057403564453, 0.0016775131225585938, 0.0005002021789550781, 0.000499725341796875, 0.0004999637603759766, 0.0, 0.0, 0.0, 0.0, 0.0, 0.0, 0.0, 0.0, 0.0, 0.0, 0.0, 0.0, 0.0, 0.0, 0.0, 0.000997781753540039, 0.0, 0.0009889602661132812, 0.0, 0.0, 0.0010402202606201172, 0.0, 0.0, 0.0, 0.0, 0.0, 0.0, 0.0003371238708496094, 0.0009965896606445312, 0.0, 0.0, 0.0009908676147460938, 0.0, 0.0, 0.0, 0.0010001659393310547, 0.0009717941284179688, 0.0, 0.0, 0.0, 0.0, 0.0, 0.0010001659393310547, 0.0, 0.0, 0.0010004043579101562, 0.0, 0.0, 0.0005013942718505859, 0.0, 0.0, 0.0, 0.0010571479797363281, 0.0010008811950683594, 0.0, 0.0, 0.0, 0.0, 0.0, 0.0, 0.0, 0.0, 0.0, 0.0009636878967285156, 0.0009703636169433594, 0.0, 0.0, 0.0, 0.0, 0.0011126995086669922, 0.0, 0.0, 0.001001596450805664, 0.0, 0.0010006427764892578, 0.0, 0.0010001659393310547, 0.0009255409240722656, 0.0010340213775634766, 0.0, 0.0009911060333251953, 0.0, 0.0010008811950683594, 0.0, 0.0, 0.0, 0.0012035369873046875, 0.0, 0.0, 0.0010025501251220703, 0.0, 0.0, 0.0, 0.0, 0.0, 0.0009999275207519531, 0.0, 0.0, 0.0, 0.0, 0.0, 0.0, 0.001004934310913086, 0.0, 0.0, 0.0010538101196289062, 0.000997781753540039, 0.0, 0.0, 0.0, 0.0, 0.0, 0.0, 0.0, 0.0009648799896240234, 0.0, 0.0010004043579101562, 0.0, 0.0, 0.0011403560638427734, 0.0, 0.0, 0.001039743423461914, 0.0, 0.0, 0.0, 0.0, 0.0, 0.001077413558959961, 0.0009713172912597656, 0.0010666847229003906, 0.0, 0.0, 0.0, 0.0, 0.0, 0.0010061264038085938, 0.0, 0.0010123252868652344, 0.001039743423461914, 0.0, 0.0, 0.0, 0.0, 0.0, 0.0, 0.0, 0.0010004043579101562, 0.00099945068359375, 0.0013196468353271484, 0.0010027885437011719, 0.0010008811950683594, 0.0, 0.0010085105895996094, 0.0, 0.001007080078125, 0.0, 0.000997304916381836, 0.0011682510375976562, 0.0010001659393310547, 0.0, 0.0, 0.0, 0.0, 0.0005002021789550781, 0.0010840892791748047, 0.0, 0.0, 0.0007348060607910156, 0.0, 0.0, 0.0, 0.0, 0.00119781494140625, 0.0010907649993896484, 0.0, 0.0, 0.0, 0.0009210109710693359, 0.0009882450103759766, 0.0, 0.0, 0.0, 0.0010018348693847656, 0.0, 0.0, 0.0, 0.0, 0.0, 0.0, 0.0009992122650146484, 0.0, 0.000978708267211914, 0.0004966259002685547, 0.0, 0.0009922981262207031, 0.0, 0.0, 0.001001119613647461, 0.0, 0.0, 0.0, 0.0, 0.0, 0.0, 0.0010004043579101562, 0.0, 0.0, 0.0, 0.0, 0.0, 0.0, 0.0, 0.0]\n",
            "10\n"
          ]
        }
      ]
    },
    {
      "cell_type": "markdown",
      "source": [
        "Add position to knowledge grid"
      ],
      "metadata": {
        "id": "O80q3yHqJujg"
      }
    },
    {
      "cell_type": "markdown",
      "source": [
        ""
      ],
      "metadata": {
        "id": "onHal3S9JtOT"
      }
    },
    {
      "cell_type": "code",
      "source": [
        "X_train, X_test, Y_train, Y_test = train_test_split(X, Y, test_size=0.33, shuffle=False)\n",
        "train_length = len(Y_train)\n",
        "test_length = len(Y_test)\n"
      ],
      "metadata": {
        "id": "dsE5a_cIQ02I"
      },
      "execution_count": 6,
      "outputs": []
    },
    {
      "cell_type": "code",
      "source": [
        "print(\"train length: {0}, test length: {1}\".format(train_length, test_length))\n",
        "print(\"x_train length: {0}, x_test length: {1}\".format(len(X_train), len(X_test)))\n",
        "print(index_dict[train_length - 1])\n",
        "print(index_dict[train_length])"
      ],
      "metadata": {
        "id": "Vl9oi-Cfgkna",
        "colab": {
          "base_uri": "https://localhost:8080/"
        },
        "outputId": "6d626956-d8db-457b-cfdd-63478d222fc0"
      },
      "execution_count": 7,
      "outputs": [
        {
          "output_type": "stream",
          "name": "stdout",
          "text": [
            "train length: 23186, test length: 11420\n",
            "x_train length: 23186, x_test length: 11420\n",
            "[661]\n",
            "[661]\n"
          ]
        }
      ]
    },
    {
      "cell_type": "code",
      "source": [
        "train_maze_count = index_dict[train_length][0]\n",
        "def Adjust_Train_test_Lengths():\n",
        "  if index_dict[train_length-1][0] == index_dict[train_length][0]:\n",
        "    for i in range(test_length):\n",
        "      if index_dict[train_length + i][0] == train_maze_count:\n",
        "        element = X_test.pop(0)\n",
        "        X_train.append(element)\n",
        "        element = Y_test.pop(0)\n",
        "        Y_train.append(element)\n",
        "      else:\n",
        "        break\n",
        "\n",
        "Adjust_Train_test_Lengths()\n",
        "X_train_position = position_dict[0:len(X_train)]\n",
        "X_test_position = position_dict[len(X_train):data_count]\n",
        "X_PS_train = X_PS[0:len(X_train)]\n",
        "X_PS_test = X_PS[len(X_train):data_count]\n",
        "\n",
        "train_length = len(Y_train)\n",
        "test_length = len(Y_test)\n",
        "train_maze_count = index_dict[train_length-1][0]\n",
        "maze_count = index_dict[data_count-1][0]\n",
        "test_maze_count = maze_count - train_maze_count"
      ],
      "metadata": {
        "id": "jtFJsxqVUqPe"
      },
      "execution_count": 8,
      "outputs": []
    },
    {
      "cell_type": "code",
      "source": [
        "print('after')\n",
        "print(\"total maze count: {0}, train maze count: {1}, test maze count: {2}\".format(maze_count, train_maze_count, test_maze_count))\n",
        "print(\"x_train length: {0}, x_test length: {1}\".format(len(X_train), len(X_test)))\n",
        "#print(X_train[train_length - 1])\n",
        "print(X_test[0])\n",
        "print(X_test[1])\n",
        "print(index_dict[train_length - 1])\n",
        "print(index_dict[train_length])"
      ],
      "metadata": {
        "id": "fI1djZ6eaIoK",
        "colab": {
          "base_uri": "https://localhost:8080/"
        },
        "outputId": "3e14705e-40c0-4e70-a13e-65ab1103c6f2"
      },
      "execution_count": 9,
      "outputs": [
        {
          "output_type": "stream",
          "name": "stdout",
          "text": [
            "after\n",
            "total maze count: 1000, train maze count: 661, test maze count: 339\n",
            "x_train length: 23200, x_test length: 11406\n",
            "[[0 0 0 0 0 0 0 0 0 0]\n",
            " [0 0 0 0 0 0 0 0 0 0]\n",
            " [0 0 0 0 0 0 0 0 0 0]\n",
            " [0 0 0 0 0 0 0 0 0 0]\n",
            " [0 0 0 0 0 0 0 0 0 0]\n",
            " [0 0 0 0 0 0 0 0 0 0]\n",
            " [0 0 0 0 0 0 0 0 0 0]\n",
            " [0 0 0 0 0 0 0 0 0 0]\n",
            " [0 0 0 0 0 0 0 0 0 0]\n",
            " [0 0 0 0 0 0 0 0 0 0]]\n",
            "[[0 0 0 0 0 0 0 0 0 0]\n",
            " [0 0 0 0 0 0 0 0 0 0]\n",
            " [0 0 0 0 0 0 0 0 0 0]\n",
            " [0 0 0 0 0 0 0 0 0 0]\n",
            " [0 0 0 0 0 0 0 0 0 0]\n",
            " [0 0 0 0 0 0 0 0 0 0]\n",
            " [0 0 0 0 0 0 0 0 0 0]\n",
            " [0 0 0 0 0 0 0 0 0 0]\n",
            " [0 0 0 0 0 0 0 0 0 0]\n",
            " [0 0 0 0 0 0 0 0 0 0]]\n",
            "[661]\n",
            "[662]\n"
          ]
        }
      ]
    },
    {
      "cell_type": "code",
      "source": [
        "train_in_position = np.reshape(X_train_position, (-1, 1*2, ))\n",
        "test_in_position = np.reshape(X_test_position, (-1, 1*2, ))\n",
        "\n",
        "train_in_X_PS = np.reshape(X_PS_train, (-1, gridSize, gridSize))\n",
        "test_in_X_PS = np.reshape(X_PS_test, (-1, gridSize, gridSize))\n",
        "\n",
        "train_in_X = np.reshape(X_train, (-1, gridSize, gridSize))\n",
        "test_in_X = np.reshape(X_test, (-1, gridSize, gridSize))\n",
        "\n",
        "train_out = tf.keras.utils.to_categorical( Y_train, 4 )\n",
        "test_out = tf.keras.utils.to_categorical( Y_test, 4 )"
      ],
      "metadata": {
        "id": "I22_T4mSdksa"
      },
      "execution_count": 10,
      "outputs": []
    },
    {
      "cell_type": "code",
      "source": [
        "grid_input = tf.keras.layers.Input( shape = (gridSize,gridSize) )\n",
        "grid_input_PS = tf.keras.layers.Input( shape = (gridSize,gridSize) )\n",
        "position_input = tf.keras.layers.Input(shape = (1*2, ))\n",
        "\n",
        "flatten_grid = tf.keras.layers.Flatten()(grid_input)\n",
        "flatten_grid_PS = tf.keras.layers.Flatten()(grid_input_PS)\n",
        "concat = tf.keras.layers.concatenate([flatten_grid, flatten_grid_PS, position_input])\n",
        "dense_1 = tf.keras.layers.Dense( units = 200, activation = tf.nn.relu )( concat )\n",
        "dense_2 = tf.keras.layers.Dense( units = 100, activation = tf.nn.relu )( dense_1 )\n",
        "dense_3 = tf.keras.layers.Dense( units = 50, activation = tf.nn.relu )( dense_2 )\n",
        "dense_4 = tf.keras.layers.Dense( units = 25, activation = tf.nn.relu )( dense_3 )\n",
        "actions_output = tf.keras.layers.Dense( units = 4, activation = None )( dense_4 )\n",
        "probabilities = tf.keras.layers.Softmax()( actions_output )\n",
        "\n",
        "model = tf.keras.Model( inputs = [grid_input, grid_input_PS, position_input], outputs = probabilities )\n",
        "model.compile( optimizer = 'adam', loss = 'categorical_crossentropy', metrics = ['accuracy'] )"
      ],
      "metadata": {
        "id": "Dt9i85sqOHTn"
      },
      "execution_count": 11,
      "outputs": []
    },
    {
      "cell_type": "code",
      "source": [
        "def directionFromAction(action, position):\n",
        "  direction = ()\n",
        "  if action == 0:\n",
        "    # towards right\n",
        "    direction = (0 + position[0], 1 + position[1])\n",
        "  elif action == 1: \n",
        "    # towards down\n",
        "    direction = (1 + position[0], 0 + position[1])\n",
        "  elif action == 2:\n",
        "    # towards up\n",
        "    direction = (-1 + position[0], 0 + position[1])\n",
        "  elif action == 3:\n",
        "  # towards left\n",
        "    direction = (0 + position[0], -1 + position[1])\n",
        "  \n",
        "  return direction\n",
        "\n",
        "def generate_confusion_matrix(data, labels):\n",
        "  mat = [[ 0 for i in range(4)] for j in range(4)]\n",
        "\n",
        "  predictions = np.argmax( model.predict(data), axis = 1 )\n",
        "\n",
        "  for i in range(data[0].shape[0]):\n",
        "    mat[ labels[i] ][ predictions[i] ] += 1\n",
        "    #if i>=0 and i<= 30:\n",
        "      #print(predictions[i])\n",
        "\n",
        "  for i in range(4):\n",
        "    print( \"\\t\".join( [ str(c) for c in mat[i] ] ) )\n",
        "\n",
        "  return mat\n",
        "\n",
        "def AccuracyFrom_ConfusionMatrix(confusion_output):\n",
        "  correct = 0\n",
        "  incorrect = 0\n",
        "\n",
        "  for i in range(4):\n",
        "    for j in range(4):\n",
        "      if i==j:\n",
        "        correct += confusion_output[i][j]\n",
        "      else:\n",
        "        incorrect += confusion_output[i][j]\n",
        "\n",
        "  accuracy = correct/(correct+incorrect)\n",
        "  return accuracy\n"
      ],
      "metadata": {
        "id": "k27JH8C6T-Oc"
      },
      "execution_count": 12,
      "outputs": []
    },
    {
      "cell_type": "code",
      "source": [
        "confusion_output = generate_confusion_matrix([test_in_X, test_in_X_PS, test_in_position], Y_test)\n",
        "accuracy = AccuracyFrom_ConfusionMatrix(confusion_output)\n",
        "print(accuracy)\n"
      ],
      "metadata": {
        "colab": {
          "base_uri": "https://localhost:8080/"
        },
        "id": "_kJ4NXHqoRRT",
        "outputId": "38c8084f-6562-452c-a194-35808d1fc782"
      },
      "execution_count": 13,
      "outputs": [
        {
          "output_type": "stream",
          "name": "stdout",
          "text": [
            "23\t259\t1419\t3900\n",
            "14\t158\t826\t3257\n",
            "3\t8\t71\t248\n",
            "7\t54\t238\t921\n",
            "0.10284061020515518\n"
          ]
        }
      ]
    },
    {
      "cell_type": "code",
      "source": [
        "history = model.fit([train_in_X, train_in_X_PS, train_in_position], train_out, epochs = 15)"
      ],
      "metadata": {
        "id": "BhIz2b2SqEpH",
        "colab": {
          "base_uri": "https://localhost:8080/"
        },
        "outputId": "a224adf7-57c3-43e8-a45f-7091bf17c49d"
      },
      "execution_count": 14,
      "outputs": [
        {
          "output_type": "stream",
          "name": "stdout",
          "text": [
            "Epoch 1/15\n",
            "725/725 [==============================] - 3s 3ms/step - loss: 0.9750 - accuracy: 0.5659\n",
            "Epoch 2/15\n",
            "725/725 [==============================] - 2s 3ms/step - loss: 0.7652 - accuracy: 0.6627\n",
            "Epoch 3/15\n",
            "725/725 [==============================] - 2s 3ms/step - loss: 0.5933 - accuracy: 0.7465\n",
            "Epoch 4/15\n",
            "725/725 [==============================] - 2s 3ms/step - loss: 0.4968 - accuracy: 0.7869\n",
            "Epoch 5/15\n",
            "725/725 [==============================] - 2s 3ms/step - loss: 0.4350 - accuracy: 0.8134\n",
            "Epoch 6/15\n",
            "725/725 [==============================] - 2s 3ms/step - loss: 0.3877 - accuracy: 0.8353\n",
            "Epoch 7/15\n",
            "725/725 [==============================] - 2s 3ms/step - loss: 0.3470 - accuracy: 0.8542\n",
            "Epoch 8/15\n",
            "725/725 [==============================] - 2s 3ms/step - loss: 0.3188 - accuracy: 0.8634\n",
            "Epoch 9/15\n",
            "725/725 [==============================] - 2s 3ms/step - loss: 0.2989 - accuracy: 0.8712\n",
            "Epoch 10/15\n",
            "725/725 [==============================] - 2s 3ms/step - loss: 0.2871 - accuracy: 0.8800\n",
            "Epoch 11/15\n",
            "725/725 [==============================] - 2s 3ms/step - loss: 0.2736 - accuracy: 0.8836\n",
            "Epoch 12/15\n",
            "725/725 [==============================] - 2s 3ms/step - loss: 0.2523 - accuracy: 0.8918\n",
            "Epoch 13/15\n",
            "725/725 [==============================] - 2s 3ms/step - loss: 0.2455 - accuracy: 0.8954\n",
            "Epoch 14/15\n",
            "725/725 [==============================] - 2s 3ms/step - loss: 0.2239 - accuracy: 0.9037\n",
            "Epoch 15/15\n",
            "725/725 [==============================] - 2s 3ms/step - loss: 0.2238 - accuracy: 0.9074\n"
          ]
        }
      ]
    },
    {
      "cell_type": "code",
      "source": [
        "confusion_output = generate_confusion_matrix([test_in_X, test_in_X_PS, test_in_position], Y_test)\n",
        "accuracy = AccuracyFrom_ConfusionMatrix(confusion_output)\n",
        "\n",
        "print(accuracy)\n"
      ],
      "metadata": {
        "colab": {
          "base_uri": "https://localhost:8080/"
        },
        "id": "56RaUgBmqIrO",
        "outputId": "4be52d2c-36e3-4507-cfc9-a52bc064cf6a"
      },
      "execution_count": 15,
      "outputs": [
        {
          "output_type": "stream",
          "name": "stdout",
          "text": [
            "5121\t409\t33\t38\n",
            "343\t3637\t31\t244\n",
            "34\t40\t128\t128\n",
            "16\t310\t101\t793\n",
            "0.8485884622128704\n"
          ]
        }
      ]
    },
    {
      "cell_type": "code",
      "source": [
        "model.save('model_agent3_dim10_1000.hf5')\n",
        "#model_file = ''\n",
        "#model=load_model(model_file)\n",
        "#model.summary()"
      ],
      "metadata": {
        "id": "LbyS47lGgTyH",
        "colab": {
          "base_uri": "https://localhost:8080/"
        },
        "outputId": "f369614e-a46d-4b65-f705-4a46038f3be7"
      },
      "execution_count": 16,
      "outputs": [
        {
          "output_type": "stream",
          "name": "stdout",
          "text": [
            "INFO:tensorflow:Assets written to: model_agent3_dim10_1000.hf5/assets\n"
          ]
        }
      ]
    },
    {
      "cell_type": "code",
      "source": [
        "model=load_model('model_agent3_dim10_1000.hf5')\n",
        "model.summary()"
      ],
      "metadata": {
        "colab": {
          "base_uri": "https://localhost:8080/"
        },
        "id": "hOZj49Z0N8Ue",
        "outputId": "c1279a94-5253-497b-b917-1a1722367aa6"
      },
      "execution_count": 17,
      "outputs": [
        {
          "output_type": "stream",
          "name": "stdout",
          "text": [
            "Model: \"model\"\n",
            "__________________________________________________________________________________________________\n",
            " Layer (type)                   Output Shape         Param #     Connected to                     \n",
            "==================================================================================================\n",
            " input_1 (InputLayer)           [(None, 10, 10)]     0           []                               \n",
            "                                                                                                  \n",
            " input_2 (InputLayer)           [(None, 10, 10)]     0           []                               \n",
            "                                                                                                  \n",
            " flatten (Flatten)              (None, 100)          0           ['input_1[0][0]']                \n",
            "                                                                                                  \n",
            " flatten_1 (Flatten)            (None, 100)          0           ['input_2[0][0]']                \n",
            "                                                                                                  \n",
            " input_3 (InputLayer)           [(None, 2)]          0           []                               \n",
            "                                                                                                  \n",
            " concatenate (Concatenate)      (None, 202)          0           ['flatten[0][0]',                \n",
            "                                                                  'flatten_1[0][0]',              \n",
            "                                                                  'input_3[0][0]']                \n",
            "                                                                                                  \n",
            " dense (Dense)                  (None, 200)          40600       ['concatenate[0][0]']            \n",
            "                                                                                                  \n",
            " dense_1 (Dense)                (None, 100)          20100       ['dense[0][0]']                  \n",
            "                                                                                                  \n",
            " dense_2 (Dense)                (None, 50)           5050        ['dense_1[0][0]']                \n",
            "                                                                                                  \n",
            " dense_3 (Dense)                (None, 25)           1275        ['dense_2[0][0]']                \n",
            "                                                                                                  \n",
            " dense_4 (Dense)                (None, 4)            104         ['dense_3[0][0]']                \n",
            "                                                                                                  \n",
            " softmax (Softmax)              (None, 4)            0           ['dense_4[0][0]']                \n",
            "                                                                                                  \n",
            "==================================================================================================\n",
            "Total params: 67,129\n",
            "Trainable params: 67,129\n",
            "Non-trainable params: 0\n",
            "__________________________________________________________________________________________________\n"
          ]
        }
      ]
    },
    {
      "cell_type": "code",
      "source": [
        "directions = [[0,1], [1, 0], [-1, 0], [0, -1]]\n",
        "\n",
        "neighbours_in_8_directions = [[0, 1], # towards East\n",
        "                                 [1, 0],  # towards south\n",
        "                                 [-1, 0], # towards north\n",
        "                                 [0, -1], # towards west\n",
        "                                 [1, 1],  # towards SE\n",
        "                                 [-1, 1], # towards NE\n",
        "                                 [-1, -1],# towards NW\n",
        "                                 [1, -1]] # towards SW\n",
        "\n",
        "def Update_blocked_NeighborsIn_8_Directions(maze,kg_PS,pos):\n",
        "  #neighbourNodes = []\n",
        "  if kg_PS[pos[0]][pos[1]] == -1:\n",
        "    blocked = 0\n",
        "    for newPosition in neighbours_in_8_directions:\n",
        "    # Get the position of the node in maze\n",
        "        nodeLocation = (pos[0] + newPosition[0], pos[1] + newPosition[1])\n",
        "\n",
        "        #Check if the node position is within the maze dimensions\n",
        "        if CheckValidPosition(nodeLocation) and maze[nodeLocation[0]][nodeLocation[1]] == 1:\n",
        "          #neighbourNodes.append(nodeLocation)\n",
        "          blocked += 1\n",
        "\n",
        "    kg_PS[pos[0]][pos[1]] = blocked\n",
        "  return kg_PS\n",
        "  \n",
        "def getUpdatedPos(kg, pos):\n",
        "  positions = []\n",
        "  for i in directions:\n",
        "    new_position = [pos[0] + i[0], pos[1] + i[1]]\n",
        "    #if new_position[0] >= 0 and new_position[0] < gridSize and new_position[1] >= 0 and new_position[1] < gridSize:\n",
        "    if CheckValidPosition(new_position):\n",
        "      if kg[new_position[0]][new_position[1]] != 1:\n",
        "        positions.append(new_position)\n",
        "\n",
        "  rand = np.random.randint(len(positions))     \n",
        "  pos[0] = positions[rand][0]\n",
        "  pos[1] = positions[rand][1]\n",
        "  return pos\n",
        "\n",
        "\n",
        "def CheckValidPosition(position):\n",
        "  if position[0] >= 0 and position[0] < gridSize and position[1] >= 0 and position[1] < gridSize:\n",
        "    return True\n",
        "  else:\n",
        "    return False\n"
      ],
      "metadata": {
        "id": "ySsxeJE4d62H"
      },
      "execution_count": 18,
      "outputs": []
    },
    {
      "cell_type": "code",
      "source": [
        "def FindPathInTestGrids():\n",
        "  initial_grid = [[0 for i in range(gridSize)] for j in range(gridSize)]\n",
        "  initial_grid_PS = [[-1 for i in range(gridSize)] for j in range(gridSize)]\n",
        "  #initial_grid[0][0] = 0\n",
        "  #initial_grid[gridSize-1][gridSize-1] = 0\n",
        "  initial_position = np.array([[0, 0]]) #test_in_position[0:1]\n",
        "  pathLengths = []\n",
        "  TimeTaken = []\n",
        "  solved_grids = 0\n",
        "  unsolved_grids = 0\n",
        "\n",
        "  for i in range (train_maze_count+1, maze_count+1):\n",
        "  #for i in range (train_maze_count+1, maze_count+1):\n",
        "    pathFound = False\n",
        "    grid_number = i\n",
        "    pathlength = 0\n",
        "    time_One_grid =0\n",
        "    kg =  np.array([initial_grid])\n",
        "    kg_PS = np.array([initial_grid_PS])\n",
        "    pos = np.array([[0, 0]])\n",
        "    maze = maze_dict[i -1]\n",
        "    #print(maze)\n",
        "    #print(kg)\n",
        "    pos = np.array([[0, 0]])\n",
        "    #print(pos)\n",
        "    startTime = time.time()  # Start time \n",
        "    blockcount = 0\n",
        "\n",
        "    while pathFound == False:\n",
        "      #print(kg[0])\n",
        "      #print(pos)\n",
        "      #kg[0] = UpdateKg(maze, kg[0], pos[0])\n",
        "      kg_PS[0] = Update_blocked_NeighborsIn_8_Directions(maze, kg_PS[0], pos[0])\n",
        "      #print(kg[0])\n",
        "      pathlength += 1\n",
        "      #break\n",
        "      single_prediction = np.argmax(model.predict([kg, kg_PS, pos]), axis = 1)\n",
        "      direction = directionFromAction(single_prediction,pos[0])\n",
        "      #print(direction)\n",
        "      if direction == (gridSize-1, gridSize-1):\n",
        "        pathFound = True\n",
        "        pathLengths.append(pathlength)\n",
        "        endTime = time.time() #end time\n",
        "        time_One_grid = endTime - startTime\n",
        "        TimeTaken.append(time_One_grid)\n",
        "        solved_grids += 1\n",
        "        #print(pathlength)\n",
        "        #print(time_One_grid)\n",
        "        print('grid {0} solved'.format(solved_grids))\n",
        "        break\n",
        "      isDirectionValid = CheckValidPosition(direction)\n",
        "      if (isDirectionValid and maze[direction[0]][direction[1]] == 1) or (isDirectionValid == False):\n",
        "        #print('blocked')\n",
        "        if isDirectionValid:\n",
        "          kg[0][direction[0]][direction[1]] = maze[direction[0]][direction[1]]\n",
        "        pathlength += 1\n",
        "        pos[0] = getUpdatedPos(maze, pos[0])\n",
        "        #print(pos)\n",
        "        blockcount +=1\n",
        "        if blockcount > (gridSize*5):\n",
        "          print('limit excceeded')\n",
        "          unsolved_grids += 1\n",
        "          break\n",
        "      else:\n",
        "        #print('not blocked')\n",
        "        kg[0][pos[0][0]][pos[0][1]] = maze[pos[0][0]][pos[0][1]]\n",
        "        pos[0] = direction\n",
        "\n",
        "  return test_maze_count, pathLengths, TimeTaken, solved_grids, unsolved_grids\n",
        " "
      ],
      "metadata": {
        "id": "jL3YctPpZGbU"
      },
      "execution_count": 24,
      "outputs": []
    },
    {
      "cell_type": "code",
      "source": [
        "test_maze_count, pathLengths, TimeTaken, solved_grids, unsolved_grids = FindPathInTestGrids()\n",
        "print('test grids: {0}'.format(test_maze_count))\n",
        "print('path lengths : {0}'.format(pathLengths))\n",
        "print('Time taken: {0} '.format(TimeTaken))\n",
        "print('solved grids: {0}, unsolved grids : {1}'.format(solved_grids, unsolved_grids))\n",
        "#print(AstartTime_dict[train_maze_count: maze_count])"
      ],
      "metadata": {
        "colab": {
          "base_uri": "https://localhost:8080/",
          "height": 398
        },
        "id": "OqjWCy5sHJH4",
        "outputId": "2043093b-4120-4124-fc2b-cb06c3d84f9b"
      },
      "execution_count": 25,
      "outputs": [
        {
          "output_type": "error",
          "ename": "KeyboardInterrupt",
          "evalue": "ignored",
          "traceback": [
            "\u001b[0;31m---------------------------------------------------------------------------\u001b[0m",
            "\u001b[0;31mKeyboardInterrupt\u001b[0m                         Traceback (most recent call last)",
            "\u001b[0;32m<ipython-input-25-bf73214d3eeb>\u001b[0m in \u001b[0;36m<module>\u001b[0;34m()\u001b[0m\n\u001b[0;32m----> 1\u001b[0;31m \u001b[0mtest_maze_count\u001b[0m\u001b[0;34m,\u001b[0m \u001b[0mpathLengths\u001b[0m\u001b[0;34m,\u001b[0m \u001b[0mTimeTaken\u001b[0m\u001b[0;34m,\u001b[0m \u001b[0msolved_grids\u001b[0m\u001b[0;34m,\u001b[0m \u001b[0munsolved_grids\u001b[0m \u001b[0;34m=\u001b[0m \u001b[0mFindPathInTestGrids\u001b[0m\u001b[0;34m(\u001b[0m\u001b[0;34m)\u001b[0m\u001b[0;34m\u001b[0m\u001b[0;34m\u001b[0m\u001b[0m\n\u001b[0m\u001b[1;32m      2\u001b[0m \u001b[0mprint\u001b[0m\u001b[0;34m(\u001b[0m\u001b[0;34m'test grids: {0}'\u001b[0m\u001b[0;34m.\u001b[0m\u001b[0mformat\u001b[0m\u001b[0;34m(\u001b[0m\u001b[0mtest_maze_count\u001b[0m\u001b[0;34m)\u001b[0m\u001b[0;34m)\u001b[0m\u001b[0;34m\u001b[0m\u001b[0;34m\u001b[0m\u001b[0m\n\u001b[1;32m      3\u001b[0m \u001b[0mprint\u001b[0m\u001b[0;34m(\u001b[0m\u001b[0;34m'path lengths : {0}'\u001b[0m\u001b[0;34m.\u001b[0m\u001b[0mformat\u001b[0m\u001b[0;34m(\u001b[0m\u001b[0mpathLengths\u001b[0m\u001b[0;34m)\u001b[0m\u001b[0;34m)\u001b[0m\u001b[0;34m\u001b[0m\u001b[0;34m\u001b[0m\u001b[0m\n\u001b[1;32m      4\u001b[0m \u001b[0mprint\u001b[0m\u001b[0;34m(\u001b[0m\u001b[0;34m'Time taken: {0} '\u001b[0m\u001b[0;34m.\u001b[0m\u001b[0mformat\u001b[0m\u001b[0;34m(\u001b[0m\u001b[0mTimeTaken\u001b[0m\u001b[0;34m)\u001b[0m\u001b[0;34m)\u001b[0m\u001b[0;34m\u001b[0m\u001b[0;34m\u001b[0m\u001b[0m\n\u001b[1;32m      5\u001b[0m \u001b[0mprint\u001b[0m\u001b[0;34m(\u001b[0m\u001b[0;34m'solved grids: {0}, unsolved grids : {1}'\u001b[0m\u001b[0;34m.\u001b[0m\u001b[0mformat\u001b[0m\u001b[0;34m(\u001b[0m\u001b[0msolved_grids\u001b[0m\u001b[0;34m,\u001b[0m \u001b[0munsolved_grids\u001b[0m\u001b[0;34m)\u001b[0m\u001b[0;34m)\u001b[0m\u001b[0;34m\u001b[0m\u001b[0;34m\u001b[0m\u001b[0m\n",
            "\u001b[0;32m<ipython-input-24-e779659c93a8>\u001b[0m in \u001b[0;36mFindPathInTestGrids\u001b[0;34m()\u001b[0m\n\u001b[1;32m     35\u001b[0m       \u001b[0mpathlength\u001b[0m \u001b[0;34m+=\u001b[0m \u001b[0;36m1\u001b[0m\u001b[0;34m\u001b[0m\u001b[0;34m\u001b[0m\u001b[0m\n\u001b[1;32m     36\u001b[0m       \u001b[0;31m#break\u001b[0m\u001b[0;34m\u001b[0m\u001b[0;34m\u001b[0m\u001b[0;34m\u001b[0m\u001b[0m\n\u001b[0;32m---> 37\u001b[0;31m       \u001b[0msingle_prediction\u001b[0m \u001b[0;34m=\u001b[0m \u001b[0mnp\u001b[0m\u001b[0;34m.\u001b[0m\u001b[0margmax\u001b[0m\u001b[0;34m(\u001b[0m\u001b[0mmodel\u001b[0m\u001b[0;34m.\u001b[0m\u001b[0mpredict\u001b[0m\u001b[0;34m(\u001b[0m\u001b[0;34m[\u001b[0m\u001b[0mkg\u001b[0m\u001b[0;34m,\u001b[0m \u001b[0mkg_PS\u001b[0m\u001b[0;34m,\u001b[0m \u001b[0mpos\u001b[0m\u001b[0;34m]\u001b[0m\u001b[0;34m)\u001b[0m\u001b[0;34m,\u001b[0m \u001b[0maxis\u001b[0m \u001b[0;34m=\u001b[0m \u001b[0;36m1\u001b[0m\u001b[0;34m)\u001b[0m\u001b[0;34m\u001b[0m\u001b[0;34m\u001b[0m\u001b[0m\n\u001b[0m\u001b[1;32m     38\u001b[0m       \u001b[0mdirection\u001b[0m \u001b[0;34m=\u001b[0m \u001b[0mdirectionFromAction\u001b[0m\u001b[0;34m(\u001b[0m\u001b[0msingle_prediction\u001b[0m\u001b[0;34m,\u001b[0m\u001b[0mpos\u001b[0m\u001b[0;34m[\u001b[0m\u001b[0;36m0\u001b[0m\u001b[0;34m]\u001b[0m\u001b[0;34m)\u001b[0m\u001b[0;34m\u001b[0m\u001b[0;34m\u001b[0m\u001b[0m\n\u001b[1;32m     39\u001b[0m       \u001b[0;31m#print(direction)\u001b[0m\u001b[0;34m\u001b[0m\u001b[0;34m\u001b[0m\u001b[0;34m\u001b[0m\u001b[0m\n",
            "\u001b[0;32m/usr/local/lib/python3.7/dist-packages/keras/utils/traceback_utils.py\u001b[0m in \u001b[0;36merror_handler\u001b[0;34m(*args, **kwargs)\u001b[0m\n\u001b[1;32m     62\u001b[0m     \u001b[0mfiltered_tb\u001b[0m \u001b[0;34m=\u001b[0m \u001b[0;32mNone\u001b[0m\u001b[0;34m\u001b[0m\u001b[0;34m\u001b[0m\u001b[0m\n\u001b[1;32m     63\u001b[0m     \u001b[0;32mtry\u001b[0m\u001b[0;34m:\u001b[0m\u001b[0;34m\u001b[0m\u001b[0;34m\u001b[0m\u001b[0m\n\u001b[0;32m---> 64\u001b[0;31m       \u001b[0;32mreturn\u001b[0m \u001b[0mfn\u001b[0m\u001b[0;34m(\u001b[0m\u001b[0;34m*\u001b[0m\u001b[0margs\u001b[0m\u001b[0;34m,\u001b[0m \u001b[0;34m**\u001b[0m\u001b[0mkwargs\u001b[0m\u001b[0;34m)\u001b[0m\u001b[0;34m\u001b[0m\u001b[0;34m\u001b[0m\u001b[0m\n\u001b[0m\u001b[1;32m     65\u001b[0m     \u001b[0;32mexcept\u001b[0m \u001b[0mException\u001b[0m \u001b[0;32mas\u001b[0m \u001b[0me\u001b[0m\u001b[0;34m:\u001b[0m  \u001b[0;31m# pylint: disable=broad-except\u001b[0m\u001b[0;34m\u001b[0m\u001b[0;34m\u001b[0m\u001b[0m\n\u001b[1;32m     66\u001b[0m       \u001b[0mfiltered_tb\u001b[0m \u001b[0;34m=\u001b[0m \u001b[0m_process_traceback_frames\u001b[0m\u001b[0;34m(\u001b[0m\u001b[0me\u001b[0m\u001b[0;34m.\u001b[0m\u001b[0m__traceback__\u001b[0m\u001b[0;34m)\u001b[0m\u001b[0;34m\u001b[0m\u001b[0;34m\u001b[0m\u001b[0m\n",
            "\u001b[0;32m/usr/local/lib/python3.7/dist-packages/keras/engine/training.py\u001b[0m in \u001b[0;36mpredict\u001b[0;34m(self, x, batch_size, verbose, steps, callbacks, max_queue_size, workers, use_multiprocessing)\u001b[0m\n\u001b[1;32m   1766\u001b[0m           \u001b[0muse_multiprocessing\u001b[0m\u001b[0;34m=\u001b[0m\u001b[0muse_multiprocessing\u001b[0m\u001b[0;34m,\u001b[0m\u001b[0;34m\u001b[0m\u001b[0;34m\u001b[0m\u001b[0m\n\u001b[1;32m   1767\u001b[0m           \u001b[0mmodel\u001b[0m\u001b[0;34m=\u001b[0m\u001b[0mself\u001b[0m\u001b[0;34m,\u001b[0m\u001b[0;34m\u001b[0m\u001b[0;34m\u001b[0m\u001b[0m\n\u001b[0;32m-> 1768\u001b[0;31m           steps_per_execution=self._steps_per_execution)\n\u001b[0m\u001b[1;32m   1769\u001b[0m \u001b[0;34m\u001b[0m\u001b[0m\n\u001b[1;32m   1770\u001b[0m       \u001b[0;31m# Container that configures and calls `tf.keras.Callback`s.\u001b[0m\u001b[0;34m\u001b[0m\u001b[0;34m\u001b[0m\u001b[0;34m\u001b[0m\u001b[0m\n",
            "\u001b[0;32m/usr/local/lib/python3.7/dist-packages/keras/engine/data_adapter.py\u001b[0m in \u001b[0;36mget_data_handler\u001b[0;34m(*args, **kwargs)\u001b[0m\n\u001b[1;32m   1401\u001b[0m   \u001b[0;32mif\u001b[0m \u001b[0mgetattr\u001b[0m\u001b[0;34m(\u001b[0m\u001b[0mkwargs\u001b[0m\u001b[0;34m[\u001b[0m\u001b[0;34m\"model\"\u001b[0m\u001b[0;34m]\u001b[0m\u001b[0;34m,\u001b[0m \u001b[0;34m\"_cluster_coordinator\"\u001b[0m\u001b[0;34m,\u001b[0m \u001b[0;32mNone\u001b[0m\u001b[0;34m)\u001b[0m\u001b[0;34m:\u001b[0m\u001b[0;34m\u001b[0m\u001b[0;34m\u001b[0m\u001b[0m\n\u001b[1;32m   1402\u001b[0m     \u001b[0;32mreturn\u001b[0m \u001b[0m_ClusterCoordinatorDataHandler\u001b[0m\u001b[0;34m(\u001b[0m\u001b[0;34m*\u001b[0m\u001b[0margs\u001b[0m\u001b[0;34m,\u001b[0m \u001b[0;34m**\u001b[0m\u001b[0mkwargs\u001b[0m\u001b[0;34m)\u001b[0m\u001b[0;34m\u001b[0m\u001b[0;34m\u001b[0m\u001b[0m\n\u001b[0;32m-> 1403\u001b[0;31m   \u001b[0;32mreturn\u001b[0m \u001b[0mDataHandler\u001b[0m\u001b[0;34m(\u001b[0m\u001b[0;34m*\u001b[0m\u001b[0margs\u001b[0m\u001b[0;34m,\u001b[0m \u001b[0;34m**\u001b[0m\u001b[0mkwargs\u001b[0m\u001b[0;34m)\u001b[0m\u001b[0;34m\u001b[0m\u001b[0;34m\u001b[0m\u001b[0m\n\u001b[0m\u001b[1;32m   1404\u001b[0m \u001b[0;34m\u001b[0m\u001b[0m\n\u001b[1;32m   1405\u001b[0m \u001b[0;34m\u001b[0m\u001b[0m\n",
            "\u001b[0;32m/usr/local/lib/python3.7/dist-packages/keras/engine/data_adapter.py\u001b[0m in \u001b[0;36m__init__\u001b[0;34m(self, x, y, sample_weight, batch_size, steps_per_epoch, initial_epoch, epochs, shuffle, class_weight, max_queue_size, workers, use_multiprocessing, model, steps_per_execution, distribute)\u001b[0m\n\u001b[1;32m   1163\u001b[0m         \u001b[0muse_multiprocessing\u001b[0m\u001b[0;34m=\u001b[0m\u001b[0muse_multiprocessing\u001b[0m\u001b[0;34m,\u001b[0m\u001b[0;34m\u001b[0m\u001b[0;34m\u001b[0m\u001b[0m\n\u001b[1;32m   1164\u001b[0m         \u001b[0mdistribution_strategy\u001b[0m\u001b[0;34m=\u001b[0m\u001b[0mtf\u001b[0m\u001b[0;34m.\u001b[0m\u001b[0mdistribute\u001b[0m\u001b[0;34m.\u001b[0m\u001b[0mget_strategy\u001b[0m\u001b[0;34m(\u001b[0m\u001b[0;34m)\u001b[0m\u001b[0;34m,\u001b[0m\u001b[0;34m\u001b[0m\u001b[0;34m\u001b[0m\u001b[0m\n\u001b[0;32m-> 1165\u001b[0;31m         model=model)\n\u001b[0m\u001b[1;32m   1166\u001b[0m \u001b[0;34m\u001b[0m\u001b[0m\n\u001b[1;32m   1167\u001b[0m     \u001b[0mstrategy\u001b[0m \u001b[0;34m=\u001b[0m \u001b[0mtf\u001b[0m\u001b[0;34m.\u001b[0m\u001b[0mdistribute\u001b[0m\u001b[0;34m.\u001b[0m\u001b[0mget_strategy\u001b[0m\u001b[0;34m(\u001b[0m\u001b[0;34m)\u001b[0m\u001b[0;34m\u001b[0m\u001b[0;34m\u001b[0m\u001b[0m\n",
            "\u001b[0;32m/usr/local/lib/python3.7/dist-packages/keras/engine/data_adapter.py\u001b[0m in \u001b[0;36m__init__\u001b[0;34m(self, x, y, sample_weights, sample_weight_modes, batch_size, epochs, steps, shuffle, **kwargs)\u001b[0m\n\u001b[1;32m    323\u001b[0m       \u001b[0;32mreturn\u001b[0m \u001b[0mflat_dataset\u001b[0m\u001b[0;34m\u001b[0m\u001b[0;34m\u001b[0m\u001b[0m\n\u001b[1;32m    324\u001b[0m \u001b[0;34m\u001b[0m\u001b[0m\n\u001b[0;32m--> 325\u001b[0;31m     \u001b[0mindices_dataset\u001b[0m \u001b[0;34m=\u001b[0m \u001b[0mindices_dataset\u001b[0m\u001b[0;34m.\u001b[0m\u001b[0mflat_map\u001b[0m\u001b[0;34m(\u001b[0m\u001b[0mslice_batch_indices\u001b[0m\u001b[0;34m)\u001b[0m\u001b[0;34m\u001b[0m\u001b[0;34m\u001b[0m\u001b[0m\n\u001b[0m\u001b[1;32m    326\u001b[0m \u001b[0;34m\u001b[0m\u001b[0m\n\u001b[1;32m    327\u001b[0m     \u001b[0mdataset\u001b[0m \u001b[0;34m=\u001b[0m \u001b[0mself\u001b[0m\u001b[0;34m.\u001b[0m\u001b[0mslice_inputs\u001b[0m\u001b[0;34m(\u001b[0m\u001b[0mindices_dataset\u001b[0m\u001b[0;34m,\u001b[0m \u001b[0minputs\u001b[0m\u001b[0;34m)\u001b[0m\u001b[0;34m\u001b[0m\u001b[0;34m\u001b[0m\u001b[0m\n",
            "\u001b[0;32m/usr/local/lib/python3.7/dist-packages/tensorflow/python/data/ops/dataset_ops.py\u001b[0m in \u001b[0;36mflat_map\u001b[0;34m(self, map_func, name)\u001b[0m\n\u001b[1;32m   2046\u001b[0m       \u001b[0mDataset\u001b[0m\u001b[0;34m:\u001b[0m \u001b[0mA\u001b[0m\u001b[0;31m \u001b[0m\u001b[0;31m`\u001b[0m\u001b[0mDataset\u001b[0m\u001b[0;31m`\u001b[0m\u001b[0;34m.\u001b[0m\u001b[0;34m\u001b[0m\u001b[0;34m\u001b[0m\u001b[0m\n\u001b[1;32m   2047\u001b[0m     \"\"\"\n\u001b[0;32m-> 2048\u001b[0;31m     \u001b[0;32mreturn\u001b[0m \u001b[0mFlatMapDataset\u001b[0m\u001b[0;34m(\u001b[0m\u001b[0mself\u001b[0m\u001b[0;34m,\u001b[0m \u001b[0mmap_func\u001b[0m\u001b[0;34m,\u001b[0m \u001b[0mname\u001b[0m\u001b[0;34m=\u001b[0m\u001b[0mname\u001b[0m\u001b[0;34m)\u001b[0m\u001b[0;34m\u001b[0m\u001b[0;34m\u001b[0m\u001b[0m\n\u001b[0m\u001b[1;32m   2049\u001b[0m \u001b[0;34m\u001b[0m\u001b[0m\n\u001b[1;32m   2050\u001b[0m   def interleave(self,\n",
            "\u001b[0;32m/usr/local/lib/python3.7/dist-packages/tensorflow/python/data/ops/dataset_ops.py\u001b[0m in \u001b[0;36m__init__\u001b[0;34m(self, input_dataset, map_func, name)\u001b[0m\n\u001b[1;32m   5548\u001b[0m     \u001b[0mself\u001b[0m\u001b[0;34m.\u001b[0m\u001b[0m_input_dataset\u001b[0m \u001b[0;34m=\u001b[0m \u001b[0minput_dataset\u001b[0m\u001b[0;34m\u001b[0m\u001b[0;34m\u001b[0m\u001b[0m\n\u001b[1;32m   5549\u001b[0m     self._map_func = StructuredFunctionWrapper(\n\u001b[0;32m-> 5550\u001b[0;31m         map_func, self._transformation_name(), dataset=input_dataset)\n\u001b[0m\u001b[1;32m   5551\u001b[0m     \u001b[0;32mif\u001b[0m \u001b[0;32mnot\u001b[0m \u001b[0misinstance\u001b[0m\u001b[0;34m(\u001b[0m\u001b[0mself\u001b[0m\u001b[0;34m.\u001b[0m\u001b[0m_map_func\u001b[0m\u001b[0;34m.\u001b[0m\u001b[0moutput_structure\u001b[0m\u001b[0;34m,\u001b[0m \u001b[0mDatasetSpec\u001b[0m\u001b[0;34m)\u001b[0m\u001b[0;34m:\u001b[0m\u001b[0;34m\u001b[0m\u001b[0;34m\u001b[0m\u001b[0m\n\u001b[1;32m   5552\u001b[0m       raise TypeError(\n",
            "\u001b[0;32m/usr/local/lib/python3.7/dist-packages/tensorflow/python/data/ops/dataset_ops.py\u001b[0m in \u001b[0;36m__init__\u001b[0;34m(self, func, transformation_name, dataset, input_classes, input_shapes, input_types, input_structure, add_to_graph, use_legacy_function, defun_kwargs)\u001b[0m\n\u001b[1;32m   4531\u001b[0m         \u001b[0mfn_factory\u001b[0m \u001b[0;34m=\u001b[0m \u001b[0mtrace_tf_function\u001b[0m\u001b[0;34m(\u001b[0m\u001b[0mdefun_kwargs\u001b[0m\u001b[0;34m)\u001b[0m\u001b[0;34m\u001b[0m\u001b[0;34m\u001b[0m\u001b[0m\n\u001b[1;32m   4532\u001b[0m \u001b[0;34m\u001b[0m\u001b[0m\n\u001b[0;32m-> 4533\u001b[0;31m     \u001b[0mself\u001b[0m\u001b[0;34m.\u001b[0m\u001b[0m_function\u001b[0m \u001b[0;34m=\u001b[0m \u001b[0mfn_factory\u001b[0m\u001b[0;34m(\u001b[0m\u001b[0;34m)\u001b[0m\u001b[0;34m\u001b[0m\u001b[0;34m\u001b[0m\u001b[0m\n\u001b[0m\u001b[1;32m   4534\u001b[0m     \u001b[0;31m# There is no graph to add in eager mode.\u001b[0m\u001b[0;34m\u001b[0m\u001b[0;34m\u001b[0m\u001b[0;34m\u001b[0m\u001b[0m\n\u001b[1;32m   4535\u001b[0m     \u001b[0madd_to_graph\u001b[0m \u001b[0;34m&=\u001b[0m \u001b[0;32mnot\u001b[0m \u001b[0mcontext\u001b[0m\u001b[0;34m.\u001b[0m\u001b[0mexecuting_eagerly\u001b[0m\u001b[0;34m(\u001b[0m\u001b[0;34m)\u001b[0m\u001b[0;34m\u001b[0m\u001b[0;34m\u001b[0m\u001b[0m\n",
            "\u001b[0;32m/usr/local/lib/python3.7/dist-packages/tensorflow/python/eager/function.py\u001b[0m in \u001b[0;36mget_concrete_function\u001b[0;34m(self, *args, **kwargs)\u001b[0m\n\u001b[1;32m   3243\u001b[0m     \"\"\"\n\u001b[1;32m   3244\u001b[0m     graph_function = self._get_concrete_function_garbage_collected(\n\u001b[0;32m-> 3245\u001b[0;31m         *args, **kwargs)\n\u001b[0m\u001b[1;32m   3246\u001b[0m     \u001b[0mgraph_function\u001b[0m\u001b[0;34m.\u001b[0m\u001b[0m_garbage_collector\u001b[0m\u001b[0;34m.\u001b[0m\u001b[0mrelease\u001b[0m\u001b[0;34m(\u001b[0m\u001b[0;34m)\u001b[0m  \u001b[0;31m# pylint: disable=protected-access\u001b[0m\u001b[0;34m\u001b[0m\u001b[0;34m\u001b[0m\u001b[0m\n\u001b[1;32m   3247\u001b[0m     \u001b[0;32mreturn\u001b[0m \u001b[0mgraph_function\u001b[0m\u001b[0;34m\u001b[0m\u001b[0;34m\u001b[0m\u001b[0m\n",
            "\u001b[0;32m/usr/local/lib/python3.7/dist-packages/tensorflow/python/eager/function.py\u001b[0m in \u001b[0;36m_get_concrete_function_garbage_collected\u001b[0;34m(self, *args, **kwargs)\u001b[0m\n\u001b[1;32m   3208\u001b[0m       \u001b[0margs\u001b[0m\u001b[0;34m,\u001b[0m \u001b[0mkwargs\u001b[0m \u001b[0;34m=\u001b[0m \u001b[0;32mNone\u001b[0m\u001b[0;34m,\u001b[0m \u001b[0;32mNone\u001b[0m\u001b[0;34m\u001b[0m\u001b[0;34m\u001b[0m\u001b[0m\n\u001b[1;32m   3209\u001b[0m     \u001b[0;32mwith\u001b[0m \u001b[0mself\u001b[0m\u001b[0;34m.\u001b[0m\u001b[0m_lock\u001b[0m\u001b[0;34m:\u001b[0m\u001b[0;34m\u001b[0m\u001b[0;34m\u001b[0m\u001b[0m\n\u001b[0;32m-> 3210\u001b[0;31m       \u001b[0mgraph_function\u001b[0m\u001b[0;34m,\u001b[0m \u001b[0m_\u001b[0m \u001b[0;34m=\u001b[0m \u001b[0mself\u001b[0m\u001b[0;34m.\u001b[0m\u001b[0m_maybe_define_function\u001b[0m\u001b[0;34m(\u001b[0m\u001b[0margs\u001b[0m\u001b[0;34m,\u001b[0m \u001b[0mkwargs\u001b[0m\u001b[0;34m)\u001b[0m\u001b[0;34m\u001b[0m\u001b[0;34m\u001b[0m\u001b[0m\n\u001b[0m\u001b[1;32m   3211\u001b[0m       \u001b[0mseen_names\u001b[0m \u001b[0;34m=\u001b[0m \u001b[0mset\u001b[0m\u001b[0;34m(\u001b[0m\u001b[0;34m)\u001b[0m\u001b[0;34m\u001b[0m\u001b[0;34m\u001b[0m\u001b[0m\n\u001b[1;32m   3212\u001b[0m       captured = object_identity.ObjectIdentitySet(\n",
            "\u001b[0;32m/usr/local/lib/python3.7/dist-packages/tensorflow/python/eager/function.py\u001b[0m in \u001b[0;36m_maybe_define_function\u001b[0;34m(self, args, kwargs)\u001b[0m\n\u001b[1;32m   3555\u001b[0m \u001b[0;34m\u001b[0m\u001b[0m\n\u001b[1;32m   3556\u001b[0m           \u001b[0mself\u001b[0m\u001b[0;34m.\u001b[0m\u001b[0m_function_cache\u001b[0m\u001b[0;34m.\u001b[0m\u001b[0mmissed\u001b[0m\u001b[0;34m.\u001b[0m\u001b[0madd\u001b[0m\u001b[0;34m(\u001b[0m\u001b[0mcall_context_key\u001b[0m\u001b[0;34m)\u001b[0m\u001b[0;34m\u001b[0m\u001b[0;34m\u001b[0m\u001b[0m\n\u001b[0;32m-> 3557\u001b[0;31m           \u001b[0mgraph_function\u001b[0m \u001b[0;34m=\u001b[0m \u001b[0mself\u001b[0m\u001b[0;34m.\u001b[0m\u001b[0m_create_graph_function\u001b[0m\u001b[0;34m(\u001b[0m\u001b[0margs\u001b[0m\u001b[0;34m,\u001b[0m \u001b[0mkwargs\u001b[0m\u001b[0;34m)\u001b[0m\u001b[0;34m\u001b[0m\u001b[0;34m\u001b[0m\u001b[0m\n\u001b[0m\u001b[1;32m   3558\u001b[0m           \u001b[0mself\u001b[0m\u001b[0;34m.\u001b[0m\u001b[0m_function_cache\u001b[0m\u001b[0;34m.\u001b[0m\u001b[0mprimary\u001b[0m\u001b[0;34m[\u001b[0m\u001b[0mcache_key\u001b[0m\u001b[0;34m]\u001b[0m \u001b[0;34m=\u001b[0m \u001b[0mgraph_function\u001b[0m\u001b[0;34m\u001b[0m\u001b[0;34m\u001b[0m\u001b[0m\n\u001b[1;32m   3559\u001b[0m \u001b[0;34m\u001b[0m\u001b[0m\n",
            "\u001b[0;32m/usr/local/lib/python3.7/dist-packages/tensorflow/python/eager/function.py\u001b[0m in \u001b[0;36m_create_graph_function\u001b[0;34m(self, args, kwargs, override_flat_arg_shapes)\u001b[0m\n\u001b[1;32m   3400\u001b[0m             \u001b[0marg_names\u001b[0m\u001b[0;34m=\u001b[0m\u001b[0marg_names\u001b[0m\u001b[0;34m,\u001b[0m\u001b[0;34m\u001b[0m\u001b[0;34m\u001b[0m\u001b[0m\n\u001b[1;32m   3401\u001b[0m             \u001b[0moverride_flat_arg_shapes\u001b[0m\u001b[0;34m=\u001b[0m\u001b[0moverride_flat_arg_shapes\u001b[0m\u001b[0;34m,\u001b[0m\u001b[0;34m\u001b[0m\u001b[0;34m\u001b[0m\u001b[0m\n\u001b[0;32m-> 3402\u001b[0;31m             capture_by_value=self._capture_by_value),\n\u001b[0m\u001b[1;32m   3403\u001b[0m         \u001b[0mself\u001b[0m\u001b[0;34m.\u001b[0m\u001b[0m_function_attributes\u001b[0m\u001b[0;34m,\u001b[0m\u001b[0;34m\u001b[0m\u001b[0;34m\u001b[0m\u001b[0m\n\u001b[1;32m   3404\u001b[0m         \u001b[0mfunction_spec\u001b[0m\u001b[0;34m=\u001b[0m\u001b[0mself\u001b[0m\u001b[0;34m.\u001b[0m\u001b[0mfunction_spec\u001b[0m\u001b[0;34m,\u001b[0m\u001b[0;34m\u001b[0m\u001b[0;34m\u001b[0m\u001b[0m\n",
            "\u001b[0;32m/usr/local/lib/python3.7/dist-packages/tensorflow/python/framework/func_graph.py\u001b[0m in \u001b[0;36mfunc_graph_from_py_func\u001b[0;34m(name, python_func, args, kwargs, signature, func_graph, autograph, autograph_options, add_control_dependencies, arg_names, op_return_value, collections, capture_by_value, override_flat_arg_shapes, acd_record_initial_resource_uses)\u001b[0m\n\u001b[1;32m   1141\u001b[0m         \u001b[0m_\u001b[0m\u001b[0;34m,\u001b[0m \u001b[0moriginal_func\u001b[0m \u001b[0;34m=\u001b[0m \u001b[0mtf_decorator\u001b[0m\u001b[0;34m.\u001b[0m\u001b[0munwrap\u001b[0m\u001b[0;34m(\u001b[0m\u001b[0mpython_func\u001b[0m\u001b[0;34m)\u001b[0m\u001b[0;34m\u001b[0m\u001b[0;34m\u001b[0m\u001b[0m\n\u001b[1;32m   1142\u001b[0m \u001b[0;34m\u001b[0m\u001b[0m\n\u001b[0;32m-> 1143\u001b[0;31m       \u001b[0mfunc_outputs\u001b[0m \u001b[0;34m=\u001b[0m \u001b[0mpython_func\u001b[0m\u001b[0;34m(\u001b[0m\u001b[0;34m*\u001b[0m\u001b[0mfunc_args\u001b[0m\u001b[0;34m,\u001b[0m \u001b[0;34m**\u001b[0m\u001b[0mfunc_kwargs\u001b[0m\u001b[0;34m)\u001b[0m\u001b[0;34m\u001b[0m\u001b[0;34m\u001b[0m\u001b[0m\n\u001b[0m\u001b[1;32m   1144\u001b[0m \u001b[0;34m\u001b[0m\u001b[0m\n\u001b[1;32m   1145\u001b[0m       \u001b[0;31m# invariant: `func_outputs` contains only Tensors, CompositeTensors,\u001b[0m\u001b[0;34m\u001b[0m\u001b[0;34m\u001b[0m\u001b[0;34m\u001b[0m\u001b[0m\n",
            "\u001b[0;32m/usr/local/lib/python3.7/dist-packages/tensorflow/python/data/ops/dataset_ops.py\u001b[0m in \u001b[0;36mwrapped_fn\u001b[0;34m(*args)\u001b[0m\n\u001b[1;32m   4508\u001b[0m           attributes=defun_kwargs)\n\u001b[1;32m   4509\u001b[0m       \u001b[0;32mdef\u001b[0m \u001b[0mwrapped_fn\u001b[0m\u001b[0;34m(\u001b[0m\u001b[0;34m*\u001b[0m\u001b[0margs\u001b[0m\u001b[0;34m)\u001b[0m\u001b[0;34m:\u001b[0m  \u001b[0;31m# pylint: disable=missing-docstring\u001b[0m\u001b[0;34m\u001b[0m\u001b[0;34m\u001b[0m\u001b[0m\n\u001b[0;32m-> 4510\u001b[0;31m         \u001b[0mret\u001b[0m \u001b[0;34m=\u001b[0m \u001b[0mwrapper_helper\u001b[0m\u001b[0;34m(\u001b[0m\u001b[0;34m*\u001b[0m\u001b[0margs\u001b[0m\u001b[0;34m)\u001b[0m\u001b[0;34m\u001b[0m\u001b[0;34m\u001b[0m\u001b[0m\n\u001b[0m\u001b[1;32m   4511\u001b[0m         \u001b[0mret\u001b[0m \u001b[0;34m=\u001b[0m \u001b[0mstructure\u001b[0m\u001b[0;34m.\u001b[0m\u001b[0mto_tensor_list\u001b[0m\u001b[0;34m(\u001b[0m\u001b[0mself\u001b[0m\u001b[0;34m.\u001b[0m\u001b[0m_output_structure\u001b[0m\u001b[0;34m,\u001b[0m \u001b[0mret\u001b[0m\u001b[0;34m)\u001b[0m\u001b[0;34m\u001b[0m\u001b[0;34m\u001b[0m\u001b[0m\n\u001b[1;32m   4512\u001b[0m         \u001b[0;32mreturn\u001b[0m \u001b[0;34m[\u001b[0m\u001b[0mops\u001b[0m\u001b[0;34m.\u001b[0m\u001b[0mconvert_to_tensor\u001b[0m\u001b[0;34m(\u001b[0m\u001b[0mt\u001b[0m\u001b[0;34m)\u001b[0m \u001b[0;32mfor\u001b[0m \u001b[0mt\u001b[0m \u001b[0;32min\u001b[0m \u001b[0mret\u001b[0m\u001b[0;34m]\u001b[0m\u001b[0;34m\u001b[0m\u001b[0;34m\u001b[0m\u001b[0m\n",
            "\u001b[0;32m/usr/local/lib/python3.7/dist-packages/tensorflow/python/data/ops/dataset_ops.py\u001b[0m in \u001b[0;36mwrapper_helper\u001b[0;34m(*args)\u001b[0m\n\u001b[1;32m   4438\u001b[0m       \u001b[0;32mif\u001b[0m \u001b[0;32mnot\u001b[0m \u001b[0m_should_unpack\u001b[0m\u001b[0;34m(\u001b[0m\u001b[0mnested_args\u001b[0m\u001b[0;34m)\u001b[0m\u001b[0;34m:\u001b[0m\u001b[0;34m\u001b[0m\u001b[0;34m\u001b[0m\u001b[0m\n\u001b[1;32m   4439\u001b[0m         \u001b[0mnested_args\u001b[0m \u001b[0;34m=\u001b[0m \u001b[0;34m(\u001b[0m\u001b[0mnested_args\u001b[0m\u001b[0;34m,\u001b[0m\u001b[0;34m)\u001b[0m\u001b[0;34m\u001b[0m\u001b[0;34m\u001b[0m\u001b[0m\n\u001b[0;32m-> 4440\u001b[0;31m       \u001b[0mret\u001b[0m \u001b[0;34m=\u001b[0m \u001b[0mautograph\u001b[0m\u001b[0;34m.\u001b[0m\u001b[0mtf_convert\u001b[0m\u001b[0;34m(\u001b[0m\u001b[0mself\u001b[0m\u001b[0;34m.\u001b[0m\u001b[0m_func\u001b[0m\u001b[0;34m,\u001b[0m \u001b[0mag_ctx\u001b[0m\u001b[0;34m)\u001b[0m\u001b[0;34m(\u001b[0m\u001b[0;34m*\u001b[0m\u001b[0mnested_args\u001b[0m\u001b[0;34m)\u001b[0m\u001b[0;34m\u001b[0m\u001b[0;34m\u001b[0m\u001b[0m\n\u001b[0m\u001b[1;32m   4441\u001b[0m       \u001b[0;32mif\u001b[0m \u001b[0m_should_pack\u001b[0m\u001b[0;34m(\u001b[0m\u001b[0mret\u001b[0m\u001b[0;34m)\u001b[0m\u001b[0;34m:\u001b[0m\u001b[0;34m\u001b[0m\u001b[0;34m\u001b[0m\u001b[0m\n\u001b[1;32m   4442\u001b[0m         \u001b[0mret\u001b[0m \u001b[0;34m=\u001b[0m \u001b[0mtuple\u001b[0m\u001b[0;34m(\u001b[0m\u001b[0mret\u001b[0m\u001b[0;34m)\u001b[0m\u001b[0;34m\u001b[0m\u001b[0;34m\u001b[0m\u001b[0m\n",
            "\u001b[0;32m/usr/local/lib/python3.7/dist-packages/tensorflow/python/autograph/impl/api.py\u001b[0m in \u001b[0;36mtf_convert\u001b[0;34m(f, ctx, convert_by_default, user_requested)\u001b[0m\n\u001b[1;32m    586\u001b[0m   \u001b[0;32melse\u001b[0m\u001b[0;34m:\u001b[0m\u001b[0;34m\u001b[0m\u001b[0;34m\u001b[0m\u001b[0m\n\u001b[1;32m    587\u001b[0m     \u001b[0;32massert\u001b[0m \u001b[0;32mFalse\u001b[0m\u001b[0;34m,\u001b[0m \u001b[0;34m'This switch contains all possible cases!'\u001b[0m\u001b[0;34m\u001b[0m\u001b[0;34m\u001b[0m\u001b[0m\n\u001b[0;32m--> 588\u001b[0;31m   \u001b[0mwrapper\u001b[0m \u001b[0;34m=\u001b[0m \u001b[0mwrapper_factory\u001b[0m\u001b[0;34m(\u001b[0m\u001b[0mf\u001b[0m\u001b[0;34m)\u001b[0m\u001b[0;34m\u001b[0m\u001b[0;34m\u001b[0m\u001b[0m\n\u001b[0m\u001b[1;32m    589\u001b[0m \u001b[0;34m\u001b[0m\u001b[0m\n\u001b[1;32m    590\u001b[0m   \u001b[0;32mif\u001b[0m \u001b[0mdecorators\u001b[0m\u001b[0;34m:\u001b[0m\u001b[0;34m\u001b[0m\u001b[0;34m\u001b[0m\u001b[0m\n",
            "\u001b[0;32m/usr/local/lib/python3.7/dist-packages/tensorflow/python/autograph/impl/api.py\u001b[0m in \u001b[0;36mdecorator\u001b[0;34m(f)\u001b[0m\n\u001b[1;32m    705\u001b[0m \u001b[0;34m\u001b[0m\u001b[0m\n\u001b[1;32m    706\u001b[0m     \u001b[0mdecorated_wrapper\u001b[0m \u001b[0;34m=\u001b[0m \u001b[0mtf_decorator\u001b[0m\u001b[0;34m.\u001b[0m\u001b[0mmake_decorator\u001b[0m\u001b[0;34m(\u001b[0m\u001b[0mf\u001b[0m\u001b[0;34m,\u001b[0m \u001b[0mwrapper\u001b[0m\u001b[0;34m)\u001b[0m\u001b[0;34m\u001b[0m\u001b[0;34m\u001b[0m\u001b[0m\n\u001b[0;32m--> 707\u001b[0;31m     \u001b[0;32mreturn\u001b[0m \u001b[0mautograph_artifact\u001b[0m\u001b[0;34m(\u001b[0m\u001b[0mdecorated_wrapper\u001b[0m\u001b[0;34m)\u001b[0m\u001b[0;34m\u001b[0m\u001b[0;34m\u001b[0m\u001b[0m\n\u001b[0m\u001b[1;32m    708\u001b[0m \u001b[0;34m\u001b[0m\u001b[0m\n\u001b[1;32m    709\u001b[0m   \u001b[0;32mreturn\u001b[0m \u001b[0mdecorator\u001b[0m\u001b[0;34m\u001b[0m\u001b[0;34m\u001b[0m\u001b[0m\n",
            "\u001b[0;31mKeyboardInterrupt\u001b[0m: "
          ]
        }
      ]
    },
    {
      "cell_type": "code",
      "source": [
        "sovability = solved_grids/(solved_grids + unsolved_grids)\n",
        "avg_path_length = sum(pathLengths)/len(pathLengths)\n",
        "avg_time = sum(TimeTaken)/len(TimeTaken)\n",
        "print(\"solvability : {0} \".format(sovability))\n",
        "print(\"average path length : {0} \".format(avg_path_length))\n",
        "print(\"average time taken to solve : {0} \".format(avg_time))"
      ],
      "metadata": {
        "colab": {
          "base_uri": "https://localhost:8080/"
        },
        "id": "s3DBCxZml5_8",
        "outputId": "1cc8b53a-a88d-4477-95b5-863329379ba3"
      },
      "execution_count": 22,
      "outputs": [
        {
          "output_type": "stream",
          "name": "stdout",
          "text": [
            "solvability : 0.625 \n",
            "average path length : 42.8 \n",
            "average time taken to solve : 1.8244924068450927 \n"
          ]
        }
      ]
    }
  ]
}