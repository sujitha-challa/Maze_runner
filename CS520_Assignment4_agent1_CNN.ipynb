{
  "nbformat": 4,
  "nbformat_minor": 0,
  "metadata": {
    "colab": {
      "name": "CS520_Assignment4_agent1_CNN.ipynb",
      "provenance": [],
      "collapsed_sections": []
    },
    "kernelspec": {
      "name": "python3",
      "display_name": "Python 3"
    },
    "language_info": {
      "name": "python"
    }
  },
  "cells": [
    {
      "cell_type": "code",
      "execution_count": 1,
      "metadata": {
        "id": "gLpyvVVfDuQW"
      },
      "outputs": [],
      "source": [
        "import tensorflow as tf\n",
        "import numpy as np\n",
        "import pandas as pd\n",
        "from collections import defaultdict\n",
        "import pickle\n",
        "from sklearn.model_selection import train_test_split\n",
        "import time\n",
        "from numpy.core.records import array\n",
        "from keras.models import load_model"
      ]
    },
    {
      "cell_type": "code",
      "source": [
        "with open('/content/grids_agent1_dim10_count1000.pkl', \"rb\") as f:\n",
        "    dict = pickle.load(f)\n",
        "\n",
        "X = dict['KnowledgeGrid']\n",
        "Y = dict['action']\n",
        "position_dict = dict['position']\n",
        "index_dict = dict['Index']\n",
        "data_count = len(Y)\n",
        "gridSize = len(X[0][0])\n",
        "maze_dict = dict['maze']\n",
        "AstartTime_dict = dict['AstarTime']"
      ],
      "metadata": {
        "id": "B0-n-LxXDyKg"
      },
      "execution_count": 3,
      "outputs": []
    },
    {
      "cell_type": "code",
      "source": [
        "# Reshape position list into array\n",
        "for i in range(data_count):\n",
        "  position_dict[i] = np.reshape(position_dict[i], 1*2)"
      ],
      "metadata": {
        "id": "JYcieRmLjWbt"
      },
      "execution_count": null,
      "outputs": []
    },
    {
      "cell_type": "code",
      "source": [
        "print(gridSize)\n",
        "print(data_count)\n",
        "print(X[0])\n",
        "print(position_dict[0])\n",
        "print(len(maze_dict))\n",
        "print((maze_dict[0]))\n",
        "print((AstartTime_dict[0]))\n",
        "print(len(AstartTime_dict))\n",
        "print((AstartTime_dict))\n",
        "print(X[0].shape[0])"
      ],
      "metadata": {
        "id": "V7H693XyKhHQ",
        "colab": {
          "base_uri": "https://localhost:8080/"
        },
        "outputId": "b68418fd-35a5-41c3-b2eb-679f3266ce3c"
      },
      "execution_count": 4,
      "outputs": [
        {
          "output_type": "stream",
          "name": "stdout",
          "text": [
            "10\n",
            "26821\n",
            "[[0 0 0 0 0 0 0 0 0 0]\n",
            " [0 0 0 0 0 0 0 0 0 0]\n",
            " [0 0 0 0 0 0 0 0 0 0]\n",
            " [0 0 0 0 0 0 0 0 0 0]\n",
            " [0 0 0 0 0 0 0 0 0 0]\n",
            " [0 0 0 0 0 0 0 0 0 0]\n",
            " [0 0 0 0 0 0 0 0 0 0]\n",
            " [0 0 0 0 0 0 0 0 0 0]\n",
            " [0 0 0 0 0 0 0 0 0 0]\n",
            " [0 0 0 0 0 0 0 0 0 0]]\n",
            "(0, 0)\n",
            "1000\n",
            "[[0, 0, 0, 0, 0, 0, 0, 0, 0, 0], [0, 0, 1, 0, 0, 0, 0, 0, 0, 0], [0, 0, 0, 0, 0, 1, 0, 0, 1, 0], [0, 0, 0, 1, 0, 1, 0, 0, 0, 1], [0, 0, 0, 0, 1, 1, 0, 0, 1, 0], [0, 0, 0, 0, 0, 0, 0, 0, 0, 0], [1, 0, 0, 0, 1, 0, 1, 0, 1, 0], [0, 1, 0, 0, 1, 0, 0, 0, 0, 1], [0, 0, 1, 1, 0, 1, 0, 0, 0, 0], [0, 0, 0, 1, 0, 0, 0, 0, 0, 0]]\n",
            "0.0011715888977050781\n",
            "1000\n",
            "[0.0011715888977050781, 0.0010848045349121094, 0.0, 0.0010716915130615234, 0.0009708404541015625, 0.0, 0.0, 0.0, 0.0, 0.0, 0.0, 0.0, 0.0, 0.0010004043579101562, 0.0010001659393310547, 0.0, 0.0, 0.0, 0.0009999275207519531, 0.0, 0.0, 0.0, 0.0, 0.0, 0.0010004043579101562, 0.0, 0.0, 0.0010876655578613281, 0.0009999275207519531, 0.0, 0.0, 0.0, 0.0, 0.0, 0.0, 0.0010039806365966797, 0.0010173320770263672, 0.0, 0.0, 0.0, 0.0, 0.0011055469512939453, 0.0009999275207519531, 0.0, 0.0, 0.0, 0.0, 0.0, 0.0, 0.0, 0.0009999275207519531, 0.000995635986328125, 0.0, 0.0, 0.001077890396118164, 0.0009987354278564453, 0.0010707378387451172, 0.0, 0.0, 0.0, 0.0010013580322265625, 0.0012767314910888672, 0.0, 0.0010004043579101562, 0.0009987354278564453, 0.0, 0.0, 0.0, 0.0, 0.0010001659393310547, 0.000993490219116211, 0.0, 0.0010075569152832031, 0.0, 0.0004994869232177734, 0.0, 0.0, 0.0, 0.0009987354278564453, 0.0, 0.0010044574737548828, 0.00040793418884277344, 0.0, 0.0, 0.0010144710540771484, 0.0, 0.0011310577392578125, 0.0013000965118408203, 0.000997304916381836, 0.0006206035614013672, 0.0, 0.0010645389556884766, 0.00099945068359375, 0.0010001659393310547, 0.0010004043579101562, 0.0009999275207519531, 0.0, 0.0, 0.0, 0.0, 0.0, 0.0, 0.0, 0.0010538101196289062, 0.0009996891021728516, 0.0, 0.0, 0.0010001659393310547, 0.0005009174346923828, 0.00034689903259277344, 0.001161336898803711, 0.0010004043579101562, 0.0010001659393310547, 0.0, 0.0010001659393310547, 0.0, 0.0, 0.0, 0.0013384819030761719, 0.0, 0.0004336833953857422, 0.0009996891021728516, 0.0, 0.0, 0.0, 0.0005240440368652344, 0.0, 0.0009999275207519531, 0.0009989738464355469, 0.0009999275207519531, 0.0, 0.0009999275207519531, 0.0, 0.0, 0.0009999275207519531, 0.0010128021240234375, 0.0, 0.0, 0.0010001659393310547, 0.0011425018310546875, 0.0009987354278564453, 0.0009999275207519531, 0.0009999275207519531, 0.0010001659393310547, 0.0, 0.0014233589172363281, 0.0010001659393310547, 0.0011491775512695312, 0.0009999275207519531, 0.0, 0.0, 0.0010001659393310547, 0.0, 0.0, 0.0010454654693603516, 0.0010001659393310547, 0.00040268898010253906, 0.0, 0.0010008811950683594, 0.0010223388671875, 0.0, 0.0, 0.0, 0.0004992485046386719, 0.0009999275207519531, 0.0009891986846923828, 0.0010001659393310547, 0.0010154247283935547, 0.0, 0.0010018348693847656, 0.0009984970092773438, 0.0010135173797607422, 0.001004934310913086, 0.0, 0.0, 0.0009999275207519531, 0.0, 0.00024390220642089844, 0.0, 0.0010309219360351562, 0.0, 0.0, 0.0010001659393310547, 0.00027823448181152344, 0.0, 0.0010001659393310547, 0.0, 0.0, 0.0009987354278564453, 0.00099945068359375, 0.00099945068359375, 0.0010001659393310547, 0.00099945068359375, 0.0, 0.001028299331665039, 0.0, 0.0, 0.0, 0.0, 0.0009999275207519531, 0.0009989738464355469, 0.0, 0.0, 0.0, 0.0, 0.00099945068359375, 0.0, 0.0011348724365234375, 0.0009989738464355469, 0.0, 0.0, 0.0, 0.0009996891021728516, 0.0009999275207519531, 0.0009984970092773438, 0.0, 0.0, 0.0, 0.0, 0.0009958744049072266, 0.0, 0.0010001659393310547, 0.0, 0.0010027885437011719, 0.0, 0.0009992122650146484, 0.0, 0.000499725341796875, 0.0, 0.0, 0.0, 0.0010001659393310547, 0.0010004043579101562, 0.00144195556640625, 0.0, 0.0, 0.0, 0.0, 0.0, 0.0, 0.0, 0.0, 0.0, 0.0, 0.0, 0.0, 0.0, 0.0010001659393310547, 0.0010001659393310547, 0.0, 0.0013124942779541016, 0.0, 0.0, 0.0010013580322265625, 0.001005411148071289, 0.0, 0.0010023117065429688, 0.0010097026824951172, 0.0009999275207519531, 0.0, 0.0009946823120117188, 0.000997304916381836, 0.0, 0.0009996891021728516, 0.0012061595916748047, 0.0, 0.0010001659393310547, 0.0, 0.0010056495666503906, 0.0, 0.0005009174346923828, 0.0009984970092773438, 0.0009999275207519531, 0.0009999275207519531, 0.0010004043579101562, 0.0, 0.0, 0.0, 0.0, 0.0005018711090087891, 0.0, 0.0, 0.0, 0.0, 0.0010013580322265625, 0.0009992122650146484, 0.0009627342224121094, 0.0009996891021728516, 0.0, 0.0, 0.0009999275207519531, 0.0, 0.0, 0.0, 0.0010001659393310547, 0.0010004043579101562, 0.0009999275207519531, 0.0009999275207519531, 0.0010001659393310547, 0.0011882781982421875, 0.0, 0.0, 0.0, 0.0, 0.0010020732879638672, 0.0, 0.0, 0.0, 0.0009992122650146484, 0.0009999275207519531, 0.0010001659393310547, 0.0, 0.0, 0.0, 0.0, 0.00099945068359375, 0.0, 0.0, 0.0010001659393310547, 0.0, 0.0025606155395507812, 0.0009999275207519531, 0.0010020732879638672, 0.0, 0.0009999275207519531, 0.0010004043579101562, 0.0, 0.0010004043579101562, 0.0, 0.0010001659393310547, 0.0010001659393310547, 0.0, 0.0, 0.0011799335479736328, 0.0, 0.0, 0.0, 0.0, 0.0, 0.0, 0.0, 0.0, 0.0, 0.0, 0.0, 0.0010001659393310547, 0.0, 0.0005002021789550781, 0.0009999275207519531, 0.0010001659393310547, 0.0, 0.0, 0.0009999275207519531, 0.0, 0.0, 0.0, 0.0010001659393310547, 0.0009999275207519531, 0.0, 0.0009999275207519531, 0.0009999275207519531, 0.000997304916381836, 0.001001596450805664, 0.0, 0.0010008811950683594, 0.0, 0.0010008811950683594, 0.0, 0.0009274482727050781, 0.0, 0.0, 0.001003265380859375, 0.0, 0.0010848045349121094, 0.0, 0.0009999275207519531, 0.0009999275207519531, 0.0010001659393310547, 0.0, 0.0010001659393310547, 0.0010001659393310547, 0.0, 0.0, 0.0, 0.0, 0.0, 0.0, 0.0010013580322265625, 0.0, 0.0, 0.0, 0.0010073184967041016, 0.0010008811950683594, 0.0, 0.0, 0.0, 0.0, 0.0, 0.0, 0.0, 0.0, 0.0010001659393310547, 0.0010066032409667969, 0.0, 0.0, 0.0, 0.0009984970092773438, 0.001007080078125, 0.0, 0.0010039806365966797, 0.0009853839874267578, 0.0009884834289550781, 0.0009982585906982422, 0.001003265380859375, 0.0, 0.0, 0.0, 0.0009286403656005859, 0.0, 0.0, 0.000507354736328125, 0.0010006427764892578, 0.0, 0.0009996891021728516, 0.0, 0.0, 0.0009968280792236328, 0.0, 0.0009164810180664062, 0.0, 0.0009992122650146484, 0.0, 0.0010004043579101562, 0.0005381107330322266, 0.001089334487915039, 0.0009987354278564453, 0.0, 0.0009932518005371094, 0.0009944438934326172, 0.0, 0.0, 0.001007080078125, 0.0010023117065429688, 0.0010085105895996094, 0.0009992122650146484, 0.0009641647338867188, 0.0, 0.0, 0.0, 0.0, 0.0, 0.0009207725524902344, 0.0, 0.0010983943939208984, 0.001005411148071289, 0.0, 0.0, 0.0, 0.0010306835174560547, 0.0, 0.0, 0.0, 0.0, 0.0, 0.0, 0.0, 0.0, 0.0, 0.0009999275207519531, 0.0009999275207519531, 0.0, 0.0, 0.0, 0.0010747909545898438, 0.0, 0.0010280609130859375, 0.0, 0.0, 0.0, 0.0, 0.0010461807250976562, 0.0, 0.0010025501251220703, 0.0010046958923339844, 0.0, 0.0, 0.0010561943054199219, 0.0, 0.001001119613647461, 0.0, 0.0, 0.0, 0.000576019287109375, 0.0, 0.001001596450805664, 0.0010044574737548828, 0.0, 0.0, 0.0, 0.0, 0.0, 0.0010025501251220703, 0.0, 0.0009884834289550781, 0.0009987354278564453, 0.0, 0.0009288787841796875, 0.0010020732879638672, 0.0009949207305908203, 0.0010008811950683594, 0.0, 0.0, 0.00015664100646972656, 0.0, 0.000997304916381836, 0.0, 0.0, 0.0009937286376953125, 0.0, 0.0010030269622802734, 0.0009989738464355469, 0.0, 0.0, 0.0010132789611816406, 0.0, 0.0010144710540771484, 0.0009968280792236328, 0.0, 0.0010018348693847656, 0.0, 0.0009922981262207031, 0.0, 0.001077890396118164, 0.0010135173797607422, 0.0009982585906982422, 0.0, 0.0, 0.0, 0.0, 0.0, 0.0009882450103759766, 0.0, 0.0010099411010742188, 0.0, 0.0, 0.0, 0.0, 0.001012563705444336, 0.0009996891021728516, 0.0009999275207519531, 0.0, 0.0, 0.0, 0.0009999275207519531, 0.0, 0.0, 0.0, 0.0009999275207519531, 0.0010001659393310547, 0.0, 0.0, 0.0, 0.0011355876922607422, 0.0010001659393310547, 0.0, 0.0, 0.0, 0.0, 0.0, 0.0, 0.0, 0.0009999275207519531, 0.0, 0.0009999275207519531, 0.000499725341796875, 0.0, 0.0009996891021728516, 0.0010001659393310547, 0.0010304450988769531, 0.0010001659393310547, 0.0010001659393310547, 0.0, 0.0009996891021728516, 0.0, 0.0, 0.0010783672332763672, 0.0, 0.0, 0.0, 0.0, 0.0, 0.0, 0.0, 0.0011463165283203125, 0.0, 0.0, 0.0010035037994384766, 0.0, 0.0, 0.0010075569152832031, 0.0, 0.0, 0.0009999275207519531, 0.0010364055633544922, 0.0009946823120117188, 0.0, 0.0009920597076416016, 0.0, 0.0, 0.0, 0.0011625289916992188, 0.0, 0.0010013580322265625, 0.0, 0.0, 0.001093149185180664, 0.0, 0.0, 0.0, 0.0010008811950683594, 0.0010361671447753906, 0.0009915828704833984, 0.0010287761688232422, 0.0, 0.001001596450805664, 0.0, 0.0, 0.0, 0.0010781288146972656, 0.0, 0.0, 0.00099945068359375, 0.0, 0.0010685920715332031, 0.0009999275207519531, 0.0011377334594726562, 0.0011637210845947266, 0.0, 0.0, 0.0010001659393310547, 0.0, 0.0010001659393310547, 0.0010843276977539062, 0.0010001659393310547, 0.0, 0.0, 0.0, 0.0, 0.0009999275207519531, 0.0, 0.0, 0.0010004043579101562, 0.0010001659393310547, 0.0, 0.0, 0.0006005764007568359, 0.001039743423461914, 0.0, 0.0, 0.0, 0.0009992122650146484, 0.0, 0.0010900497436523438, 0.0, 0.0010001659393310547, 0.0, 0.0, 0.0, 0.0009999275207519531, 0.0009999275207519531, 0.0, 0.0, 0.0006225109100341797, 0.0, 0.0010001659393310547, 0.0, 0.0, 0.0009999275207519531, 0.0, 0.0009999275207519531, 0.0, 0.0, 0.00099945068359375, 0.0010001659393310547, 0.0, 0.0, 0.0, 0.0, 0.0, 0.0, 0.0010006427764892578, 0.0009992122650146484, 0.0009999275207519531, 0.0, 0.0010561943054199219, 0.0009999275207519531, 0.0010001659393310547, 0.0010001659393310547, 0.0, 0.0, 0.0, 0.0004994869232177734, 0.0010004043579101562, 0.0, 0.0, 0.0, 0.0, 0.0010662078857421875, 0.0, 0.0, 0.0, 0.0, 0.0009999275207519531, 0.0, 0.0013556480407714844, 0.0, 0.0, 0.0, 0.0, 0.0, 0.0010001659393310547, 0.0010001659393310547, 0.0009999275207519531, 0.0, 0.0009999275207519531, 0.0, 0.0011649131774902344, 0.0010001659393310547, 0.0009999275207519531, 0.0010001659393310547, 0.0009999275207519531, 0.0, 0.0, 0.0, 0.0010001659393310547, 0.0, 0.0009999275207519531, 0.0, 0.0009999275207519531, 0.0010859966278076172, 0.0010001659393310547, 0.0009999275207519531, 0.0009996891021728516, 0.0, 0.0010001659393310547, 0.0, 0.000988006591796875, 0.0009999275207519531, 0.0, 0.0009999275207519531, 0.0010001659393310547, 0.0, 0.0009915828704833984, 0.0010001659393310547, 0.0009999275207519531, 0.0, 0.0, 0.0010225772857666016, 0.0, 0.0, 0.0, 0.0, 0.00099945068359375, 0.00102996826171875, 0.0009999275207519531, 0.0, 0.0009989738464355469, 0.0009996891021728516, 0.0009999275207519531, 0.0009999275207519531, 0.0, 0.0, 0.0, 0.0, 0.0, 0.0, 0.0, 0.0, 0.0, 0.0, 0.0, 0.0, 0.0010001659393310547, 0.0, 0.0010001659393310547, 0.0010001659393310547, 0.0010001659393310547, 0.0009999275207519531, 0.0009999275207519531, 0.0, 0.0010209083557128906, 0.0009999275207519531, 0.0010001659393310547, 0.0, 0.0, 0.0, 0.0, 0.0010001659393310547, 0.0009999275207519531, 0.0, 0.0, 0.0, 0.0, 0.0, 0.0, 0.0010001659393310547, 0.0, 0.0009999275207519531, 0.0, 0.00026607513427734375, 0.0009999275207519531, 0.0010004043579101562, 0.0, 0.0, 0.0, 0.0, 0.0, 0.0, 0.0, 0.0, 0.0, 0.0, 0.0, 0.0, 0.0010001659393310547, 0.0009999275207519531, 0.0, 0.0010004043579101562, 0.001294851303100586, 0.0, 0.0, 0.0010001659393310547, 0.0, 0.0009999275207519531, 0.0, 0.0, 0.0010075569152832031, 0.0, 0.0, 0.0010001659393310547, 0.0, 0.0010001659393310547, 0.0010001659393310547, 0.00099945068359375, 0.0, 0.0, 0.0, 0.0, 0.0009999275207519531, 0.0009946823120117188, 0.0, 0.0010995864868164062, 0.0, 0.0, 0.0, 0.0, 0.0, 0.0009999275207519531, 0.0, 0.001004934310913086, 0.0, 0.0010001659393310547, 0.0009999275207519531, 0.0, 0.0, 0.0010006427764892578, 0.0, 0.0, 0.0, 0.0010001659393310547, 0.001154184341430664, 0.0009999275207519531, 0.0, 0.0, 0.0, 0.0, 0.0009953975677490234, 0.000995635986328125, 0.0, 0.0009996891021728516, 0.0010001659393310547, 0.0010001659393310547, 0.0005016326904296875, 0.0, 0.0009992122650146484, 0.0009975433349609375, 0.0009999275207519531, 0.0010008811950683594, 0.0009980201721191406, 0.0, 0.0, 0.0, 0.0, 0.0, 0.0010237693786621094, 0.0, 0.0, 0.0, 0.0, 0.0001277923583984375, 0.0, 0.0010330677032470703, 0.001032114028930664, 0.0, 0.0010688304901123047, 0.0005767345428466797, 0.0, 0.0010006427764892578, 0.0, 0.0, 0.0, 0.0, 0.0010709762573242188, 0.0, 0.0, 0.0010001659393310547, 0.0009996891021728516, 0.0007119178771972656, 0.0, 0.0, 0.0, 0.0009963512420654297, 0.0010001659393310547, 0.0, 0.001505136489868164, 0.000988006591796875, 0.0009860992431640625, 0.0010120868682861328, 0.001001596450805664, 0.0, 0.0010039806365966797, 0.0, 0.0009992122650146484, 0.0, 0.0010008811950683594, 0.0, 0.0010001659393310547, 0.0, 0.0, 0.0, 0.0009629726409912109, 0.0, 0.0, 0.0, 0.0, 0.0005006790161132812, 0.0009903907775878906, 0.0, 0.0, 0.0009999275207519531, 0.0010001659393310547, 0.0, 0.0, 0.0, 0.0, 0.0009987354278564453, 0.0010001659393310547, 0.0, 0.0, 0.0, 0.0010001659393310547, 0.0, 0.0, 0.0, 0.0010004043579101562, 0.0010075569152832031, 0.0, 0.001440286636352539, 0.0, 0.0009999275207519531, 0.0, 0.0, 0.0010001659393310547, 0.0, 0.0009996891021728516, 0.0009987354278564453, 0.0, 0.0010001659393310547, 0.0, 0.0, 0.0, 0.0, 0.0009999275207519531, 0.0, 0.0, 0.0, 0.0009989738464355469, 0.0010116100311279297, 0.0, 0.00032806396484375, 0.0, 0.0, 0.0, 0.0, 0.0, 0.0, 0.0, 0.0, 0.0, 0.0010006427764892578]\n",
            "10\n"
          ]
        }
      ]
    },
    {
      "cell_type": "markdown",
      "source": [
        "Add position to knowledge grid"
      ],
      "metadata": {
        "id": "O80q3yHqJujg"
      }
    },
    {
      "cell_type": "markdown",
      "source": [
        ""
      ],
      "metadata": {
        "id": "onHal3S9JtOT"
      }
    },
    {
      "cell_type": "code",
      "source": [
        "X_train, X_test, Y_train, Y_test = train_test_split(X, Y, test_size=0.33, shuffle=False)\n",
        "train_length = len(Y_train)\n",
        "test_length = len(Y_test)\n"
      ],
      "metadata": {
        "id": "dsE5a_cIQ02I"
      },
      "execution_count": 5,
      "outputs": []
    },
    {
      "cell_type": "code",
      "source": [
        "print(\"train length: {0}, test length: {1}\".format(train_length, test_length))\n",
        "print(\"x_train length: {0}, x_test length: {1}\".format(len(X_train), len(X_test)))\n",
        "print(index_dict[train_length - 1])\n",
        "print(index_dict[train_length])"
      ],
      "metadata": {
        "colab": {
          "base_uri": "https://localhost:8080/"
        },
        "id": "Vl9oi-Cfgkna",
        "outputId": "6926a1d4-45bd-444c-f6f5-41e8896ae29a"
      },
      "execution_count": 6,
      "outputs": [
        {
          "output_type": "stream",
          "name": "stdout",
          "text": [
            "train length: 17970, test length: 8851\n",
            "x_train length: 17970, x_test length: 8851\n",
            "[670]\n",
            "[670]\n"
          ]
        }
      ]
    },
    {
      "cell_type": "code",
      "source": [
        "train_maze_count = index_dict[train_length][0]\n",
        "def Adjust_Train_test_Lengths():\n",
        "  if index_dict[train_length-1][0] == index_dict[train_length][0]:\n",
        "    for i in range(test_length):\n",
        "      if index_dict[train_length + i][0] == train_maze_count:\n",
        "        element = X_test.pop(0)\n",
        "        X_train.append(element)\n",
        "        element = Y_test.pop(0)\n",
        "        Y_train.append(element)\n",
        "      else:\n",
        "        break\n",
        "\n",
        "Adjust_Train_test_Lengths()\n",
        "X_train_position = position_dict[0:len(X_train)]\n",
        "X_test_position = position_dict[len(X_train):data_count]\n",
        "\n",
        "train_length = len(Y_train)\n",
        "test_length = len(Y_test)\n",
        "train_maze_count = index_dict[train_length-1][0]\n",
        "maze_count = index_dict[data_count-1][0]\n",
        "test_maze_count = maze_count - train_maze_count"
      ],
      "metadata": {
        "id": "jtFJsxqVUqPe"
      },
      "execution_count": 7,
      "outputs": []
    },
    {
      "cell_type": "code",
      "source": [
        "print('after')\n",
        "print(\"total maze count: {0}, train maze count: {1}, test maze count: {2}\".format(maze_count, train_maze_count, test_maze_count))\n",
        "print(\"x_train length: {0}, x_test length: {1}\".format(len(X_train), len(X_test)))\n",
        "print(X_test[0])\n",
        "print(X_test[1])\n",
        "print(index_dict[train_length - 1])\n",
        "print(index_dict[train_length])"
      ],
      "metadata": {
        "id": "fI1djZ6eaIoK",
        "colab": {
          "base_uri": "https://localhost:8080/"
        },
        "outputId": "300fe9e1-786a-4e73-8cc1-89e46007cc50"
      },
      "execution_count": 8,
      "outputs": [
        {
          "output_type": "stream",
          "name": "stdout",
          "text": [
            "after\n",
            "total maze count: 1000, train maze count: 670, test maze count: 330\n",
            "x_train length: 17980, x_test length: 8841\n",
            "[[0 0 0 0 0 0 0 0 0 0]\n",
            " [1 0 0 0 0 0 0 0 0 0]\n",
            " [0 0 0 0 0 0 0 0 0 0]\n",
            " [0 0 0 0 0 0 0 0 0 0]\n",
            " [0 0 0 0 0 0 0 0 0 0]\n",
            " [0 0 0 0 0 0 0 0 0 0]\n",
            " [0 0 0 0 0 0 0 0 0 0]\n",
            " [0 0 0 0 0 0 0 0 0 0]\n",
            " [0 0 0 0 0 0 0 0 0 0]\n",
            " [0 0 0 0 0 0 0 0 0 0]]\n",
            "[[0 0 0 0 0 0 0 0 0 0]\n",
            " [1 0 0 0 0 0 0 0 0 0]\n",
            " [0 0 0 0 0 0 0 0 0 0]\n",
            " [0 0 0 0 0 0 0 0 0 0]\n",
            " [0 0 0 0 0 0 0 0 0 0]\n",
            " [0 0 0 0 0 0 0 0 0 0]\n",
            " [0 0 0 0 0 0 0 0 0 0]\n",
            " [0 0 0 0 0 0 0 0 0 0]\n",
            " [0 0 0 0 0 0 0 0 0 0]\n",
            " [0 0 0 0 0 0 0 0 0 0]]\n",
            "[670]\n",
            "[671]\n"
          ]
        }
      ]
    },
    {
      "cell_type": "code",
      "source": [
        "train_in_position = np.reshape(X_train_position, (-1, 1*2, ))\n",
        "test_in_position = np.reshape(X_test_position, (-1, 1*2, ))\n",
        "train_in = np.reshape(X_train, (-1, gridSize, gridSize))\n",
        "test_in = np.reshape(X_test, (-1, gridSize, gridSize))\n",
        "train_out = tf.keras.utils.to_categorical( Y_train, 4 )\n",
        "test_out = tf.keras.utils.to_categorical( Y_test, 4 )"
      ],
      "metadata": {
        "id": "I22_T4mSdksa"
      },
      "execution_count": 9,
      "outputs": []
    },
    {
      "cell_type": "code",
      "source": [
        "grid_input = tf.keras.layers.Input( shape = (gridSize,gridSize, 1) )\n",
        "cnn_1 = tf.keras.layers.Conv2D( filters = 64, kernel_size = (3,3), strides = (1,1), padding = \"valid\", activation = tf.nn.relu )( grid_input )\n",
        "flatten_grid = tf.keras.layers.Flatten()(cnn_1)\n",
        "position_input = tf.keras.layers.Input(shape = (1*2, ))\n",
        "concat = tf.keras.layers.concatenate([flatten_grid, position_input])\n",
        "dense_1 = tf.keras.layers.Dense( units = 200, activation = tf.nn.relu )( concat )\n",
        "dense_2 = tf.keras.layers.Dense( units = 100, activation = tf.nn.relu )( dense_1 )\n",
        "dense_3 = tf.keras.layers.Dense( units = 50, activation = tf.nn.relu )( dense_2 )\n",
        "dense_4 = tf.keras.layers.Dense( units = 25, activation = tf.nn.relu )( dense_3 )\n",
        "actions_output = tf.keras.layers.Dense( units = 4, activation = None )( dense_4 )\n",
        "probabilities = tf.keras.layers.Softmax()( actions_output )\n",
        "\n",
        "model = tf.keras.Model( inputs = [grid_input, position_input], outputs = probabilities )\n",
        "model.compile( optimizer = 'adam', loss = 'categorical_crossentropy', metrics = ['accuracy'] )"
      ],
      "metadata": {
        "id": "Dt9i85sqOHTn"
      },
      "execution_count": 17,
      "outputs": []
    },
    {
      "cell_type": "code",
      "source": [
        "def directionFromAction(action, position):\n",
        "  direction = ()\n",
        "  if action == 0:\n",
        "    # towards right\n",
        "    direction = (0 + position[0], 1 + position[1])\n",
        "  elif action == 1: \n",
        "    # towards down\n",
        "    direction = (1 + position[0], 0 + position[1])\n",
        "  elif action == 2:\n",
        "    # towards up\n",
        "    direction = (-1 + position[0], 0 + position[1])\n",
        "  elif action == 3:\n",
        "  # towards left\n",
        "    direction = (0 + position[0], -1 + position[1])\n",
        "  \n",
        "  return direction\n",
        "\n",
        "def generate_confusion_matrix(data, labels):\n",
        "  mat = [[ 0 for i in range(4)] for j in range(4)]\n",
        "\n",
        "  predictions = np.argmax( model.predict(data), axis = 1 )\n",
        "\n",
        "  for i in range(data[0].shape[0]):\n",
        "    mat[ labels[i] ][ predictions[i] ] += 1\n",
        "    #if i>=0 and i<= 30:\n",
        "      #print(predictions[i])\n",
        "\n",
        "  for i in range(4):\n",
        "    print( \"\\t\".join( [ str(c) for c in mat[i] ] ) )\n",
        "\n",
        "  return mat\n",
        "\n",
        "def AccuracyFrom_ConfusionMatrix(confusion_output):\n",
        "  correct = 0\n",
        "  incorrect = 0\n",
        "\n",
        "  for i in range(4):\n",
        "    for j in range(4):\n",
        "      if i==j:\n",
        "        correct += confusion_output[i][j]\n",
        "      else:\n",
        "        incorrect += confusion_output[i][j]\n",
        "\n",
        "  accuracy = correct/(correct+incorrect)\n",
        "  return accuracy\n"
      ],
      "metadata": {
        "id": "k27JH8C6T-Oc"
      },
      "execution_count": 18,
      "outputs": []
    },
    {
      "cell_type": "code",
      "source": [
        "confusion_output = generate_confusion_matrix([test_in, test_in_position], Y_test)\n",
        "accuracy = AccuracyFrom_ConfusionMatrix(confusion_output)\n",
        "print(accuracy)\n"
      ],
      "metadata": {
        "colab": {
          "base_uri": "https://localhost:8080/"
        },
        "id": "_kJ4NXHqoRRT",
        "outputId": "1b6d5412-ace9-410e-e170-4d20ce9d2ab7"
      },
      "execution_count": 19,
      "outputs": [
        {
          "output_type": "stream",
          "name": "stdout",
          "text": [
            "533\t6\t3882\t62\n",
            "170\t12\t3365\t3\n",
            "1\t0\t122\t0\n",
            "19\t0\t661\t5\n",
            "0.07600950118764846\n"
          ]
        }
      ]
    },
    {
      "cell_type": "code",
      "source": [
        "history = model.fit([train_in, train_in_position], train_out, epochs = 15)"
      ],
      "metadata": {
        "id": "BhIz2b2SqEpH",
        "colab": {
          "base_uri": "https://localhost:8080/"
        },
        "outputId": "9fa033bf-c9a9-421f-a941-6ed6fd278f2b"
      },
      "execution_count": 20,
      "outputs": [
        {
          "output_type": "stream",
          "name": "stdout",
          "text": [
            "Epoch 1/15\n",
            "562/562 [==============================] - 7s 12ms/step - loss: 0.7866 - accuracy: 0.6830\n",
            "Epoch 2/15\n",
            "562/562 [==============================] - 7s 12ms/step - loss: 0.5974 - accuracy: 0.7431\n",
            "Epoch 3/15\n",
            "562/562 [==============================] - 7s 12ms/step - loss: 0.5023 - accuracy: 0.7735\n",
            "Epoch 4/15\n",
            "562/562 [==============================] - 7s 12ms/step - loss: 0.4685 - accuracy: 0.7831\n",
            "Epoch 5/15\n",
            "562/562 [==============================] - 7s 12ms/step - loss: 0.4219 - accuracy: 0.7961\n",
            "Epoch 6/15\n",
            "562/562 [==============================] - 6s 11ms/step - loss: 0.3951 - accuracy: 0.8002\n",
            "Epoch 7/15\n",
            "562/562 [==============================] - 7s 12ms/step - loss: 0.3699 - accuracy: 0.8103\n",
            "Epoch 8/15\n",
            "562/562 [==============================] - 6s 12ms/step - loss: 0.3604 - accuracy: 0.8110\n",
            "Epoch 9/15\n",
            "562/562 [==============================] - 7s 12ms/step - loss: 0.3454 - accuracy: 0.8181\n",
            "Epoch 10/15\n",
            "562/562 [==============================] - 6s 11ms/step - loss: 0.3305 - accuracy: 0.8195\n",
            "Epoch 11/15\n",
            "562/562 [==============================] - 7s 12ms/step - loss: 0.3406 - accuracy: 0.8166\n",
            "Epoch 12/15\n",
            "562/562 [==============================] - 6s 11ms/step - loss: 0.3120 - accuracy: 0.8266\n",
            "Epoch 13/15\n",
            "562/562 [==============================] - 7s 12ms/step - loss: 0.3054 - accuracy: 0.8275\n",
            "Epoch 14/15\n",
            "562/562 [==============================] - 7s 12ms/step - loss: 0.2969 - accuracy: 0.8263\n",
            "Epoch 15/15\n",
            "562/562 [==============================] - 7s 12ms/step - loss: 0.2991 - accuracy: 0.8269\n"
          ]
        }
      ]
    },
    {
      "cell_type": "code",
      "source": [
        "confusion_output = generate_confusion_matrix([test_in, test_in_position], Y_test)\n",
        "accuracy = AccuracyFrom_ConfusionMatrix(confusion_output)\n",
        "\n",
        "print(accuracy)"
      ],
      "metadata": {
        "colab": {
          "base_uri": "https://localhost:8080/"
        },
        "id": "56RaUgBmqIrO",
        "outputId": "10eb0b33-c6b9-4fc3-f7df-d2cafbf35abe"
      },
      "execution_count": 16,
      "outputs": [
        {
          "output_type": "stream",
          "name": "stdout",
          "text": [
            "4262\t161\t2\t58\n",
            "734\t2642\t1\t173\n",
            "26\t30\t2\t65\n",
            "54\t358\t0\t273\n",
            "0.8120122158126909\n"
          ]
        }
      ]
    },
    {
      "cell_type": "code",
      "source": [
        "model.save('model_agent1_0_dim10_15000.hf5')\n",
        "#model_file = ''\n",
        "#model=load_model(model_file)\n",
        "#model.summary()"
      ],
      "metadata": {
        "id": "LbyS47lGgTyH",
        "colab": {
          "base_uri": "https://localhost:8080/"
        },
        "outputId": "8eb21c2b-7ada-4331-fe91-2a5659cb60f2"
      },
      "execution_count": null,
      "outputs": [
        {
          "output_type": "stream",
          "name": "stdout",
          "text": [
            "INFO:tensorflow:Assets written to: model_agent1_0_dim10_15000.hf5/assets\n"
          ]
        }
      ]
    },
    {
      "cell_type": "code",
      "source": [
        "model=load_model('model_agent1_0_dim10_1000.hf5')\n",
        "model.summary()"
      ],
      "metadata": {
        "colab": {
          "base_uri": "https://localhost:8080/"
        },
        "id": "hOZj49Z0N8Ue",
        "outputId": "fbca2263-02da-40a4-9b0e-fb1e92acd7ac"
      },
      "execution_count": null,
      "outputs": [
        {
          "output_type": "stream",
          "name": "stdout",
          "text": [
            "Model: \"model_2\"\n",
            "__________________________________________________________________________________________________\n",
            " Layer (type)                   Output Shape         Param #     Connected to                     \n",
            "==================================================================================================\n",
            " input_5 (InputLayer)           [(None, 10, 10)]     0           []                               \n",
            "                                                                                                  \n",
            " flatten_2 (Flatten)            (None, 100)          0           ['input_5[0][0]']                \n",
            "                                                                                                  \n",
            " input_6 (InputLayer)           [(None, 2)]          0           []                               \n",
            "                                                                                                  \n",
            " concatenate_2 (Concatenate)    (None, 102)          0           ['flatten_2[0][0]',              \n",
            "                                                                  'input_6[0][0]']                \n",
            "                                                                                                  \n",
            " dense_10 (Dense)               (None, 200)          20600       ['concatenate_2[0][0]']          \n",
            "                                                                                                  \n",
            " dense_11 (Dense)               (None, 100)          20100       ['dense_10[0][0]']               \n",
            "                                                                                                  \n",
            " dense_12 (Dense)               (None, 50)           5050        ['dense_11[0][0]']               \n",
            "                                                                                                  \n",
            " dense_13 (Dense)               (None, 25)           1275        ['dense_12[0][0]']               \n",
            "                                                                                                  \n",
            " dense_14 (Dense)               (None, 4)            104         ['dense_13[0][0]']               \n",
            "                                                                                                  \n",
            " softmax_2 (Softmax)            (None, 4)            0           ['dense_14[0][0]']               \n",
            "                                                                                                  \n",
            "==================================================================================================\n",
            "Total params: 47,129\n",
            "Trainable params: 47,129\n",
            "Non-trainable params: 0\n",
            "__________________________________________________________________________________________________\n"
          ]
        }
      ]
    },
    {
      "cell_type": "code",
      "source": [
        "directions = [[0,1], [1, 0], [-1, 0], [0, -1]]\n",
        "\n",
        "def UpdateKg(maze, kg, pos):\n",
        "  for i in directions:\n",
        "    new_position = [pos[0] + i[0], pos[1] + i[1]]\n",
        "    #print(new_position)\n",
        "    #print(kg[new_position[0]][new_position[1]])\n",
        "    #print(maze[new_position[0]][new_position[1]])\n",
        "    if new_position[0] >= 0 and new_position[0] < gridSize and new_position[1] >= 0 and new_position[1] < gridSize:\n",
        "      kg[new_position[0]][new_position[1]] = maze[new_position[0]][new_position[1]]\n",
        "      #print('updated')\n",
        "  return kg \n",
        "\n",
        "  \n",
        "def getUpdatedPos(kg, pos):\n",
        "  positions = []\n",
        "  for i in directions:\n",
        "    new_position = [pos[0] + i[0], pos[1] + i[1]]\n",
        "    #if new_position[0] >= 0 and new_position[0] < gridSize and new_position[1] >= 0 and new_position[1] < gridSize:\n",
        "    if CheckValidPosition(new_position):\n",
        "      if kg[new_position[0]][new_position[1]] != 1:\n",
        "        positions.append(new_position)\n",
        "\n",
        "  rand = np.random.randint(len(positions))     \n",
        "  pos[0] = positions[rand][0]\n",
        "  pos[1] = positions[rand][1]\n",
        "  return pos\n",
        "\n",
        "\n",
        "def CheckValidPosition(position):\n",
        "  if position[0] >= 0 and position[0] < gridSize and position[1] >= 0 and position[1] < gridSize:\n",
        "    return True\n",
        "  else:\n",
        "    return False\n"
      ],
      "metadata": {
        "id": "ySsxeJE4d62H"
      },
      "execution_count": 21,
      "outputs": []
    },
    {
      "cell_type": "code",
      "source": [
        "def FindPathInTestGrids():\n",
        "  initial_grid = [[0 for i in range(gridSize)] for j in range(gridSize)]#test_in[0:1]\n",
        "  #initial_grid[0][0] = 0\n",
        "  #initial_grid[gridSize-1][gridSize-1] = 0\n",
        "  initial_position = np.array([[0, 0]]) #test_in_position[0:1]\n",
        "  pathLengths = []\n",
        "  TimeTaken = []\n",
        "  solved_grids = 0\n",
        "  unsolved_grids = 0\n",
        "\n",
        "  #for i in range (train_maze_count+10, train_maze_count+35):\n",
        "  for i in range (train_maze_count+1, maze_count+1):\n",
        "    pathFound = False\n",
        "    grid_number = i\n",
        "    pathlength = 0\n",
        "    time_One_grid =0\n",
        "    kg =  np.array([initial_grid])\n",
        "    pos = np.array([[0, 0]])\n",
        "    maze = maze_dict[i -1]\n",
        "    #print(maze)\n",
        "    #print(kg)\n",
        "    pos = np.array([[0, 0]])\n",
        "    #print(pos)\n",
        "    startTime = time.time()  # Start time \n",
        "    blockcount = 0\n",
        "\n",
        "    while pathFound == False:\n",
        "      #print(kg[0])\n",
        "      #print(pos)\n",
        "      kg[0] = UpdateKg(maze, kg[0], pos[0])\n",
        "      #print(kg[0])\n",
        "      pathlength += 1\n",
        "      #break\n",
        "      single_prediction = np.argmax(model.predict([kg,pos]), axis = 1)\n",
        "      direction = directionFromAction(single_prediction,pos[0])\n",
        "      #print(direction)\n",
        "      if direction == (gridSize-1, gridSize-1):\n",
        "        pathFound = True\n",
        "        pathLengths.append(pathlength)\n",
        "        endTime = time.time() #end time\n",
        "        time_One_grid = endTime - startTime\n",
        "        TimeTaken.append(time_One_grid)\n",
        "        solved_grids += 1\n",
        "        #print(pathlength)\n",
        "        #print(time_One_grid)\n",
        "        print('grid {0} solved'.format(solved_grids))\n",
        "        break\n",
        "      isDirectionValid = CheckValidPosition(direction)\n",
        "      if (isDirectionValid and maze[direction[0]][direction[1]] == 1) or (isDirectionValid == False):\n",
        "        #print('blocked')\n",
        "        pathlength += 1\n",
        "        pos[0] = getUpdatedPos(kg[0], pos[0])\n",
        "        #print(pos)\n",
        "        blockcount +=1\n",
        "        if blockcount > gridSize * 5:\n",
        "          print('limit excceeded')\n",
        "          unsolved_grids += 1\n",
        "          break\n",
        "      else:\n",
        "        #print('not blocked')\n",
        "        pos[0] = direction\n",
        "\n",
        "  return test_maze_count, pathLengths, TimeTaken, solved_grids, unsolved_grids\n",
        " "
      ],
      "metadata": {
        "id": "jL3YctPpZGbU"
      },
      "execution_count": 28,
      "outputs": []
    },
    {
      "cell_type": "code",
      "source": [
        "test_maze_count, pathLengths, TimeTaken, solved_grids, unsolved_grids = FindPathInTestGrids()\n",
        "print('test grids: {0}'.format(test_maze_count))\n",
        "print('path lengths : {0}'.format(pathLengths))\n",
        "print('Time taken: {0} '.format(TimeTaken))\n",
        "print('solved grids: {0}, unsolved grids : {1}'.format(solved_grids, unsolved_grids))\n",
        "#print(AstartTime_dict[train_maze_count: maze_count])"
      ],
      "metadata": {
        "colab": {
          "base_uri": "https://localhost:8080/"
        },
        "id": "OqjWCy5sHJH4",
        "outputId": "414e0cc6-558f-47c2-acb4-a8869179bf75"
      },
      "execution_count": 29,
      "outputs": [
        {
          "output_type": "stream",
          "name": "stdout",
          "text": [
            "grid 1 solved\n",
            "limit excceeded\n",
            "grid 2 solved\n",
            "grid 3 solved\n",
            "grid 4 solved\n",
            "grid 5 solved\n",
            "grid 6 solved\n",
            "grid 7 solved\n",
            "grid 8 solved\n",
            "grid 9 solved\n",
            "grid 10 solved\n",
            "grid 11 solved\n",
            "grid 12 solved\n",
            "limit excceeded\n",
            "grid 13 solved\n",
            "grid 14 solved\n",
            "grid 15 solved\n",
            "grid 16 solved\n",
            "grid 17 solved\n",
            "grid 18 solved\n",
            "grid 19 solved\n",
            "grid 20 solved\n",
            "grid 21 solved\n",
            "grid 22 solved\n",
            "grid 23 solved\n",
            "grid 24 solved\n",
            "grid 25 solved\n",
            "grid 26 solved\n",
            "grid 27 solved\n",
            "grid 28 solved\n",
            "grid 29 solved\n",
            "grid 30 solved\n",
            "grid 31 solved\n",
            "grid 32 solved\n",
            "grid 33 solved\n",
            "limit excceeded\n",
            "grid 34 solved\n",
            "limit excceeded\n",
            "grid 35 solved\n",
            "grid 36 solved\n",
            "grid 37 solved\n",
            "grid 38 solved\n",
            "grid 39 solved\n",
            "grid 40 solved\n",
            "grid 41 solved\n",
            "limit excceeded\n",
            "grid 42 solved\n",
            "grid 43 solved\n",
            "grid 44 solved\n",
            "grid 45 solved\n",
            "grid 46 solved\n",
            "grid 47 solved\n",
            "grid 48 solved\n",
            "grid 49 solved\n",
            "grid 50 solved\n",
            "grid 51 solved\n",
            "grid 52 solved\n",
            "grid 53 solved\n",
            "grid 54 solved\n",
            "grid 55 solved\n",
            "grid 56 solved\n",
            "grid 57 solved\n",
            "grid 58 solved\n",
            "grid 59 solved\n",
            "grid 60 solved\n",
            "limit excceeded\n",
            "grid 61 solved\n",
            "grid 62 solved\n",
            "grid 63 solved\n",
            "grid 64 solved\n",
            "grid 65 solved\n",
            "grid 66 solved\n",
            "grid 67 solved\n",
            "grid 68 solved\n",
            "grid 69 solved\n",
            "grid 70 solved\n",
            "limit excceeded\n",
            "grid 71 solved\n",
            "grid 72 solved\n",
            "grid 73 solved\n",
            "limit excceeded\n",
            "grid 74 solved\n",
            "limit excceeded\n",
            "grid 75 solved\n",
            "grid 76 solved\n",
            "grid 77 solved\n",
            "grid 78 solved\n",
            "grid 79 solved\n",
            "grid 80 solved\n",
            "grid 81 solved\n",
            "grid 82 solved\n",
            "limit excceeded\n",
            "grid 83 solved\n",
            "grid 84 solved\n",
            "grid 85 solved\n",
            "limit excceeded\n",
            "limit excceeded\n",
            "grid 86 solved\n",
            "grid 87 solved\n",
            "grid 88 solved\n",
            "grid 89 solved\n",
            "grid 90 solved\n",
            "grid 91 solved\n",
            "grid 92 solved\n",
            "grid 93 solved\n",
            "grid 94 solved\n",
            "grid 95 solved\n",
            "grid 96 solved\n",
            "grid 97 solved\n",
            "grid 98 solved\n",
            "grid 99 solved\n",
            "grid 100 solved\n",
            "grid 101 solved\n",
            "grid 102 solved\n",
            "grid 103 solved\n",
            "grid 104 solved\n",
            "grid 105 solved\n",
            "grid 106 solved\n",
            "grid 107 solved\n",
            "grid 108 solved\n",
            "grid 109 solved\n",
            "grid 110 solved\n",
            "grid 111 solved\n",
            "limit excceeded\n",
            "grid 112 solved\n",
            "grid 113 solved\n",
            "grid 114 solved\n",
            "grid 115 solved\n",
            "grid 116 solved\n",
            "limit excceeded\n",
            "grid 117 solved\n",
            "grid 118 solved\n",
            "grid 119 solved\n",
            "grid 120 solved\n",
            "grid 121 solved\n",
            "grid 122 solved\n",
            "grid 123 solved\n",
            "grid 124 solved\n",
            "grid 125 solved\n",
            "grid 126 solved\n",
            "grid 127 solved\n",
            "grid 128 solved\n",
            "grid 129 solved\n",
            "grid 130 solved\n",
            "limit excceeded\n",
            "grid 131 solved\n",
            "grid 132 solved\n",
            "grid 133 solved\n",
            "grid 134 solved\n",
            "grid 135 solved\n",
            "grid 136 solved\n",
            "grid 137 solved\n",
            "grid 138 solved\n",
            "grid 139 solved\n",
            "grid 140 solved\n",
            "grid 141 solved\n",
            "limit excceeded\n",
            "grid 142 solved\n",
            "grid 143 solved\n",
            "grid 144 solved\n",
            "grid 145 solved\n",
            "grid 146 solved\n",
            "grid 147 solved\n",
            "grid 148 solved\n",
            "grid 149 solved\n",
            "grid 150 solved\n",
            "grid 151 solved\n",
            "grid 152 solved\n",
            "grid 153 solved\n",
            "grid 154 solved\n",
            "grid 155 solved\n",
            "grid 156 solved\n",
            "grid 157 solved\n",
            "grid 158 solved\n",
            "grid 159 solved\n",
            "grid 160 solved\n",
            "grid 161 solved\n",
            "grid 162 solved\n",
            "grid 163 solved\n",
            "grid 164 solved\n",
            "grid 165 solved\n",
            "grid 166 solved\n",
            "grid 167 solved\n",
            "grid 168 solved\n",
            "grid 169 solved\n",
            "grid 170 solved\n",
            "grid 171 solved\n",
            "grid 172 solved\n",
            "grid 173 solved\n",
            "grid 174 solved\n",
            "grid 175 solved\n",
            "grid 176 solved\n",
            "grid 177 solved\n",
            "grid 178 solved\n",
            "grid 179 solved\n",
            "grid 180 solved\n",
            "grid 181 solved\n",
            "grid 182 solved\n",
            "grid 183 solved\n",
            "grid 184 solved\n",
            "grid 185 solved\n",
            "grid 186 solved\n",
            "grid 187 solved\n",
            "grid 188 solved\n",
            "grid 189 solved\n",
            "grid 190 solved\n",
            "grid 191 solved\n",
            "grid 192 solved\n",
            "grid 193 solved\n",
            "grid 194 solved\n",
            "grid 195 solved\n",
            "grid 196 solved\n",
            "grid 197 solved\n",
            "limit excceeded\n",
            "limit excceeded\n",
            "grid 198 solved\n",
            "grid 199 solved\n",
            "grid 200 solved\n",
            "grid 201 solved\n",
            "grid 202 solved\n",
            "limit excceeded\n",
            "grid 203 solved\n",
            "grid 204 solved\n",
            "grid 205 solved\n",
            "grid 206 solved\n",
            "grid 207 solved\n",
            "limit excceeded\n",
            "grid 208 solved\n",
            "grid 209 solved\n",
            "grid 210 solved\n",
            "grid 211 solved\n",
            "grid 212 solved\n",
            "grid 213 solved\n",
            "grid 214 solved\n",
            "grid 215 solved\n",
            "grid 216 solved\n",
            "grid 217 solved\n",
            "grid 218 solved\n",
            "grid 219 solved\n",
            "grid 220 solved\n",
            "grid 221 solved\n",
            "grid 222 solved\n",
            "grid 223 solved\n",
            "grid 224 solved\n",
            "grid 225 solved\n",
            "limit excceeded\n",
            "grid 226 solved\n",
            "grid 227 solved\n",
            "limit excceeded\n",
            "grid 228 solved\n",
            "grid 229 solved\n",
            "limit excceeded\n",
            "grid 230 solved\n",
            "grid 231 solved\n",
            "grid 232 solved\n",
            "grid 233 solved\n",
            "grid 234 solved\n",
            "grid 235 solved\n",
            "limit excceeded\n",
            "grid 236 solved\n",
            "grid 237 solved\n",
            "grid 238 solved\n",
            "grid 239 solved\n",
            "grid 240 solved\n",
            "grid 241 solved\n",
            "limit excceeded\n",
            "grid 242 solved\n",
            "grid 243 solved\n",
            "grid 244 solved\n",
            "grid 245 solved\n",
            "grid 246 solved\n",
            "grid 247 solved\n",
            "grid 248 solved\n",
            "grid 249 solved\n",
            "grid 250 solved\n",
            "grid 251 solved\n",
            "grid 252 solved\n",
            "grid 253 solved\n",
            "grid 254 solved\n",
            "grid 255 solved\n",
            "limit excceeded\n",
            "grid 256 solved\n",
            "grid 257 solved\n",
            "grid 258 solved\n",
            "grid 259 solved\n",
            "grid 260 solved\n",
            "grid 261 solved\n",
            "grid 262 solved\n",
            "grid 263 solved\n",
            "grid 264 solved\n",
            "grid 265 solved\n",
            "grid 266 solved\n",
            "grid 267 solved\n",
            "grid 268 solved\n",
            "grid 269 solved\n",
            "grid 270 solved\n",
            "grid 271 solved\n",
            "grid 272 solved\n",
            "grid 273 solved\n",
            "grid 274 solved\n",
            "grid 275 solved\n",
            "grid 276 solved\n",
            "grid 277 solved\n",
            "grid 278 solved\n",
            "grid 279 solved\n",
            "grid 280 solved\n",
            "grid 281 solved\n",
            "grid 282 solved\n",
            "grid 283 solved\n",
            "grid 284 solved\n",
            "grid 285 solved\n",
            "grid 286 solved\n",
            "grid 287 solved\n",
            "grid 288 solved\n",
            "grid 289 solved\n",
            "grid 290 solved\n",
            "grid 291 solved\n",
            "grid 292 solved\n",
            "grid 293 solved\n",
            "grid 294 solved\n",
            "grid 295 solved\n",
            "grid 296 solved\n",
            "grid 297 solved\n",
            "limit excceeded\n",
            "grid 298 solved\n",
            "grid 299 solved\n",
            "limit excceeded\n",
            "grid 300 solved\n",
            "grid 301 solved\n",
            "grid 302 solved\n",
            "test grids: 330\n",
            "path lengths : [32, 39, 52, 18, 27, 86, 20, 26, 72, 32, 57, 39, 23, 27, 41, 36, 28, 34, 30, 27, 38, 57, 19, 23, 20, 20, 52, 21, 26, 34, 22, 20, 22, 52, 28, 25, 27, 45, 23, 36, 37, 25, 53, 35, 22, 31, 24, 21, 20, 20, 55, 43, 50, 44, 95, 23, 80, 22, 42, 20, 53, 31, 37, 46, 20, 36, 44, 44, 29, 77, 19, 34, 35, 37, 29, 29, 40, 54, 38, 39, 24, 68, 97, 24, 36, 22, 30, 31, 27, 43, 33, 20, 35, 27, 27, 47, 21, 28, 22, 27, 23, 24, 31, 26, 52, 59, 73, 58, 40, 23, 24, 56, 19, 64, 22, 22, 66, 53, 30, 20, 34, 20, 22, 40, 31, 21, 27, 44, 29, 28, 35, 32, 28, 41, 68, 37, 26, 91, 41, 44, 24, 20, 50, 46, 25, 31, 28, 38, 89, 72, 30, 29, 22, 57, 20, 37, 64, 46, 22, 40, 23, 24, 43, 25, 22, 67, 40, 25, 18, 25, 27, 35, 27, 26, 19, 28, 49, 24, 26, 37, 39, 22, 29, 28, 34, 31, 69, 20, 83, 64, 22, 18, 23, 31, 37, 39, 42, 18, 46, 27, 28, 28, 19, 24, 20, 36, 67, 21, 94, 27, 56, 25, 26, 40, 31, 22, 47, 38, 21, 27, 28, 81, 21, 34, 45, 31, 31, 27, 24, 24, 21, 24, 25, 25, 76, 79, 30, 49, 39, 22, 30, 20, 24, 23, 32, 23, 33, 46, 56, 18, 29, 33, 63, 35, 27, 20, 34, 22, 19, 33, 29, 23, 18, 19, 37, 21, 21, 35, 21, 36, 20, 60, 20, 18, 28, 21, 30, 84, 37, 26, 36, 47, 37, 26, 65, 38, 48, 31, 62, 29, 25, 36, 45, 28, 19, 36, 21, 23, 56, 31, 30, 29]\n",
            "Time taken: [1.460355281829834, 8.624505758285522, 2.5930914878845215, 1.7207605838775635, 1.5947110652923584, 4.042360305786133, 1.0989220142364502, 1.652003526687622, 2.7095601558685303, 1.460752010345459, 2.106515645980835, 1.6498253345489502, 1.0560824871063232, 1.3284516334533691, 1.8069343566894531, 1.5802867412567139, 1.3124048709869385, 1.8072998523712158, 1.3852415084838867, 1.353583812713623, 1.7114911079406738, 2.201901912689209, 0.970271110534668, 1.1459369659423828, 0.9712879657745361, 1.049738883972168, 2.0846469402313232, 1.0618138313293457, 1.2787775993347168, 1.4687809944152832, 1.1982502937316895, 1.0589377880096436, 1.340001106262207, 2.002624273300171, 1.3759465217590332, 1.1575703620910645, 1.2693755626678467, 1.7186288833618164, 1.1601307392120361, 1.376201868057251, 1.575181484222412, 1.1800000667572021, 1.950373888015747, 1.5374789237976074, 1.1046497821807861, 1.282146692276001, 1.0728027820587158, 1.0704236030578613, 1.0573310852050781, 1.0848846435546875, 2.478742837905884, 2.2084243297576904, 2.1678287982940674, 1.8395862579345703, 3.639342784881592, 1.172940731048584, 3.0892345905303955, 1.1663575172424316, 1.7298476696014404, 1.0539898872375488, 2.363217830657959, 1.479297161102295, 1.6995351314544678, 1.9535942077636719, 0.9524638652801514, 1.8581171035766602, 1.7880611419677734, 1.971818447113037, 1.4154069423675537, 2.8196661472320557, 0.95125412940979, 1.599264144897461, 1.5961570739746094, 1.4674623012542725, 1.3882534503936768, 1.291088581085205, 2.236769676208496, 2.562624931335449, 1.604358434677124, 1.659726858139038, 1.1946253776550293, 2.537627696990967, 3.802844285964966, 1.1224288940429688, 1.5800905227661133, 1.0770370960235596, 1.38173246383667, 1.3923671245574951, 1.3425192832946777, 1.7487618923187256, 1.517202615737915, 1.0741784572601318, 1.641050100326538, 1.219620943069458, 1.3155162334442139, 2.0797219276428223, 1.2701148986816406, 1.9915359020233154, 1.2027602195739746, 1.1726551055908203, 1.1591472625732422, 1.1934447288513184, 1.453169822692871, 1.2740352153778076, 2.024129867553711, 2.5915164947509766, 2.912113666534424, 2.4605462551116943, 1.6202683448791504, 1.2357499599456787, 1.2116880416870117, 2.131042957305908, 0.9646685123443604, 2.5769331455230713, 1.0414800643920898, 1.1973373889923096, 2.7751529216766357, 2.5144591331481934, 1.4868078231811523, 1.069441318511963, 1.56300687789917, 1.0942437648773193, 1.20792818069458, 1.7530527114868164, 1.5425195693969727, 1.0559930801391602, 1.2391908168792725, 2.0004992485046387, 1.2642583847045898, 1.2953007221221924, 1.6048595905303955, 1.4939830303192139, 1.1400377750396729, 1.6570844650268555, 3.0532519817352295, 1.5750484466552734, 1.2966363430023193, 3.4973244667053223, 1.8571996688842773, 1.884547233581543, 1.2493681907653809, 1.0859413146972656, 1.9945042133331299, 2.092972993850708, 1.202979564666748, 1.5114474296569824, 1.3527016639709473, 1.829284906387329, 3.6296157836914062, 2.881708860397339, 1.6271779537200928, 1.4263668060302734, 1.1105260848999023, 2.321444511413574, 1.0665977001190186, 1.5961201190948486, 2.485208749771118, 1.915407657623291, 1.0383517742156982, 1.830388069152832, 1.1836247444152832, 1.1831533908843994, 1.9270141124725342, 1.2611308097839355, 1.168886423110962, 2.968528985977173, 1.6729216575622559, 1.1757469177246094, 0.9535930156707764, 1.2887635231018066, 1.275777816772461, 1.4657044410705566, 1.2626292705535889, 1.2655389308929443, 0.9550497531890869, 1.367833137512207, 2.0099072456359863, 1.187964916229248, 1.2905781269073486, 1.5595567226409912, 1.6527178287506104, 1.2157518863677979, 1.2509207725524902, 1.343008041381836, 1.4732530117034912, 1.4615740776062012, 2.817348003387451, 1.2390305995941162, 3.293055295944214, 2.6477468013763428, 1.1612985134124756, 0.9531307220458984, 1.1642019748687744, 1.367833137512207, 1.6213610172271729, 1.7804973125457764, 1.7188584804534912, 0.9453625679016113, 2.2965457439422607, 1.365889549255371, 1.3017067909240723, 1.2751860618591309, 0.9536428451538086, 1.0226023197174072, 1.0852842330932617, 1.4803111553192139, 2.6138880252838135, 1.0717473030090332, 3.5295963287353516, 1.2598686218261719, 2.0859882831573486, 1.0539605617523193, 1.6816351413726807, 1.7169616222381592, 1.3975348472595215, 1.0582020282745361, 1.98805832862854, 1.6636285781860352, 1.0606780052185059, 1.1865215301513672, 1.2714262008666992, 3.1782023906707764, 1.1084990501403809, 1.4817464351654053, 1.9133498668670654, 1.463282585144043, 1.6223130226135254, 1.2237982749938965, 1.2589683532714844, 1.1165883541107178, 1.0841951370239258, 1.1329233646392822, 1.239999771118164, 1.2626607418060303, 2.8020730018615723, 3.091606616973877, 1.3636715412139893, 2.009265184402466, 1.7622346878051758, 1.0664889812469482, 1.3913600444793701, 1.0542161464691162, 1.1689317226409912, 1.0645184516906738, 1.354231834411621, 1.2040162086486816, 1.3378844261169434, 1.9847619533538818, 2.2094197273254395, 0.9500827789306641, 1.3935580253601074, 1.4798617362976074, 2.7054443359375, 1.5927646160125732, 1.3068187236785889, 1.06591796875, 1.5084683895111084, 1.1915862560272217, 0.9292957782745361, 1.4643080234527588, 1.3065927028656006, 1.0912256240844727, 1.000152349472046, 0.9390583038330078, 1.5865108966827393, 1.0785636901855469, 1.0572588443756104, 1.6859207153320312, 1.075636863708496, 1.5920491218566895, 1.0941452980041504, 2.306410074234009, 1.3722813129425049, 0.9691634178161621, 1.3846919536590576, 1.0531842708587646, 1.274221658706665, 3.176314115524292, 1.7715308666229248, 1.2897369861602783, 1.8303344249725342, 1.91135573387146, 1.8006799221038818, 1.3238012790679932, 2.3774049282073975, 1.4838333129882812, 1.886096715927124, 1.3894271850585938, 2.4697954654693604, 1.3844828605651855, 1.1706328392028809, 1.7569446563720703, 1.857837200164795, 1.3562498092651367, 0.9475483894348145, 1.606407880783081, 0.9319801330566406, 1.0631556510925293, 2.232836961746216, 1.2509651184082031, 1.3634452819824219, 1.3385546207427979] \n",
            "solved grids: 302, unsolved grids : 28\n"
          ]
        }
      ]
    },
    {
      "cell_type": "code",
      "source": [
        "sovability = solved_grids/(solved_grids + unsolved_grids)\n",
        "avg_path_length = sum(pathLengths)/len(pathLengths)\n",
        "avg_time = sum(TimeTaken)/len(TimeTaken)\n",
        "print(\"solvability : {0} \".format(sovability))\n",
        "print(\"average path length : {0} \".format(avg_path_length))\n",
        "print(\"average time taken to solve : {0} \".format(avg_time))"
      ],
      "metadata": {
        "colab": {
          "base_uri": "https://localhost:8080/"
        },
        "id": "jqM2vHimk9-z",
        "outputId": "8a79c387-35df-4bd6-fc48-2d5e72e15eec"
      },
      "execution_count": 30,
      "outputs": [
        {
          "output_type": "stream",
          "name": "stdout",
          "text": [
            "solvability : 0.9151515151515152 \n",
            "average path length : 35.36092715231788 \n",
            "average time taken to solve : 1.616810350228619 \n"
          ]
        }
      ]
    }
  ]
}