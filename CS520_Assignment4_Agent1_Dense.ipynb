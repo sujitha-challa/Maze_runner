{
  "nbformat": 4,
  "nbformat_minor": 0,
  "metadata": {
    "colab": {
      "name": "CS520_Assignment4_Agent1_Dense.ipynb",
      "provenance": [],
      "collapsed_sections": []
    },
    "kernelspec": {
      "name": "python3",
      "display_name": "Python 3"
    },
    "language_info": {
      "name": "python"
    }
  },
  "cells": [
    {
      "cell_type": "code",
      "execution_count": 3,
      "metadata": {
        "id": "gLpyvVVfDuQW"
      },
      "outputs": [],
      "source": [
        "import tensorflow as tf\n",
        "import numpy as np\n",
        "import pandas as pd\n",
        "from collections import defaultdict\n",
        "import pickle\n",
        "from sklearn.model_selection import train_test_split\n",
        "import time\n",
        "from numpy.core.records import array\n",
        "from keras.models import load_model"
      ]
    },
    {
      "cell_type": "code",
      "source": [
        "with open('/content/grids_agent1_dim10_count1000.pkl', \"rb\") as f:\n",
        "    dict = pickle.load(f)\n",
        "\n",
        "X = dict['KnowledgeGrid']\n",
        "Y = dict['action']\n",
        "position_dict = dict['position']\n",
        "index_dict = dict['Index']\n",
        "data_count = len(Y)\n",
        "gridSize = len(X[0][0])\n",
        "maze_dict = dict['maze']\n",
        "AstartTime_dict = dict['AstarTime']"
      ],
      "metadata": {
        "id": "B0-n-LxXDyKg"
      },
      "execution_count": 4,
      "outputs": []
    },
    {
      "cell_type": "code",
      "source": [
        "# Reshape position list into array\n",
        "for i in range(data_count):\n",
        "  position_dict[i] = np.reshape(position_dict[i], 1*2)"
      ],
      "metadata": {
        "id": "JYcieRmLjWbt"
      },
      "execution_count": 5,
      "outputs": []
    },
    {
      "cell_type": "code",
      "source": [
        "print(gridSize)\n",
        "print(data_count)\n",
        "print(X[0])\n",
        "print(position_dict[0])\n",
        "print(len(maze_dict))\n",
        "print((maze_dict[0]))\n",
        "print((AstartTime_dict[0]))\n",
        "print(len(AstartTime_dict))\n",
        "print((AstartTime_dict))\n",
        "print(X[0].shape[0])"
      ],
      "metadata": {
        "id": "V7H693XyKhHQ",
        "colab": {
          "base_uri": "https://localhost:8080/"
        },
        "outputId": "ef6bb42c-eb2f-4ddf-e4ab-3ac82dc802ba"
      },
      "execution_count": 6,
      "outputs": [
        {
          "output_type": "stream",
          "name": "stdout",
          "text": [
            "10\n",
            "26821\n",
            "[[0 0 0 0 0 0 0 0 0 0]\n",
            " [0 0 0 0 0 0 0 0 0 0]\n",
            " [0 0 0 0 0 0 0 0 0 0]\n",
            " [0 0 0 0 0 0 0 0 0 0]\n",
            " [0 0 0 0 0 0 0 0 0 0]\n",
            " [0 0 0 0 0 0 0 0 0 0]\n",
            " [0 0 0 0 0 0 0 0 0 0]\n",
            " [0 0 0 0 0 0 0 0 0 0]\n",
            " [0 0 0 0 0 0 0 0 0 0]\n",
            " [0 0 0 0 0 0 0 0 0 0]]\n",
            "[0 0]\n",
            "1000\n",
            "[[0, 0, 0, 0, 0, 0, 0, 0, 0, 0], [0, 0, 1, 0, 0, 0, 0, 0, 0, 0], [0, 0, 0, 0, 0, 1, 0, 0, 1, 0], [0, 0, 0, 1, 0, 1, 0, 0, 0, 1], [0, 0, 0, 0, 1, 1, 0, 0, 1, 0], [0, 0, 0, 0, 0, 0, 0, 0, 0, 0], [1, 0, 0, 0, 1, 0, 1, 0, 1, 0], [0, 1, 0, 0, 1, 0, 0, 0, 0, 1], [0, 0, 1, 1, 0, 1, 0, 0, 0, 0], [0, 0, 0, 1, 0, 0, 0, 0, 0, 0]]\n",
            "0.0011715888977050781\n",
            "1000\n",
            "[0.0011715888977050781, 0.0010848045349121094, 0.0, 0.0010716915130615234, 0.0009708404541015625, 0.0, 0.0, 0.0, 0.0, 0.0, 0.0, 0.0, 0.0, 0.0010004043579101562, 0.0010001659393310547, 0.0, 0.0, 0.0, 0.0009999275207519531, 0.0, 0.0, 0.0, 0.0, 0.0, 0.0010004043579101562, 0.0, 0.0, 0.0010876655578613281, 0.0009999275207519531, 0.0, 0.0, 0.0, 0.0, 0.0, 0.0, 0.0010039806365966797, 0.0010173320770263672, 0.0, 0.0, 0.0, 0.0, 0.0011055469512939453, 0.0009999275207519531, 0.0, 0.0, 0.0, 0.0, 0.0, 0.0, 0.0, 0.0009999275207519531, 0.000995635986328125, 0.0, 0.0, 0.001077890396118164, 0.0009987354278564453, 0.0010707378387451172, 0.0, 0.0, 0.0, 0.0010013580322265625, 0.0012767314910888672, 0.0, 0.0010004043579101562, 0.0009987354278564453, 0.0, 0.0, 0.0, 0.0, 0.0010001659393310547, 0.000993490219116211, 0.0, 0.0010075569152832031, 0.0, 0.0004994869232177734, 0.0, 0.0, 0.0, 0.0009987354278564453, 0.0, 0.0010044574737548828, 0.00040793418884277344, 0.0, 0.0, 0.0010144710540771484, 0.0, 0.0011310577392578125, 0.0013000965118408203, 0.000997304916381836, 0.0006206035614013672, 0.0, 0.0010645389556884766, 0.00099945068359375, 0.0010001659393310547, 0.0010004043579101562, 0.0009999275207519531, 0.0, 0.0, 0.0, 0.0, 0.0, 0.0, 0.0, 0.0010538101196289062, 0.0009996891021728516, 0.0, 0.0, 0.0010001659393310547, 0.0005009174346923828, 0.00034689903259277344, 0.001161336898803711, 0.0010004043579101562, 0.0010001659393310547, 0.0, 0.0010001659393310547, 0.0, 0.0, 0.0, 0.0013384819030761719, 0.0, 0.0004336833953857422, 0.0009996891021728516, 0.0, 0.0, 0.0, 0.0005240440368652344, 0.0, 0.0009999275207519531, 0.0009989738464355469, 0.0009999275207519531, 0.0, 0.0009999275207519531, 0.0, 0.0, 0.0009999275207519531, 0.0010128021240234375, 0.0, 0.0, 0.0010001659393310547, 0.0011425018310546875, 0.0009987354278564453, 0.0009999275207519531, 0.0009999275207519531, 0.0010001659393310547, 0.0, 0.0014233589172363281, 0.0010001659393310547, 0.0011491775512695312, 0.0009999275207519531, 0.0, 0.0, 0.0010001659393310547, 0.0, 0.0, 0.0010454654693603516, 0.0010001659393310547, 0.00040268898010253906, 0.0, 0.0010008811950683594, 0.0010223388671875, 0.0, 0.0, 0.0, 0.0004992485046386719, 0.0009999275207519531, 0.0009891986846923828, 0.0010001659393310547, 0.0010154247283935547, 0.0, 0.0010018348693847656, 0.0009984970092773438, 0.0010135173797607422, 0.001004934310913086, 0.0, 0.0, 0.0009999275207519531, 0.0, 0.00024390220642089844, 0.0, 0.0010309219360351562, 0.0, 0.0, 0.0010001659393310547, 0.00027823448181152344, 0.0, 0.0010001659393310547, 0.0, 0.0, 0.0009987354278564453, 0.00099945068359375, 0.00099945068359375, 0.0010001659393310547, 0.00099945068359375, 0.0, 0.001028299331665039, 0.0, 0.0, 0.0, 0.0, 0.0009999275207519531, 0.0009989738464355469, 0.0, 0.0, 0.0, 0.0, 0.00099945068359375, 0.0, 0.0011348724365234375, 0.0009989738464355469, 0.0, 0.0, 0.0, 0.0009996891021728516, 0.0009999275207519531, 0.0009984970092773438, 0.0, 0.0, 0.0, 0.0, 0.0009958744049072266, 0.0, 0.0010001659393310547, 0.0, 0.0010027885437011719, 0.0, 0.0009992122650146484, 0.0, 0.000499725341796875, 0.0, 0.0, 0.0, 0.0010001659393310547, 0.0010004043579101562, 0.00144195556640625, 0.0, 0.0, 0.0, 0.0, 0.0, 0.0, 0.0, 0.0, 0.0, 0.0, 0.0, 0.0, 0.0, 0.0010001659393310547, 0.0010001659393310547, 0.0, 0.0013124942779541016, 0.0, 0.0, 0.0010013580322265625, 0.001005411148071289, 0.0, 0.0010023117065429688, 0.0010097026824951172, 0.0009999275207519531, 0.0, 0.0009946823120117188, 0.000997304916381836, 0.0, 0.0009996891021728516, 0.0012061595916748047, 0.0, 0.0010001659393310547, 0.0, 0.0010056495666503906, 0.0, 0.0005009174346923828, 0.0009984970092773438, 0.0009999275207519531, 0.0009999275207519531, 0.0010004043579101562, 0.0, 0.0, 0.0, 0.0, 0.0005018711090087891, 0.0, 0.0, 0.0, 0.0, 0.0010013580322265625, 0.0009992122650146484, 0.0009627342224121094, 0.0009996891021728516, 0.0, 0.0, 0.0009999275207519531, 0.0, 0.0, 0.0, 0.0010001659393310547, 0.0010004043579101562, 0.0009999275207519531, 0.0009999275207519531, 0.0010001659393310547, 0.0011882781982421875, 0.0, 0.0, 0.0, 0.0, 0.0010020732879638672, 0.0, 0.0, 0.0, 0.0009992122650146484, 0.0009999275207519531, 0.0010001659393310547, 0.0, 0.0, 0.0, 0.0, 0.00099945068359375, 0.0, 0.0, 0.0010001659393310547, 0.0, 0.0025606155395507812, 0.0009999275207519531, 0.0010020732879638672, 0.0, 0.0009999275207519531, 0.0010004043579101562, 0.0, 0.0010004043579101562, 0.0, 0.0010001659393310547, 0.0010001659393310547, 0.0, 0.0, 0.0011799335479736328, 0.0, 0.0, 0.0, 0.0, 0.0, 0.0, 0.0, 0.0, 0.0, 0.0, 0.0, 0.0010001659393310547, 0.0, 0.0005002021789550781, 0.0009999275207519531, 0.0010001659393310547, 0.0, 0.0, 0.0009999275207519531, 0.0, 0.0, 0.0, 0.0010001659393310547, 0.0009999275207519531, 0.0, 0.0009999275207519531, 0.0009999275207519531, 0.000997304916381836, 0.001001596450805664, 0.0, 0.0010008811950683594, 0.0, 0.0010008811950683594, 0.0, 0.0009274482727050781, 0.0, 0.0, 0.001003265380859375, 0.0, 0.0010848045349121094, 0.0, 0.0009999275207519531, 0.0009999275207519531, 0.0010001659393310547, 0.0, 0.0010001659393310547, 0.0010001659393310547, 0.0, 0.0, 0.0, 0.0, 0.0, 0.0, 0.0010013580322265625, 0.0, 0.0, 0.0, 0.0010073184967041016, 0.0010008811950683594, 0.0, 0.0, 0.0, 0.0, 0.0, 0.0, 0.0, 0.0, 0.0010001659393310547, 0.0010066032409667969, 0.0, 0.0, 0.0, 0.0009984970092773438, 0.001007080078125, 0.0, 0.0010039806365966797, 0.0009853839874267578, 0.0009884834289550781, 0.0009982585906982422, 0.001003265380859375, 0.0, 0.0, 0.0, 0.0009286403656005859, 0.0, 0.0, 0.000507354736328125, 0.0010006427764892578, 0.0, 0.0009996891021728516, 0.0, 0.0, 0.0009968280792236328, 0.0, 0.0009164810180664062, 0.0, 0.0009992122650146484, 0.0, 0.0010004043579101562, 0.0005381107330322266, 0.001089334487915039, 0.0009987354278564453, 0.0, 0.0009932518005371094, 0.0009944438934326172, 0.0, 0.0, 0.001007080078125, 0.0010023117065429688, 0.0010085105895996094, 0.0009992122650146484, 0.0009641647338867188, 0.0, 0.0, 0.0, 0.0, 0.0, 0.0009207725524902344, 0.0, 0.0010983943939208984, 0.001005411148071289, 0.0, 0.0, 0.0, 0.0010306835174560547, 0.0, 0.0, 0.0, 0.0, 0.0, 0.0, 0.0, 0.0, 0.0, 0.0009999275207519531, 0.0009999275207519531, 0.0, 0.0, 0.0, 0.0010747909545898438, 0.0, 0.0010280609130859375, 0.0, 0.0, 0.0, 0.0, 0.0010461807250976562, 0.0, 0.0010025501251220703, 0.0010046958923339844, 0.0, 0.0, 0.0010561943054199219, 0.0, 0.001001119613647461, 0.0, 0.0, 0.0, 0.000576019287109375, 0.0, 0.001001596450805664, 0.0010044574737548828, 0.0, 0.0, 0.0, 0.0, 0.0, 0.0010025501251220703, 0.0, 0.0009884834289550781, 0.0009987354278564453, 0.0, 0.0009288787841796875, 0.0010020732879638672, 0.0009949207305908203, 0.0010008811950683594, 0.0, 0.0, 0.00015664100646972656, 0.0, 0.000997304916381836, 0.0, 0.0, 0.0009937286376953125, 0.0, 0.0010030269622802734, 0.0009989738464355469, 0.0, 0.0, 0.0010132789611816406, 0.0, 0.0010144710540771484, 0.0009968280792236328, 0.0, 0.0010018348693847656, 0.0, 0.0009922981262207031, 0.0, 0.001077890396118164, 0.0010135173797607422, 0.0009982585906982422, 0.0, 0.0, 0.0, 0.0, 0.0, 0.0009882450103759766, 0.0, 0.0010099411010742188, 0.0, 0.0, 0.0, 0.0, 0.001012563705444336, 0.0009996891021728516, 0.0009999275207519531, 0.0, 0.0, 0.0, 0.0009999275207519531, 0.0, 0.0, 0.0, 0.0009999275207519531, 0.0010001659393310547, 0.0, 0.0, 0.0, 0.0011355876922607422, 0.0010001659393310547, 0.0, 0.0, 0.0, 0.0, 0.0, 0.0, 0.0, 0.0009999275207519531, 0.0, 0.0009999275207519531, 0.000499725341796875, 0.0, 0.0009996891021728516, 0.0010001659393310547, 0.0010304450988769531, 0.0010001659393310547, 0.0010001659393310547, 0.0, 0.0009996891021728516, 0.0, 0.0, 0.0010783672332763672, 0.0, 0.0, 0.0, 0.0, 0.0, 0.0, 0.0, 0.0011463165283203125, 0.0, 0.0, 0.0010035037994384766, 0.0, 0.0, 0.0010075569152832031, 0.0, 0.0, 0.0009999275207519531, 0.0010364055633544922, 0.0009946823120117188, 0.0, 0.0009920597076416016, 0.0, 0.0, 0.0, 0.0011625289916992188, 0.0, 0.0010013580322265625, 0.0, 0.0, 0.001093149185180664, 0.0, 0.0, 0.0, 0.0010008811950683594, 0.0010361671447753906, 0.0009915828704833984, 0.0010287761688232422, 0.0, 0.001001596450805664, 0.0, 0.0, 0.0, 0.0010781288146972656, 0.0, 0.0, 0.00099945068359375, 0.0, 0.0010685920715332031, 0.0009999275207519531, 0.0011377334594726562, 0.0011637210845947266, 0.0, 0.0, 0.0010001659393310547, 0.0, 0.0010001659393310547, 0.0010843276977539062, 0.0010001659393310547, 0.0, 0.0, 0.0, 0.0, 0.0009999275207519531, 0.0, 0.0, 0.0010004043579101562, 0.0010001659393310547, 0.0, 0.0, 0.0006005764007568359, 0.001039743423461914, 0.0, 0.0, 0.0, 0.0009992122650146484, 0.0, 0.0010900497436523438, 0.0, 0.0010001659393310547, 0.0, 0.0, 0.0, 0.0009999275207519531, 0.0009999275207519531, 0.0, 0.0, 0.0006225109100341797, 0.0, 0.0010001659393310547, 0.0, 0.0, 0.0009999275207519531, 0.0, 0.0009999275207519531, 0.0, 0.0, 0.00099945068359375, 0.0010001659393310547, 0.0, 0.0, 0.0, 0.0, 0.0, 0.0, 0.0010006427764892578, 0.0009992122650146484, 0.0009999275207519531, 0.0, 0.0010561943054199219, 0.0009999275207519531, 0.0010001659393310547, 0.0010001659393310547, 0.0, 0.0, 0.0, 0.0004994869232177734, 0.0010004043579101562, 0.0, 0.0, 0.0, 0.0, 0.0010662078857421875, 0.0, 0.0, 0.0, 0.0, 0.0009999275207519531, 0.0, 0.0013556480407714844, 0.0, 0.0, 0.0, 0.0, 0.0, 0.0010001659393310547, 0.0010001659393310547, 0.0009999275207519531, 0.0, 0.0009999275207519531, 0.0, 0.0011649131774902344, 0.0010001659393310547, 0.0009999275207519531, 0.0010001659393310547, 0.0009999275207519531, 0.0, 0.0, 0.0, 0.0010001659393310547, 0.0, 0.0009999275207519531, 0.0, 0.0009999275207519531, 0.0010859966278076172, 0.0010001659393310547, 0.0009999275207519531, 0.0009996891021728516, 0.0, 0.0010001659393310547, 0.0, 0.000988006591796875, 0.0009999275207519531, 0.0, 0.0009999275207519531, 0.0010001659393310547, 0.0, 0.0009915828704833984, 0.0010001659393310547, 0.0009999275207519531, 0.0, 0.0, 0.0010225772857666016, 0.0, 0.0, 0.0, 0.0, 0.00099945068359375, 0.00102996826171875, 0.0009999275207519531, 0.0, 0.0009989738464355469, 0.0009996891021728516, 0.0009999275207519531, 0.0009999275207519531, 0.0, 0.0, 0.0, 0.0, 0.0, 0.0, 0.0, 0.0, 0.0, 0.0, 0.0, 0.0, 0.0010001659393310547, 0.0, 0.0010001659393310547, 0.0010001659393310547, 0.0010001659393310547, 0.0009999275207519531, 0.0009999275207519531, 0.0, 0.0010209083557128906, 0.0009999275207519531, 0.0010001659393310547, 0.0, 0.0, 0.0, 0.0, 0.0010001659393310547, 0.0009999275207519531, 0.0, 0.0, 0.0, 0.0, 0.0, 0.0, 0.0010001659393310547, 0.0, 0.0009999275207519531, 0.0, 0.00026607513427734375, 0.0009999275207519531, 0.0010004043579101562, 0.0, 0.0, 0.0, 0.0, 0.0, 0.0, 0.0, 0.0, 0.0, 0.0, 0.0, 0.0, 0.0010001659393310547, 0.0009999275207519531, 0.0, 0.0010004043579101562, 0.001294851303100586, 0.0, 0.0, 0.0010001659393310547, 0.0, 0.0009999275207519531, 0.0, 0.0, 0.0010075569152832031, 0.0, 0.0, 0.0010001659393310547, 0.0, 0.0010001659393310547, 0.0010001659393310547, 0.00099945068359375, 0.0, 0.0, 0.0, 0.0, 0.0009999275207519531, 0.0009946823120117188, 0.0, 0.0010995864868164062, 0.0, 0.0, 0.0, 0.0, 0.0, 0.0009999275207519531, 0.0, 0.001004934310913086, 0.0, 0.0010001659393310547, 0.0009999275207519531, 0.0, 0.0, 0.0010006427764892578, 0.0, 0.0, 0.0, 0.0010001659393310547, 0.001154184341430664, 0.0009999275207519531, 0.0, 0.0, 0.0, 0.0, 0.0009953975677490234, 0.000995635986328125, 0.0, 0.0009996891021728516, 0.0010001659393310547, 0.0010001659393310547, 0.0005016326904296875, 0.0, 0.0009992122650146484, 0.0009975433349609375, 0.0009999275207519531, 0.0010008811950683594, 0.0009980201721191406, 0.0, 0.0, 0.0, 0.0, 0.0, 0.0010237693786621094, 0.0, 0.0, 0.0, 0.0, 0.0001277923583984375, 0.0, 0.0010330677032470703, 0.001032114028930664, 0.0, 0.0010688304901123047, 0.0005767345428466797, 0.0, 0.0010006427764892578, 0.0, 0.0, 0.0, 0.0, 0.0010709762573242188, 0.0, 0.0, 0.0010001659393310547, 0.0009996891021728516, 0.0007119178771972656, 0.0, 0.0, 0.0, 0.0009963512420654297, 0.0010001659393310547, 0.0, 0.001505136489868164, 0.000988006591796875, 0.0009860992431640625, 0.0010120868682861328, 0.001001596450805664, 0.0, 0.0010039806365966797, 0.0, 0.0009992122650146484, 0.0, 0.0010008811950683594, 0.0, 0.0010001659393310547, 0.0, 0.0, 0.0, 0.0009629726409912109, 0.0, 0.0, 0.0, 0.0, 0.0005006790161132812, 0.0009903907775878906, 0.0, 0.0, 0.0009999275207519531, 0.0010001659393310547, 0.0, 0.0, 0.0, 0.0, 0.0009987354278564453, 0.0010001659393310547, 0.0, 0.0, 0.0, 0.0010001659393310547, 0.0, 0.0, 0.0, 0.0010004043579101562, 0.0010075569152832031, 0.0, 0.001440286636352539, 0.0, 0.0009999275207519531, 0.0, 0.0, 0.0010001659393310547, 0.0, 0.0009996891021728516, 0.0009987354278564453, 0.0, 0.0010001659393310547, 0.0, 0.0, 0.0, 0.0, 0.0009999275207519531, 0.0, 0.0, 0.0, 0.0009989738464355469, 0.0010116100311279297, 0.0, 0.00032806396484375, 0.0, 0.0, 0.0, 0.0, 0.0, 0.0, 0.0, 0.0, 0.0, 0.0010006427764892578]\n",
            "10\n"
          ]
        }
      ]
    },
    {
      "cell_type": "markdown",
      "source": [
        "Add position to knowledge grid"
      ],
      "metadata": {
        "id": "O80q3yHqJujg"
      }
    },
    {
      "cell_type": "markdown",
      "source": [
        ""
      ],
      "metadata": {
        "id": "onHal3S9JtOT"
      }
    },
    {
      "cell_type": "code",
      "source": [
        "X_train, X_test, Y_train, Y_test = train_test_split(X, Y, test_size=0.33, shuffle=False)\n",
        "train_length = len(Y_train)\n",
        "test_length = len(Y_test)\n"
      ],
      "metadata": {
        "id": "dsE5a_cIQ02I"
      },
      "execution_count": 7,
      "outputs": []
    },
    {
      "cell_type": "code",
      "source": [
        "print(\"train length: {0}, test length: {1}\".format(train_length, test_length))\n",
        "print(\"x_train length: {0}, x_test length: {1}\".format(len(X_train), len(X_test)))\n",
        "print(index_dict[train_length - 1])\n",
        "print(index_dict[train_length])"
      ],
      "metadata": {
        "colab": {
          "base_uri": "https://localhost:8080/"
        },
        "id": "Vl9oi-Cfgkna",
        "outputId": "f8e78bfc-d9d3-4aed-9bc9-b715ff855f14"
      },
      "execution_count": 8,
      "outputs": [
        {
          "output_type": "stream",
          "name": "stdout",
          "text": [
            "train length: 17970, test length: 8851\n",
            "x_train length: 17970, x_test length: 8851\n",
            "[670]\n",
            "[670]\n"
          ]
        }
      ]
    },
    {
      "cell_type": "code",
      "source": [
        "train_maze_count = index_dict[train_length][0]\n",
        "def Adjust_Train_test_Lengths():\n",
        "  if index_dict[train_length-1][0] == index_dict[train_length][0]:\n",
        "    for i in range(test_length):\n",
        "      if index_dict[train_length + i][0] == train_maze_count:\n",
        "        element = X_test.pop(0)\n",
        "        X_train.append(element)\n",
        "        element = Y_test.pop(0)\n",
        "        Y_train.append(element)\n",
        "      else:\n",
        "        break\n",
        "\n",
        "Adjust_Train_test_Lengths()\n",
        "X_train_position = position_dict[0:len(X_train)]\n",
        "X_test_position = position_dict[len(X_train):data_count]\n",
        "\n",
        "train_length = len(Y_train)\n",
        "test_length = len(Y_test)\n",
        "train_maze_count = index_dict[train_length-1][0]\n",
        "maze_count = index_dict[data_count-1][0]\n",
        "test_maze_count = maze_count - train_maze_count"
      ],
      "metadata": {
        "id": "jtFJsxqVUqPe"
      },
      "execution_count": 9,
      "outputs": []
    },
    {
      "cell_type": "code",
      "source": [
        "print('after')\n",
        "print(\"total maze count: {0}, train maze count: {1}, test maze count: {2}\".format(maze_count, train_maze_count, test_maze_count))\n",
        "print(\"x_train length: {0}, x_test length: {1}\".format(len(X_train), len(X_test)))\n",
        "print(X_test[0])\n",
        "print(X_test[1])\n",
        "print(index_dict[train_length - 1])\n",
        "print(index_dict[train_length])"
      ],
      "metadata": {
        "id": "fI1djZ6eaIoK",
        "colab": {
          "base_uri": "https://localhost:8080/"
        },
        "outputId": "60248e35-9c3e-4ffb-dc70-076f6535138b"
      },
      "execution_count": 10,
      "outputs": [
        {
          "output_type": "stream",
          "name": "stdout",
          "text": [
            "after\n",
            "total maze count: 1000, train maze count: 670, test maze count: 330\n",
            "x_train length: 17980, x_test length: 8841\n",
            "[[0 0 0 0 0 0 0 0 0 0]\n",
            " [1 0 0 0 0 0 0 0 0 0]\n",
            " [0 0 0 0 0 0 0 0 0 0]\n",
            " [0 0 0 0 0 0 0 0 0 0]\n",
            " [0 0 0 0 0 0 0 0 0 0]\n",
            " [0 0 0 0 0 0 0 0 0 0]\n",
            " [0 0 0 0 0 0 0 0 0 0]\n",
            " [0 0 0 0 0 0 0 0 0 0]\n",
            " [0 0 0 0 0 0 0 0 0 0]\n",
            " [0 0 0 0 0 0 0 0 0 0]]\n",
            "[[0 0 0 0 0 0 0 0 0 0]\n",
            " [1 0 0 0 0 0 0 0 0 0]\n",
            " [0 0 0 0 0 0 0 0 0 0]\n",
            " [0 0 0 0 0 0 0 0 0 0]\n",
            " [0 0 0 0 0 0 0 0 0 0]\n",
            " [0 0 0 0 0 0 0 0 0 0]\n",
            " [0 0 0 0 0 0 0 0 0 0]\n",
            " [0 0 0 0 0 0 0 0 0 0]\n",
            " [0 0 0 0 0 0 0 0 0 0]\n",
            " [0 0 0 0 0 0 0 0 0 0]]\n",
            "[670]\n",
            "[671]\n"
          ]
        }
      ]
    },
    {
      "cell_type": "code",
      "source": [
        "train_in_position = np.reshape(X_train_position, (-1, 1*2, ))\n",
        "test_in_position = np.reshape(X_test_position, (-1, 1*2, ))\n",
        "train_in = np.reshape(X_train, (-1, gridSize, gridSize))\n",
        "test_in = np.reshape(X_test, (-1, gridSize, gridSize))\n",
        "train_out = tf.keras.utils.to_categorical( Y_train, 4 )\n",
        "test_out = tf.keras.utils.to_categorical( Y_test, 4 )"
      ],
      "metadata": {
        "id": "I22_T4mSdksa"
      },
      "execution_count": 11,
      "outputs": []
    },
    {
      "cell_type": "code",
      "source": [
        "grid_input = tf.keras.layers.Input( shape = (gridSize,gridSize) )\n",
        "position_input = tf.keras.layers.Input(shape = (1*2, ))\n",
        "flatten_grid = tf.keras.layers.Flatten()(grid_input)\n",
        "concat = tf.keras.layers.concatenate([flatten_grid, position_input])\n",
        "dense_1 = tf.keras.layers.Dense( units = 200, activation = tf.nn.relu )( concat )\n",
        "dense_2 = tf.keras.layers.Dense( units = 100, activation = tf.nn.relu )( dense_1 )\n",
        "dense_3 = tf.keras.layers.Dense( units = 50, activation = tf.nn.relu )( dense_2 )\n",
        "dense_4 = tf.keras.layers.Dense( units = 25, activation = tf.nn.relu )( dense_3 )\n",
        "actions_output = tf.keras.layers.Dense( units = 4, activation = None )( dense_4 )\n",
        "probabilities = tf.keras.layers.Softmax()( actions_output )\n",
        "\n",
        "model = tf.keras.Model( inputs = [grid_input, position_input], outputs = probabilities )\n",
        "model.compile( optimizer = 'adam', loss = 'categorical_crossentropy', metrics = ['accuracy'] )"
      ],
      "metadata": {
        "id": "Dt9i85sqOHTn"
      },
      "execution_count": 12,
      "outputs": []
    },
    {
      "cell_type": "code",
      "source": [
        "def directionFromAction(action, position):\n",
        "  direction = ()\n",
        "  if action == 0:\n",
        "    # towards right\n",
        "    direction = (0 + position[0], 1 + position[1])\n",
        "  elif action == 1: \n",
        "    # towards down\n",
        "    direction = (1 + position[0], 0 + position[1])\n",
        "  elif action == 2:\n",
        "    # towards up\n",
        "    direction = (-1 + position[0], 0 + position[1])\n",
        "  elif action == 3:\n",
        "  # towards left\n",
        "    direction = (0 + position[0], -1 + position[1])\n",
        "  \n",
        "  return direction\n",
        "\n",
        "def generate_confusion_matrix(data, labels):\n",
        "  mat = [[ 0 for i in range(4)] for j in range(4)]\n",
        "\n",
        "  predictions = np.argmax( model.predict(data), axis = 1 )\n",
        "\n",
        "  for i in range(data[0].shape[0]):\n",
        "    mat[ labels[i] ][ predictions[i] ] += 1\n",
        "    #if i>=0 and i<= 30:\n",
        "      #print(predictions[i])\n",
        "\n",
        "  for i in range(4):\n",
        "    print( \"\\t\".join( [ str(c) for c in mat[i] ] ) )\n",
        "\n",
        "  return mat\n",
        "\n",
        "def AccuracyFrom_ConfusionMatrix(confusion_output):\n",
        "  correct = 0\n",
        "  incorrect = 0\n",
        "\n",
        "  for i in range(4):\n",
        "    for j in range(4):\n",
        "      if i==j:\n",
        "        correct += confusion_output[i][j]\n",
        "      else:\n",
        "        incorrect += confusion_output[i][j]\n",
        "\n",
        "  accuracy = correct/(correct+incorrect)\n",
        "  return accuracy\n"
      ],
      "metadata": {
        "id": "k27JH8C6T-Oc"
      },
      "execution_count": 13,
      "outputs": []
    },
    {
      "cell_type": "code",
      "source": [
        "confusion_output = generate_confusion_matrix([test_in, test_in_position], Y_test)\n",
        "accuracy = AccuracyFrom_ConfusionMatrix(confusion_output)\n",
        "print(accuracy)\n"
      ],
      "metadata": {
        "colab": {
          "base_uri": "https://localhost:8080/"
        },
        "id": "_kJ4NXHqoRRT",
        "outputId": "5cb993f0-3c4c-4600-c652-dbd61a28ad95"
      },
      "execution_count": 14,
      "outputs": [
        {
          "output_type": "stream",
          "name": "stdout",
          "text": [
            "591\t0\t80\t3812\n",
            "241\t0\t47\t3262\n",
            "6\t0\t0\t117\n",
            "53\t0\t3\t629\n",
            "0.1379934396561475\n"
          ]
        }
      ]
    },
    {
      "cell_type": "code",
      "source": [
        "history = model.fit([train_in, train_in_position], train_out, epochs = 15)"
      ],
      "metadata": {
        "id": "BhIz2b2SqEpH",
        "colab": {
          "base_uri": "https://localhost:8080/"
        },
        "outputId": "d93014ea-a9d4-4656-8add-d6a75d94b98a"
      },
      "execution_count": 17,
      "outputs": [
        {
          "output_type": "stream",
          "name": "stdout",
          "text": [
            "Epoch 1/15\n",
            "562/562 [==============================] - 2s 2ms/step - loss: 0.7571 - accuracy: 0.6916\n",
            "Epoch 2/15\n",
            "562/562 [==============================] - 1s 2ms/step - loss: 0.6003 - accuracy: 0.7378\n",
            "Epoch 3/15\n",
            "562/562 [==============================] - 1s 2ms/step - loss: 0.5457 - accuracy: 0.7477\n",
            "Epoch 4/15\n",
            "562/562 [==============================] - 2s 3ms/step - loss: 0.4989 - accuracy: 0.7644\n",
            "Epoch 5/15\n",
            "562/562 [==============================] - 1s 2ms/step - loss: 0.4647 - accuracy: 0.7736\n",
            "Epoch 6/15\n",
            "562/562 [==============================] - 1s 2ms/step - loss: 0.4415 - accuracy: 0.7813\n",
            "Epoch 7/15\n",
            "562/562 [==============================] - 1s 2ms/step - loss: 0.4145 - accuracy: 0.7914\n",
            "Epoch 8/15\n",
            "562/562 [==============================] - 1s 2ms/step - loss: 0.4000 - accuracy: 0.7944\n",
            "Epoch 9/15\n",
            "562/562 [==============================] - 1s 2ms/step - loss: 0.3817 - accuracy: 0.8004\n",
            "Epoch 10/15\n",
            "562/562 [==============================] - 1s 2ms/step - loss: 0.3684 - accuracy: 0.8044\n",
            "Epoch 11/15\n",
            "562/562 [==============================] - 1s 2ms/step - loss: 0.3623 - accuracy: 0.8038\n",
            "Epoch 12/15\n",
            "562/562 [==============================] - 1s 2ms/step - loss: 0.3415 - accuracy: 0.8161\n",
            "Epoch 13/15\n",
            "562/562 [==============================] - 1s 2ms/step - loss: 0.3377 - accuracy: 0.8147\n",
            "Epoch 14/15\n",
            "562/562 [==============================] - 1s 2ms/step - loss: 0.3340 - accuracy: 0.8168\n",
            "Epoch 15/15\n",
            "562/562 [==============================] - 1s 2ms/step - loss: 0.3232 - accuracy: 0.8189\n"
          ]
        }
      ]
    },
    {
      "cell_type": "code",
      "source": [
        "confusion_output = generate_confusion_matrix([test_in, test_in_position], Y_test)\n",
        "accuracy = AccuracyFrom_ConfusionMatrix(confusion_output)\n",
        "\n",
        "print(accuracy)\n"
      ],
      "metadata": {
        "colab": {
          "base_uri": "https://localhost:8080/"
        },
        "id": "56RaUgBmqIrO",
        "outputId": "308a8936-f19a-4107-acb9-1dd2a6dec06b"
      },
      "execution_count": 15,
      "outputs": [
        {
          "output_type": "stream",
          "name": "stdout",
          "text": [
            "591\t0\t80\t3812\n",
            "241\t0\t47\t3262\n",
            "6\t0\t0\t117\n",
            "53\t0\t3\t629\n",
            "0.1379934396561475\n"
          ]
        }
      ]
    },
    {
      "cell_type": "code",
      "source": [
        "model.save('model_agent1_0_dim10_1000.hf5')\n",
        "#model_file = ''\n",
        "#model=load_model(model_file)\n",
        "#model.summary()"
      ],
      "metadata": {
        "id": "LbyS47lGgTyH",
        "colab": {
          "base_uri": "https://localhost:8080/"
        },
        "outputId": "5050b245-3605-4b70-d1db-d5bffb361bc3"
      },
      "execution_count": 24,
      "outputs": [
        {
          "output_type": "stream",
          "name": "stdout",
          "text": [
            "INFO:tensorflow:Assets written to: model_agent1_0_dim10_1000.hf5/assets\n"
          ]
        }
      ]
    },
    {
      "cell_type": "code",
      "source": [
        "model=load_model('model_agent1_0_dim10_1000.hf5')\n",
        "model.summary()"
      ],
      "metadata": {
        "colab": {
          "base_uri": "https://localhost:8080/"
        },
        "id": "hOZj49Z0N8Ue",
        "outputId": "09311e9a-770a-4deb-cc5c-d8501788db75"
      },
      "execution_count": 25,
      "outputs": [
        {
          "output_type": "stream",
          "name": "stdout",
          "text": [
            "Model: \"model\"\n",
            "__________________________________________________________________________________________________\n",
            " Layer (type)                   Output Shape         Param #     Connected to                     \n",
            "==================================================================================================\n",
            " input_1 (InputLayer)           [(None, 10, 10)]     0           []                               \n",
            "                                                                                                  \n",
            " flatten (Flatten)              (None, 100)          0           ['input_1[0][0]']                \n",
            "                                                                                                  \n",
            " input_2 (InputLayer)           [(None, 2)]          0           []                               \n",
            "                                                                                                  \n",
            " concatenate (Concatenate)      (None, 102)          0           ['flatten[0][0]',                \n",
            "                                                                  'input_2[0][0]']                \n",
            "                                                                                                  \n",
            " dense (Dense)                  (None, 200)          20600       ['concatenate[0][0]']            \n",
            "                                                                                                  \n",
            " dense_1 (Dense)                (None, 100)          20100       ['dense[0][0]']                  \n",
            "                                                                                                  \n",
            " dense_2 (Dense)                (None, 50)           5050        ['dense_1[0][0]']                \n",
            "                                                                                                  \n",
            " dense_3 (Dense)                (None, 25)           1275        ['dense_2[0][0]']                \n",
            "                                                                                                  \n",
            " dense_4 (Dense)                (None, 4)            104         ['dense_3[0][0]']                \n",
            "                                                                                                  \n",
            " softmax (Softmax)              (None, 4)            0           ['dense_4[0][0]']                \n",
            "                                                                                                  \n",
            "==================================================================================================\n",
            "Total params: 47,129\n",
            "Trainable params: 47,129\n",
            "Non-trainable params: 0\n",
            "__________________________________________________________________________________________________\n"
          ]
        }
      ]
    },
    {
      "cell_type": "code",
      "source": [
        "directions = [[0,1], [1, 0], [-1, 0], [0, -1]]\n",
        "\n",
        "def UpdateKg(maze, kg, pos):\n",
        "  for i in directions:\n",
        "    new_position = [pos[0] + i[0], pos[1] + i[1]]\n",
        "    #print(new_position)\n",
        "    #print(kg[new_position[0]][new_position[1]])\n",
        "    #print(maze[new_position[0]][new_position[1]])\n",
        "    if new_position[0] >= 0 and new_position[0] < gridSize and new_position[1] >= 0 and new_position[1] < gridSize:\n",
        "      kg[new_position[0]][new_position[1]] = maze[new_position[0]][new_position[1]]\n",
        "      #print('updated')\n",
        "  return kg \n",
        "\n",
        "  \n",
        "def getUpdatedPos(kg, pos):\n",
        "  positions = []\n",
        "  for i in directions:\n",
        "    new_position = [pos[0] + i[0], pos[1] + i[1]]\n",
        "    #if new_position[0] >= 0 and new_position[0] < gridSize and new_position[1] >= 0 and new_position[1] < gridSize:\n",
        "    if CheckValidPosition(new_position):\n",
        "      if kg[new_position[0]][new_position[1]] != 1:\n",
        "        positions.append(new_position)\n",
        "\n",
        "  rand = np.random.randint(len(positions))     \n",
        "  pos[0] = positions[rand][0]\n",
        "  pos[1] = positions[rand][1]\n",
        "  return pos\n",
        "\n",
        "\n",
        "def CheckValidPosition(position):\n",
        "  if position[0] >= 0 and position[0] < gridSize and position[1] >= 0 and position[1] < gridSize:\n",
        "    return True\n",
        "  else:\n",
        "    return False\n"
      ],
      "metadata": {
        "id": "ySsxeJE4d62H"
      },
      "execution_count": 16,
      "outputs": []
    },
    {
      "cell_type": "code",
      "source": [
        "def FindPathInTestGrids():\n",
        "  initial_grid = [[0 for i in range(gridSize)] for j in range(gridSize)]#test_in[0:1]\n",
        "  #initial_grid[0][0] = 0\n",
        "  #initial_grid[gridSize-1][gridSize-1] = 0\n",
        "  initial_position = np.array([[0, 0]]) #test_in_position[0:1]\n",
        "  pathLengths = []\n",
        "  TimeTaken = []\n",
        "  solved_grids = 0\n",
        "  unsolved_grids = 0\n",
        "\n",
        "  #for i in range (train_maze_count+10, train_maze_count+35):\n",
        "  for i in range (train_maze_count+1, maze_count+1):\n",
        "    pathFound = False\n",
        "    grid_number = i\n",
        "    pathlength = 0\n",
        "    time_One_grid =0\n",
        "    kg =  np.array([initial_grid])\n",
        "    pos = np.array([[0, 0]])\n",
        "    maze = maze_dict[i -1]\n",
        "    #print(maze)\n",
        "    #print(kg)\n",
        "    pos = np.array([[0, 0]])\n",
        "    #print(pos)\n",
        "    startTime = time.time()  # Start time \n",
        "    blockcount = 0\n",
        "\n",
        "    while pathFound == False:\n",
        "      #print(kg[0])\n",
        "      #print(pos)\n",
        "      kg[0] = UpdateKg(maze, kg[0], pos[0])\n",
        "      #print(kg[0])\n",
        "      pathlength += 1\n",
        "      #break\n",
        "      single_prediction = np.argmax(model.predict([kg,pos]), axis = 1)\n",
        "      direction = directionFromAction(single_prediction,pos[0])\n",
        "      #print(direction)\n",
        "      if direction == (gridSize-1, gridSize-1):\n",
        "        pathFound = True\n",
        "        pathLengths.append(pathlength)\n",
        "        endTime = time.time() #end time\n",
        "        time_One_grid = endTime - startTime\n",
        "        TimeTaken.append(time_One_grid)\n",
        "        solved_grids += 1\n",
        "        #print(pathlength)\n",
        "        #print(time_One_grid)\n",
        "        print('grid {0} solved'.format(solved_grids))\n",
        "        break\n",
        "      isDirectionValid = CheckValidPosition(direction)\n",
        "      if (isDirectionValid and maze[direction[0]][direction[1]] == 1) or (isDirectionValid == False):\n",
        "        #print('blocked')\n",
        "        pathlength += 1\n",
        "        pos[0] = getUpdatedPos(kg[0], pos[0])\n",
        "        #print(pos)\n",
        "        blockcount +=1\n",
        "        if blockcount >50:\n",
        "          print('limit excceeded')\n",
        "          unsolved_grids += 1\n",
        "          break\n",
        "      else:\n",
        "        #print('not blocked')\n",
        "        pos[0] = direction\n",
        "\n",
        "  return test_maze_count, pathLengths, TimeTaken, solved_grids, unsolved_grids\n",
        " "
      ],
      "metadata": {
        "id": "jL3YctPpZGbU"
      },
      "execution_count": 18,
      "outputs": []
    },
    {
      "cell_type": "code",
      "source": [
        "test_maze_count, pathLengths, TimeTaken, solved_grids, unsolved_grids = FindPathInTestGrids()\n",
        "print('test grids: {0}'.format(test_maze_count))\n",
        "print('path lengths : {0}'.format(pathLengths))\n",
        "print('Time taken: {0} '.format(TimeTaken))\n",
        "print('solved grids: {0}, unsolved grids : {1}'.format(solved_grids, unsolved_grids))\n",
        "#print(AstartTime_dict[train_maze_count: maze_count])"
      ],
      "metadata": {
        "colab": {
          "base_uri": "https://localhost:8080/"
        },
        "id": "OqjWCy5sHJH4",
        "outputId": "add2657d-2622-4158-ff12-ef6a7165d193"
      },
      "execution_count": 19,
      "outputs": [
        {
          "output_type": "stream",
          "name": "stdout",
          "text": [
            "grid 1 solved\n",
            "limit excceeded\n",
            "grid 2 solved\n",
            "grid 3 solved\n",
            "grid 4 solved\n",
            "grid 5 solved\n",
            "grid 6 solved\n",
            "grid 7 solved\n",
            "grid 8 solved\n",
            "grid 9 solved\n",
            "grid 10 solved\n",
            "grid 11 solved\n",
            "grid 12 solved\n",
            "grid 13 solved\n",
            "grid 14 solved\n",
            "grid 15 solved\n",
            "grid 16 solved\n",
            "grid 17 solved\n",
            "grid 18 solved\n",
            "grid 19 solved\n",
            "grid 20 solved\n",
            "grid 21 solved\n",
            "grid 22 solved\n",
            "grid 23 solved\n",
            "grid 24 solved\n",
            "grid 25 solved\n",
            "grid 26 solved\n",
            "grid 27 solved\n",
            "grid 28 solved\n",
            "grid 29 solved\n",
            "grid 30 solved\n",
            "grid 31 solved\n",
            "grid 32 solved\n",
            "grid 33 solved\n",
            "grid 34 solved\n",
            "grid 35 solved\n",
            "grid 36 solved\n",
            "grid 37 solved\n",
            "grid 38 solved\n",
            "grid 39 solved\n",
            "grid 40 solved\n",
            "grid 41 solved\n",
            "grid 42 solved\n",
            "grid 43 solved\n",
            "grid 44 solved\n",
            "limit excceeded\n",
            "grid 45 solved\n",
            "grid 46 solved\n",
            "grid 47 solved\n",
            "grid 48 solved\n",
            "grid 49 solved\n",
            "grid 50 solved\n",
            "grid 51 solved\n",
            "grid 52 solved\n",
            "grid 53 solved\n",
            "grid 54 solved\n",
            "limit excceeded\n",
            "grid 55 solved\n",
            "grid 56 solved\n",
            "grid 57 solved\n",
            "grid 58 solved\n",
            "grid 59 solved\n",
            "grid 60 solved\n",
            "grid 61 solved\n",
            "grid 62 solved\n",
            "grid 63 solved\n",
            "grid 64 solved\n",
            "limit excceeded\n",
            "grid 65 solved\n",
            "limit excceeded\n",
            "grid 66 solved\n",
            "limit excceeded\n",
            "grid 67 solved\n",
            "grid 68 solved\n",
            "grid 69 solved\n",
            "grid 70 solved\n",
            "grid 71 solved\n",
            "grid 72 solved\n",
            "grid 73 solved\n",
            "grid 74 solved\n",
            "limit excceeded\n",
            "grid 75 solved\n",
            "grid 76 solved\n",
            "grid 77 solved\n",
            "grid 78 solved\n",
            "grid 79 solved\n",
            "limit excceeded\n",
            "grid 80 solved\n",
            "limit excceeded\n",
            "grid 81 solved\n",
            "grid 82 solved\n",
            "grid 83 solved\n",
            "limit excceeded\n",
            "grid 84 solved\n",
            "grid 85 solved\n",
            "grid 86 solved\n",
            "grid 87 solved\n",
            "grid 88 solved\n",
            "grid 89 solved\n",
            "grid 90 solved\n",
            "grid 91 solved\n",
            "grid 92 solved\n",
            "grid 93 solved\n",
            "grid 94 solved\n",
            "grid 95 solved\n",
            "grid 96 solved\n",
            "grid 97 solved\n",
            "grid 98 solved\n",
            "grid 99 solved\n",
            "grid 100 solved\n",
            "grid 101 solved\n",
            "grid 102 solved\n",
            "grid 103 solved\n",
            "grid 104 solved\n",
            "grid 105 solved\n",
            "grid 106 solved\n",
            "grid 107 solved\n",
            "grid 108 solved\n",
            "grid 109 solved\n",
            "grid 110 solved\n",
            "grid 111 solved\n",
            "grid 112 solved\n",
            "grid 113 solved\n",
            "grid 114 solved\n",
            "limit excceeded\n",
            "grid 115 solved\n",
            "grid 116 solved\n",
            "grid 117 solved\n",
            "grid 118 solved\n",
            "limit excceeded\n",
            "limit excceeded\n",
            "grid 119 solved\n",
            "grid 120 solved\n",
            "grid 121 solved\n",
            "grid 122 solved\n",
            "grid 123 solved\n",
            "grid 124 solved\n",
            "grid 125 solved\n",
            "grid 126 solved\n",
            "grid 127 solved\n",
            "grid 128 solved\n",
            "grid 129 solved\n",
            "grid 130 solved\n",
            "grid 131 solved\n",
            "limit excceeded\n",
            "grid 132 solved\n",
            "grid 133 solved\n",
            "grid 134 solved\n",
            "grid 135 solved\n",
            "grid 136 solved\n",
            "grid 137 solved\n",
            "grid 138 solved\n",
            "grid 139 solved\n",
            "grid 140 solved\n",
            "grid 141 solved\n",
            "grid 142 solved\n",
            "grid 143 solved\n",
            "grid 144 solved\n",
            "grid 145 solved\n",
            "grid 146 solved\n",
            "grid 147 solved\n",
            "grid 148 solved\n",
            "grid 149 solved\n",
            "grid 150 solved\n",
            "grid 151 solved\n",
            "grid 152 solved\n",
            "grid 153 solved\n",
            "grid 154 solved\n",
            "grid 155 solved\n",
            "grid 156 solved\n",
            "grid 157 solved\n",
            "grid 158 solved\n",
            "grid 159 solved\n",
            "grid 160 solved\n",
            "grid 161 solved\n",
            "grid 162 solved\n",
            "grid 163 solved\n",
            "grid 164 solved\n",
            "grid 165 solved\n",
            "grid 166 solved\n",
            "grid 167 solved\n",
            "grid 168 solved\n",
            "limit excceeded\n",
            "grid 169 solved\n",
            "grid 170 solved\n",
            "grid 171 solved\n",
            "grid 172 solved\n",
            "grid 173 solved\n",
            "grid 174 solved\n",
            "grid 175 solved\n",
            "grid 176 solved\n",
            "grid 177 solved\n",
            "grid 178 solved\n",
            "grid 179 solved\n",
            "grid 180 solved\n",
            "grid 181 solved\n",
            "grid 182 solved\n",
            "grid 183 solved\n",
            "grid 184 solved\n",
            "grid 185 solved\n",
            "limit excceeded\n",
            "grid 186 solved\n",
            "limit excceeded\n",
            "grid 187 solved\n",
            "grid 188 solved\n",
            "grid 189 solved\n",
            "grid 190 solved\n",
            "grid 191 solved\n",
            "grid 192 solved\n",
            "grid 193 solved\n",
            "grid 194 solved\n",
            "grid 195 solved\n",
            "grid 196 solved\n",
            "grid 197 solved\n",
            "limit excceeded\n",
            "grid 198 solved\n",
            "grid 199 solved\n",
            "grid 200 solved\n",
            "grid 201 solved\n",
            "grid 202 solved\n",
            "limit excceeded\n",
            "grid 203 solved\n",
            "grid 204 solved\n",
            "grid 205 solved\n",
            "grid 206 solved\n",
            "grid 207 solved\n",
            "limit excceeded\n",
            "grid 208 solved\n",
            "grid 209 solved\n",
            "grid 210 solved\n",
            "grid 211 solved\n",
            "grid 212 solved\n",
            "grid 213 solved\n",
            "grid 214 solved\n",
            "grid 215 solved\n",
            "grid 216 solved\n",
            "grid 217 solved\n",
            "grid 218 solved\n",
            "grid 219 solved\n",
            "grid 220 solved\n",
            "grid 221 solved\n",
            "grid 222 solved\n",
            "grid 223 solved\n",
            "grid 224 solved\n",
            "grid 225 solved\n",
            "limit excceeded\n",
            "grid 226 solved\n",
            "grid 227 solved\n",
            "limit excceeded\n",
            "grid 228 solved\n",
            "grid 229 solved\n",
            "limit excceeded\n",
            "grid 230 solved\n",
            "grid 231 solved\n",
            "grid 232 solved\n",
            "grid 233 solved\n",
            "grid 234 solved\n",
            "grid 235 solved\n",
            "grid 236 solved\n",
            "limit excceeded\n",
            "grid 237 solved\n",
            "grid 238 solved\n",
            "grid 239 solved\n",
            "grid 240 solved\n",
            "grid 241 solved\n",
            "limit excceeded\n",
            "grid 242 solved\n",
            "grid 243 solved\n",
            "grid 244 solved\n",
            "grid 245 solved\n",
            "grid 246 solved\n",
            "grid 247 solved\n",
            "grid 248 solved\n",
            "grid 249 solved\n",
            "grid 250 solved\n",
            "grid 251 solved\n",
            "grid 252 solved\n",
            "grid 253 solved\n",
            "grid 254 solved\n",
            "grid 255 solved\n",
            "limit excceeded\n",
            "grid 256 solved\n",
            "grid 257 solved\n",
            "grid 258 solved\n",
            "grid 259 solved\n",
            "grid 260 solved\n",
            "grid 261 solved\n",
            "grid 262 solved\n",
            "grid 263 solved\n",
            "grid 264 solved\n",
            "grid 265 solved\n",
            "grid 266 solved\n",
            "grid 267 solved\n",
            "grid 268 solved\n",
            "grid 269 solved\n",
            "grid 270 solved\n",
            "grid 271 solved\n",
            "grid 272 solved\n",
            "grid 273 solved\n",
            "grid 274 solved\n",
            "grid 275 solved\n",
            "grid 276 solved\n",
            "grid 277 solved\n",
            "grid 278 solved\n",
            "grid 279 solved\n",
            "grid 280 solved\n",
            "grid 281 solved\n",
            "grid 282 solved\n",
            "grid 283 solved\n",
            "grid 284 solved\n",
            "grid 285 solved\n",
            "grid 286 solved\n",
            "grid 287 solved\n",
            "grid 288 solved\n",
            "grid 289 solved\n",
            "grid 290 solved\n",
            "grid 291 solved\n",
            "grid 292 solved\n",
            "grid 293 solved\n",
            "grid 294 solved\n",
            "grid 295 solved\n",
            "grid 296 solved\n",
            "grid 297 solved\n",
            "grid 298 solved\n",
            "limit excceeded\n",
            "grid 299 solved\n",
            "limit excceeded\n",
            "grid 300 solved\n",
            "grid 301 solved\n",
            "grid 302 solved\n",
            "test grids: 330\n",
            "path lengths : [30, 63, 55, 18, 25, 63, 25, 29, 59, 48, 56, 39, 55, 23, 43, 28, 52, 26, 32, 28, 32, 50, 22, 19, 31, 23, 24, 46, 40, 25, 50, 33, 20, 24, 41, 41, 22, 26, 32, 24, 32, 22, 43, 35, 22, 74, 32, 33, 23, 21, 21, 31, 20, 51, 26, 28, 43, 26, 44, 28, 81, 21, 24, 56, 29, 22, 32, 42, 26, 23, 24, 25, 26, 23, 32, 74, 40, 30, 27, 37, 51, 35, 80, 29, 27, 69, 20, 19, 59, 47, 22, 44, 61, 20, 35, 19, 23, 74, 21, 30, 23, 33, 21, 28, 26, 26, 34, 33, 36, 63, 115, 23, 31, 47, 19, 48, 43, 30, 34, 41, 25, 45, 21, 30, 45, 46, 33, 22, 45, 19, 26, 35, 61, 22, 25, 45, 68, 26, 78, 51, 28, 24, 42, 24, 46, 37, 22, 37, 40, 24, 46, 26, 34, 48, 28, 32, 20, 34, 59, 53, 22, 41, 22, 26, 51, 35, 29, 66, 21, 18, 25, 29, 28, 25, 66, 19, 65, 43, 24, 28, 25, 63, 23, 25, 28, 32, 19, 79, 62, 24, 18, 21, 19, 29, 39, 32, 38, 18, 38, 43, 35, 29, 19, 21, 21, 19, 53, 22, 45, 28, 74, 59, 61, 34, 37, 42, 30, 30, 22, 19, 25, 48, 26, 68, 107, 46, 24, 20, 35, 26, 53, 53, 29, 24, 32, 49, 31, 30, 33, 28, 25, 31, 29, 24, 94, 35, 26, 51, 44, 22, 31, 31, 54, 31, 23, 20, 42, 62, 19, 22, 38, 23, 18, 22, 20, 98, 26, 34, 42, 127, 28, 55, 21, 18, 31, 46, 43, 54, 43, 27, 47, 43, 52, 44, 32, 45, 24, 71, 42, 25, 25, 35, 26, 33, 19, 86, 28, 67, 26, 21, 25, 22]\n",
            "Time taken: [1.221301555633545, 2.2503035068511963, 2.2695939540863037, 0.90787672996521, 1.0786023139953613, 2.053798198699951, 1.1815123558044434, 1.2563776969909668, 2.098335027694702, 1.8575563430786133, 1.9516866207122803, 1.5440731048583984, 1.9492011070251465, 1.0072317123413086, 1.66925048828125, 1.2112281322479248, 2.295792579650879, 1.1103909015655518, 1.3464078903198242, 1.1804497241973877, 1.280893087387085, 1.9935870170593262, 1.0022692680358887, 0.9322528839111328, 1.2887232303619385, 1.0123672485351562, 1.1771047115325928, 1.7649500370025635, 1.682701826095581, 1.0814461708068848, 1.9275825023651123, 1.537529468536377, 0.9861648082733154, 1.094254970550537, 1.5081143379211426, 1.6560842990875244, 1.0332047939300537, 1.08207368850708, 1.5675983428955078, 1.1145970821380615, 1.3201806545257568, 1.019211769104004, 1.605377435684204, 1.4700734615325928, 0.9672887325286865, 2.2505617141723633, 1.3057377338409424, 1.3789374828338623, 0.9888432025909424, 0.9852573871612549, 1.0188572406768799, 1.2859642505645752, 0.9765233993530273, 1.961439847946167, 1.2041404247283936, 1.1786832809448242, 1.5721049308776855, 1.1788837909698486, 1.778059482574463, 1.1889064311981201, 2.9215750694274902, 0.9680683612823486, 1.1016340255737305, 2.2500460147857666, 1.2935373783111572, 0.9924447536468506, 1.325385570526123, 1.7414157390594482, 1.1622314453125, 1.0109844207763672, 1.048144817352295, 1.0557940006256104, 1.1541476249694824, 0.9968667030334473, 1.3240563869476318, 2.61022686958313, 1.6328158378601074, 1.1670939922332764, 1.208338975906372, 1.519500494003296, 1.8174314498901367, 1.384634017944336, 2.8776118755340576, 1.1881344318389893, 1.1993153095245361, 2.3559248447418213, 0.8959825038909912, 1.1862473487854004, 2.248690128326416, 1.7091476917266846, 0.9861559867858887, 1.571650505065918, 2.2479302883148193, 0.9858036041259766, 1.3978817462921143, 0.8831367492675781, 1.0161845684051514, 2.9190542697906494, 1.0110461711883545, 1.3088343143463135, 1.086379051208496, 1.2660408020019531, 1.0020191669464111, 1.2676129341125488, 1.1446771621704102, 1.119199275970459, 1.4922828674316406, 1.425365924835205, 1.6391932964324951, 2.4737095832824707, 4.296992540359497, 1.1020400524139404, 1.279714584350586, 1.8271491527557373, 0.8859584331512451, 1.8609418869018555, 1.5995850563049316, 1.3851795196533203, 1.3782987594604492, 1.7086942195892334, 1.0870628356933594, 1.7433357238769531, 0.9650402069091797, 1.257993459701538, 1.679246425628662, 1.8269126415252686, 1.3736064434051514, 1.0479710102081299, 1.7876441478729248, 0.9168868064880371, 1.1181559562683105, 1.8081674575805664, 2.251316547393799, 0.9939701557159424, 1.0925137996673584, 1.9390840530395508, 2.530451536178589, 1.1945595741271973, 2.8098928928375244, 1.9755682945251465, 1.3554043769836426, 1.1978087425231934, 1.7318000793457031, 1.1150033473968506, 1.6319928169250488, 1.734527349472046, 1.0580170154571533, 1.606166124343872, 1.6697068214416504, 1.4037587642669678, 1.86045503616333, 1.1952505111694336, 1.5109705924987793, 1.8772366046905518, 1.1860132217407227, 1.4069914817810059, 0.9985060691833496, 1.3983867168426514, 2.0397815704345703, 1.962794303894043, 0.987281322479248, 1.5749974250793457, 0.9937925338745117, 1.219789981842041, 2.0499088764190674, 1.4689152240753174, 1.2798817157745361, 2.445411443710327, 0.9811444282531738, 0.9195947647094727, 1.1815130710601807, 1.2967402935028076, 1.1651582717895508, 1.0113720893859863, 2.3992807865142822, 0.8741335868835449, 2.4138166904449463, 1.6903491020202637, 1.0750644207000732, 1.1846041679382324, 1.0955381393432617, 2.3584072589874268, 1.0989174842834473, 1.0696320533752441, 1.1747727394104004, 1.272078037261963, 0.8706769943237305, 2.981490135192871, 2.321248769760132, 1.060716152191162, 0.8936572074890137, 0.9905197620391846, 0.8877503871917725, 1.2184691429138184, 1.6712641716003418, 1.3832175731658936, 1.502577543258667, 0.8701479434967041, 1.576967716217041, 1.698479413986206, 1.4386417865753174, 1.2403600215911865, 0.8717398643493652, 0.975348711013794, 0.9481616020202637, 0.8875327110290527, 2.010798454284668, 0.9802851676940918, 1.796010971069336, 1.4300999641418457, 2.5485124588012695, 2.0232677459716797, 2.4948837757110596, 1.3577320575714111, 1.4476370811462402, 1.5496480464935303, 1.344329833984375, 1.1480562686920166, 0.9649062156677246, 0.8542032241821289, 1.0594394207000732, 1.9350054264068604, 1.0352318286895752, 2.3946237564086914, 3.23207426071167, 1.8401768207550049, 1.0937309265136719, 0.9350025653839111, 1.5537292957305908, 1.1920568943023682, 2.005167007446289, 1.970890760421753, 1.263476848602295, 1.2358651161193848, 1.2584867477416992, 2.029175281524658, 1.2326760292053223, 1.2895982265472412, 1.2806410789489746, 1.1706480979919434, 1.0878701210021973, 1.2700188159942627, 1.153397560119629, 0.9975924491882324, 3.0747780799865723, 1.4969894886016846, 1.0442664623260498, 1.8370311260223389, 2.0193281173706055, 0.9801976680755615, 1.2707715034484863, 1.2842962741851807, 1.993349552154541, 1.3598973751068115, 1.104851245880127, 0.9543740749359131, 1.5648736953735352, 2.4341447353363037, 0.872981071472168, 0.9935028553009033, 1.5748794078826904, 0.9731619358062744, 0.8704655170440674, 1.006697416305542, 0.9283561706542969, 3.6912717819213867, 1.1988518238067627, 1.479461431503296, 1.7181193828582764, 3.9538135528564453, 1.1485085487365723, 2.007683038711548, 0.9746739864349365, 0.8597586154937744, 1.3609914779663086, 1.6347987651824951, 1.6595816612243652, 2.122364044189453, 1.7592034339904785, 1.1643996238708496, 1.904181718826294, 1.6512408256530762, 2.2792069911956787, 1.7345986366271973, 1.3059132099151611, 1.5637547969818115, 1.0654873847961426, 2.5028603076934814, 1.66487717628479, 1.1641652584075928, 1.0537714958190918, 1.4231929779052734, 1.173872947692871, 1.3466434478759766, 0.8755786418914795, 3.0416975021362305, 1.1841750144958496, 2.3646881580352783, 1.1823861598968506, 0.9712793827056885, 1.1352062225341797, 0.9652328491210938] \n",
            "solved grids: 302, unsolved grids : 28\n"
          ]
        }
      ]
    },
    {
      "cell_type": "code",
      "source": [
        "sovability = solved_grids/(solved_grids + unsolved_grids)\n",
        "avg_path_length = sum(pathLengths)/len(pathLengths)\n",
        "avg_time = sum(TimeTaken)/len(TimeTaken)\n",
        "print(\"solvability : {0} \".format(sovability))\n",
        "print(\"average path length : {0} \".format(avg_path_length))\n",
        "print(\"average time taken to solve : {0} \".format(avg_time))"
      ],
      "metadata": {
        "colab": {
          "base_uri": "https://localhost:8080/"
        },
        "id": "GwkodgV-kNI-",
        "outputId": "43de2ac2-5223-4e34-a632-0e6441218819"
      },
      "execution_count": 21,
      "outputs": [
        {
          "output_type": "stream",
          "name": "stdout",
          "text": [
            "solvability : 0.9151515151515152 \n",
            "average path length : 36.40728476821192 \n",
            "average time taken to solve : 1.4801996377919684 \n"
          ]
        }
      ]
    }
  ]
}