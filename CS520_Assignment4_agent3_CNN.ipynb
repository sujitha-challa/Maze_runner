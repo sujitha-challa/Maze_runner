{
  "nbformat": 4,
  "nbformat_minor": 0,
  "metadata": {
    "colab": {
      "name": "CS520_Assignment4_agent3_CNN.ipynb",
      "provenance": [],
      "collapsed_sections": []
    },
    "kernelspec": {
      "name": "python3",
      "display_name": "Python 3"
    },
    "language_info": {
      "name": "python"
    }
  },
  "cells": [
    {
      "cell_type": "code",
      "execution_count": 5,
      "metadata": {
        "id": "gLpyvVVfDuQW"
      },
      "outputs": [],
      "source": [
        "import tensorflow as tf\n",
        "import numpy as np\n",
        "import pandas as pd\n",
        "import pickle\n",
        "from collections import defaultdict\n",
        "from sklearn.model_selection import train_test_split\n",
        "from numpy.core.records import array\n",
        "from keras.models import load_model\n",
        "import time\n"
      ]
    },
    {
      "cell_type": "code",
      "source": [
        "with open('/content/grids_agent3_dim10_count1000.pkl', \"rb\") as f:\n",
        "    dict = pickle.load(f)\n",
        "\n",
        "X = dict['KnowledgeGrid']\n",
        "X_PS = dict['KnowledgeGridPS']\n",
        "Y = dict['action']\n",
        "position_dict = dict['position']\n",
        "index_dict = dict['Index']\n",
        "data_count = len(Y)\n",
        "gridSize = len(X[0][0])\n",
        "maze_dict = dict['maze']\n",
        "AstartTime_dict = dict['AstarTime']"
      ],
      "metadata": {
        "id": "B0-n-LxXDyKg"
      },
      "execution_count": 6,
      "outputs": []
    },
    {
      "cell_type": "code",
      "source": [
        "# Reshape position list into array\n",
        "for i in range(data_count):\n",
        "  position_dict[i] = np.reshape(position_dict[i], 1*2)"
      ],
      "metadata": {
        "id": "JYcieRmLjWbt"
      },
      "execution_count": 7,
      "outputs": []
    },
    {
      "cell_type": "code",
      "source": [
        "print(gridSize)\n",
        "print(data_count)\n",
        "print(X[0])\n",
        "print(X_PS[0])\n",
        "print(position_dict[0])\n",
        "print(len(maze_dict))\n",
        "print((maze_dict[0]))\n",
        "print((AstartTime_dict[0]))\n",
        "print(len(AstartTime_dict))\n",
        "print((AstartTime_dict))\n",
        "print(X[0].shape[0])"
      ],
      "metadata": {
        "id": "V7H693XyKhHQ",
        "colab": {
          "base_uri": "https://localhost:8080/"
        },
        "outputId": "7afc16ec-4ef1-4f22-fcac-7217303a03ab"
      },
      "execution_count": 8,
      "outputs": [
        {
          "output_type": "stream",
          "name": "stdout",
          "text": [
            "10\n",
            "34606\n",
            "[[0 0 0 0 0 0 0 0 0 0]\n",
            " [0 0 0 0 0 0 0 0 0 0]\n",
            " [0 0 0 0 0 0 0 0 0 0]\n",
            " [0 0 0 0 0 0 0 0 0 0]\n",
            " [0 0 0 0 0 0 0 0 0 0]\n",
            " [0 0 0 0 0 0 0 0 0 0]\n",
            " [0 0 0 0 0 0 0 0 0 0]\n",
            " [0 0 0 0 0 0 0 0 0 0]\n",
            " [0 0 0 0 0 0 0 0 0 0]\n",
            " [0 0 0 0 0 0 0 0 0 0]]\n",
            "[[ 0 -1 -1 -1 -1 -1 -1 -1 -1 -1]\n",
            " [-1 -1 -1 -1 -1 -1 -1 -1 -1 -1]\n",
            " [-1 -1 -1 -1 -1 -1 -1 -1 -1 -1]\n",
            " [-1 -1 -1 -1 -1 -1 -1 -1 -1 -1]\n",
            " [-1 -1 -1 -1 -1 -1 -1 -1 -1 -1]\n",
            " [-1 -1 -1 -1 -1 -1 -1 -1 -1 -1]\n",
            " [-1 -1 -1 -1 -1 -1 -1 -1 -1 -1]\n",
            " [-1 -1 -1 -1 -1 -1 -1 -1 -1 -1]\n",
            " [-1 -1 -1 -1 -1 -1 -1 -1 -1 -1]\n",
            " [-1 -1 -1 -1 -1 -1 -1 -1 -1 -1]]\n",
            "[0 0]\n",
            "1000\n",
            "[[0, 0, 0, 1, 0, 1, 0, 1, 0, 0], [0, 0, 0, 0, 0, 1, 0, 0, 0, 0], [0, 1, 0, 1, 0, 0, 0, 1, 1, 0], [0, 0, 0, 0, 0, 1, 0, 0, 0, 0], [0, 1, 0, 0, 0, 1, 0, 0, 1, 0], [1, 0, 1, 0, 0, 1, 0, 1, 0, 0], [0, 0, 1, 0, 1, 0, 0, 0, 0, 0], [0, 0, 1, 0, 0, 1, 1, 1, 0, 0], [0, 1, 0, 1, 0, 0, 0, 1, 1, 0], [0, 0, 0, 0, 1, 1, 1, 0, 1, 0]]\n",
            "0.0\n",
            "1000\n",
            "[0.0, 0.0, 0.0010001659393310547, 0.0010728836059570312, 0.0, 0.0009965896606445312, 0.0, 0.0009968280792236328, 0.0010755062103271484, 0.0, 0.0, 0.0, 0.0, 0.0009984970092773438, 0.0, 0.0, 0.0009953975677490234, 0.001003265380859375, 0.0, 0.0, 0.0, 0.0, 0.0009999275207519531, 0.0, 0.0, 0.0, 0.0, 0.0, 0.0, 0.0009999275207519531, 0.0, 0.0009996891021728516, 0.0, 0.0, 0.0, 0.0010008811950683594, 0.0010001659393310547, 0.0, 0.0, 0.0010001659393310547, 0.0010001659393310547, 0.0009999275207519531, 0.0, 0.0, 0.0, 0.0, 0.0005362033843994141, 0.0, 0.0010001659393310547, 0.0, 0.0010001659393310547, 0.0, 0.0009999275207519531, 0.0, 0.0, 0.0, 0.0, 0.0, 0.0, 0.0, 0.0009999275207519531, 0.0, 0.0, 0.0, 0.0, 0.0, 0.0005261898040771484, 0.0, 0.00099945068359375, 0.0, 0.0, 0.0, 0.0010001659393310547, 0.0, 0.0, 0.0, 0.0010521411895751953, 0.0, 0.0, 0.0010001659393310547, 0.0010006427764892578, 0.0, 0.0, 0.0, 0.0, 0.0009920597076416016, 0.0, 0.0010013580322265625, 0.0, 0.0010001659393310547, 0.001068115234375, 0.0, 0.0, 0.0, 0.0, 0.0, 0.0009999275207519531, 0.0010585784912109375, 0.0, 0.0, 0.0009999275207519531, 0.0, 0.0, 0.0, 0.0, 0.0, 0.0, 0.0009999275207519531, 0.0, 0.0009999275207519531, 0.0, 0.0, 0.0010001659393310547, 0.0, 0.0, 0.0, 0.0, 0.0, 0.0010001659393310547, 0.0, 0.0, 0.0, 0.0, 0.00019669532775878906, 0.0010001659393310547, 0.0, 0.0, 0.0009996891021728516, 0.0009999275207519531, 0.0, 0.0, 0.0, 0.0005033016204833984, 0.0, 0.0, 0.0, 0.0, 0.0, 0.000993490219116211, 0.0, 0.0, 0.0, 0.0, 0.0, 0.0009999275207519531, 0.0, 0.0, 0.0, 0.0, 0.0010001659393310547, 0.0, 0.0009999275207519531, 0.0, 0.0, 0.0, 0.0009996891021728516, 0.0, 0.0009999275207519531, 0.0, 0.0, 0.0, 0.0, 0.0, 0.0009999275207519531, 0.0, 0.0, 0.0, 0.0, 0.0, 0.0, 0.0, 0.0, 0.0010950565338134766, 0.0, 0.0010004043579101562, 0.0, 0.0, 0.0, 0.0, 0.0, 0.0, 0.0, 0.0, 0.0, 0.0, 0.0, 0.0, 0.0, 0.0009942054748535156, 0.0010218620300292969, 0.0009999275207519531, 0.0, 0.0, 0.0010027885437011719, 0.0, 0.0009980201721191406, 0.0009996891021728516, 0.0, 0.0, 0.0, 0.00013899803161621094, 0.0, 0.0014300346374511719, 0.0, 0.0, 0.0, 0.0, 0.0, 0.00099945068359375, 0.0, 0.0, 0.0, 0.0, 0.0, 0.0, 0.0, 0.0, 0.0, 0.0, 0.0, 0.0, 0.0, 0.0, 0.0010008811950683594, 0.0, 0.0010006427764892578, 0.0009999275207519531, 0.0, 0.0, 0.0, 0.0010001659393310547, 0.0, 0.0, 0.0009033679962158203, 0.0, 0.0, 0.0, 0.0010013580322265625, 0.001528024673461914, 0.0009996891021728516, 0.0010416507720947266, 0.0, 0.0, 0.0, 0.0, 0.0, 0.0, 0.0, 0.0009999275207519531, 0.0010805130004882812, 0.0, 0.0, 0.0010008811950683594, 0.0, 0.0010440349578857422, 0.0, 0.0, 0.0, 0.0009999275207519531, 0.0, 0.0, 0.0, 0.0, 0.0, 0.0010890960693359375, 0.0, 0.001003265380859375, 0.00101470947265625, 0.0, 0.0009992122650146484, 0.0, 0.0010006427764892578, 0.0, 0.0010056495666503906, 0.0009596347808837891, 0.0, 0.0, 0.0, 0.0, 0.0, 0.0, 0.0, 0.0, 0.0010001659393310547, 0.0010001659393310547, 0.0, 0.0010008811950683594, 0.0, 0.0, 0.0, 0.0, 0.0, 0.0010004043579101562, 0.0, 0.0, 0.0009987354278564453, 0.0, 0.0, 0.0010004043579101562, 0.0, 0.0, 0.0, 0.0, 0.0, 0.0, 0.0010004043579101562, 0.0, 0.0010004043579101562, 0.0, 0.0, 0.0010001659393310547, 0.0, 0.0011374950408935547, 0.0009989738464355469, 0.0, 0.00021266937255859375, 0.0, 0.0, 0.0, 0.001001119613647461, 0.0, 0.0, 0.0, 0.0, 0.0, 0.0, 0.0010001659393310547, 0.0, 0.0010001659393310547, 0.0, 0.0, 0.0010898113250732422, 0.0, 0.0, 0.0, 0.0, 0.0, 0.0, 0.0, 0.0, 0.0, 0.0010006427764892578, 0.0010006427764892578, 0.0, 0.0010936260223388672, 0.0006184577941894531, 0.0009922981262207031, 0.0, 0.0, 0.0010001659393310547, 0.0, 0.0010006427764892578, 0.0, 0.0, 0.0, 0.0, 0.0010290145874023438, 0.0, 0.0, 0.0, 0.0, 0.0, 0.0, 0.0, 0.0, 0.0, 0.0, 0.0004990100860595703, 0.0, 0.000982522964477539, 0.0009205341339111328, 0.0009436607360839844, 0.0, 0.0, 0.0, 0.0, 0.0010001659393310547, 0.0, 0.0, 0.0, 0.0009911060333251953, 0.0, 0.0, 0.0, 0.0, 0.0, 0.0, 0.0, 0.0009732246398925781, 0.0, 0.0, 0.0, 0.0, 0.0009243488311767578, 0.0, 0.0, 0.0, 0.0, 0.0, 0.0010328292846679688, 0.0, 0.0, 0.0, 0.0, 0.0010008811950683594, 0.0, 0.0, 0.0010294914245605469, 0.0, 0.0010044574737548828, 0.0010390281677246094, 0.0, 0.0, 0.0, 0.001003265380859375, 0.0, 0.0, 0.0010118484497070312, 0.0011620521545410156, 0.0, 0.0, 0.0, 0.0, 0.0, 0.0, 0.0, 0.0, 0.0, 0.0, 0.0009911060333251953, 0.0, 0.0009894371032714844, 0.0, 0.0009996891021728516, 0.0, 0.0, 0.0, 0.0, 0.0010006427764892578, 0.0, 0.001001119613647461, 0.0, 0.0, 0.0009970664978027344, 0.0, 0.0, 0.0010106563568115234, 0.0, 0.0010004043579101562, 0.0, 0.0, 0.0, 0.0, 0.0, 0.00024771690368652344, 0.0, 0.0010001659393310547, 0.0, 0.0010004043579101562, 0.0010006427764892578, 0.0, 0.0, 0.0, 0.0, 0.0009903907775878906, 0.0, 0.0009965896606445312, 0.0, 0.0, 0.0, 0.0, 0.0, 0.0, 0.0, 0.0, 0.0, 0.0, 0.0, 0.0009999275207519531, 0.0010302066802978516, 0.0, 0.0, 0.0, 0.0, 0.0010027885437011719, 0.0, 0.0010013580322265625, 0.0, 0.0011303424835205078, 0.0, 0.0009968280792236328, 0.0, 0.0003952980041503906, 0.0, 0.0, 0.0, 0.0, 0.0, 0.0, 0.0, 0.0, 0.0, 0.0009944438934326172, 0.0, 0.0, 0.0010044574737548828, 0.0010008811950683594, 0.0010006427764892578, 0.0009996891021728516, 0.0, 0.0009887218475341797, 0.0, 0.0, 0.0, 0.0010793209075927734, 0.0, 0.0, 0.0, 0.0010764598846435547, 0.0, 0.0, 0.0, 0.0, 0.0, 0.0, 0.0, 0.0, 0.0, 0.00019431114196777344, 0.0009996891021728516, 0.0, 0.0010013580322265625, 0.0, 0.0010673999786376953, 0.0, 0.0, 0.0, 0.0, 0.0, 0.0, 0.0, 0.0014958381652832031, 0.00099945068359375, 0.0, 0.0, 0.0009999275207519531, 0.0, 0.0, 0.000995635986328125, 0.0, 0.0, 0.0010004043579101562, 0.0, 0.0010116100311279297, 0.0, 0.0, 0.0, 0.0, 0.0009856224060058594, 0.0010056495666503906, 0.0, 0.0009860992431640625, 0.0, 0.0, 0.0009999275207519531, 0.0, 0.0, 0.0, 0.0010213851928710938, 0.0, 0.0, 0.0, 0.0, 0.0, 0.0, 0.0010001659393310547, 0.0, 0.0010008811950683594, 0.0, 0.001001596450805664, 0.0, 0.0009870529174804688, 0.0, 0.0, 0.0, 0.0, 0.0009925365447998047, 0.0, 0.0, 0.0, 0.0, 0.0, 0.0009999275207519531, 0.0, 0.000989675521850586, 0.0010385513305664062, 0.0, 0.0009965896606445312, 0.0010001659393310547, 0.0, 0.0010228157043457031, 0.0, 0.0, 0.0, 0.0010046958923339844, 0.0, 0.0010104179382324219, 0.0010058879852294922, 0.001085042953491211, 0.0, 0.0, 0.0009989738464355469, 0.0010669231414794922, 0.0, 0.0, 0.0005006790161132812, 0.0010001659393310547, 0.0, 0.0009238719940185547, 0.0, 0.0, 0.0, 0.0, 0.0, 0.0009920597076416016, 0.0, 0.0, 0.0, 0.0, 0.0, 0.0, 0.0009899139404296875, 0.0009965896606445312, 0.0010023117065429688, 0.0010025501251220703, 0.0, 0.0010025501251220703, 0.0, 0.0, 0.0, 0.0, 0.0, 0.0, 0.0, 0.0, 0.0, 0.0, 0.0, 0.0, 0.0, 0.0, 0.0, 0.0, 0.0009989738464355469, 0.00099945068359375, 0.0, 0.0010006427764892578, 0.0, 0.0, 0.0, 0.00107574462890625, 0.0, 0.0, 0.0010006427764892578, 0.0, 0.0, 0.0, 0.0005006790161132812, 0.0, 0.0, 0.0009970664978027344, 0.0, 0.0010013580322265625, 0.0, 0.001001596450805664, 0.0010004043579101562, 0.0, 0.0, 0.0010025501251220703, 0.0, 0.0, 0.0, 0.0, 0.0, 0.0, 0.0010387897491455078, 0.0, 0.0, 0.0009908676147460938, 0.0, 0.0010690689086914062, 0.0, 0.0, 0.0, 0.0, 0.0004999637603759766, 0.0010848045349121094, 0.0011241436004638672, 0.0, 0.0, 0.0, 0.0, 0.0, 0.0010008811950683594, 0.0015499591827392578, 0.0, 0.0010061264038085938, 0.0, 0.0005006790161132812, 0.0009999275207519531, 0.0, 0.0010008811950683594, 0.0, 0.0010004043579101562, 0.0010006427764892578, 0.0, 0.0, 0.0010008811950683594, 0.0, 0.00099945068359375, 0.0, 0.0010006427764892578, 0.0009999275207519531, 0.0010004043579101562, 0.0, 0.0, 0.0, 0.0, 0.0, 0.0010001659393310547, 0.0, 0.0, 0.000997304916381836, 0.0, 0.0, 0.0, 0.0, 0.0010004043579101562, 0.0009996891021728516, 0.0, 0.000997781753540039, 0.0, 0.0010008811950683594, 0.0, 0.0, 0.0010001659393310547, 0.0, 0.0010001659393310547, 0.0, 0.0, 0.0, 0.0, 0.0010001659393310547, 0.0, 0.0, 0.0, 0.0, 0.0010006427764892578, 0.0, 0.0, 0.0, 0.0, 0.00103759765625, 0.0, 0.0, 0.0, 0.0, 0.0009982585906982422, 0.0, 0.0, 0.0, 0.0, 0.0, 0.0, 0.0010006427764892578, 0.0, 0.0, 0.0010018348693847656, 0.0, 0.0009930133819580078, 0.0010004043579101562, 0.0011208057403564453, 0.0016775131225585938, 0.0005002021789550781, 0.000499725341796875, 0.0004999637603759766, 0.0, 0.0, 0.0, 0.0, 0.0, 0.0, 0.0, 0.0, 0.0, 0.0, 0.0, 0.0, 0.0, 0.0, 0.0, 0.000997781753540039, 0.0, 0.0009889602661132812, 0.0, 0.0, 0.0010402202606201172, 0.0, 0.0, 0.0, 0.0, 0.0, 0.0, 0.0003371238708496094, 0.0009965896606445312, 0.0, 0.0, 0.0009908676147460938, 0.0, 0.0, 0.0, 0.0010001659393310547, 0.0009717941284179688, 0.0, 0.0, 0.0, 0.0, 0.0, 0.0010001659393310547, 0.0, 0.0, 0.0010004043579101562, 0.0, 0.0, 0.0005013942718505859, 0.0, 0.0, 0.0, 0.0010571479797363281, 0.0010008811950683594, 0.0, 0.0, 0.0, 0.0, 0.0, 0.0, 0.0, 0.0, 0.0, 0.0009636878967285156, 0.0009703636169433594, 0.0, 0.0, 0.0, 0.0, 0.0011126995086669922, 0.0, 0.0, 0.001001596450805664, 0.0, 0.0010006427764892578, 0.0, 0.0010001659393310547, 0.0009255409240722656, 0.0010340213775634766, 0.0, 0.0009911060333251953, 0.0, 0.0010008811950683594, 0.0, 0.0, 0.0, 0.0012035369873046875, 0.0, 0.0, 0.0010025501251220703, 0.0, 0.0, 0.0, 0.0, 0.0, 0.0009999275207519531, 0.0, 0.0, 0.0, 0.0, 0.0, 0.0, 0.001004934310913086, 0.0, 0.0, 0.0010538101196289062, 0.000997781753540039, 0.0, 0.0, 0.0, 0.0, 0.0, 0.0, 0.0, 0.0009648799896240234, 0.0, 0.0010004043579101562, 0.0, 0.0, 0.0011403560638427734, 0.0, 0.0, 0.001039743423461914, 0.0, 0.0, 0.0, 0.0, 0.0, 0.001077413558959961, 0.0009713172912597656, 0.0010666847229003906, 0.0, 0.0, 0.0, 0.0, 0.0, 0.0010061264038085938, 0.0, 0.0010123252868652344, 0.001039743423461914, 0.0, 0.0, 0.0, 0.0, 0.0, 0.0, 0.0, 0.0010004043579101562, 0.00099945068359375, 0.0013196468353271484, 0.0010027885437011719, 0.0010008811950683594, 0.0, 0.0010085105895996094, 0.0, 0.001007080078125, 0.0, 0.000997304916381836, 0.0011682510375976562, 0.0010001659393310547, 0.0, 0.0, 0.0, 0.0, 0.0005002021789550781, 0.0010840892791748047, 0.0, 0.0, 0.0007348060607910156, 0.0, 0.0, 0.0, 0.0, 0.00119781494140625, 0.0010907649993896484, 0.0, 0.0, 0.0, 0.0009210109710693359, 0.0009882450103759766, 0.0, 0.0, 0.0, 0.0010018348693847656, 0.0, 0.0, 0.0, 0.0, 0.0, 0.0, 0.0009992122650146484, 0.0, 0.000978708267211914, 0.0004966259002685547, 0.0, 0.0009922981262207031, 0.0, 0.0, 0.001001119613647461, 0.0, 0.0, 0.0, 0.0, 0.0, 0.0, 0.0010004043579101562, 0.0, 0.0, 0.0, 0.0, 0.0, 0.0, 0.0, 0.0]\n",
            "10\n"
          ]
        }
      ]
    },
    {
      "cell_type": "markdown",
      "source": [
        "Add position to knowledge grid"
      ],
      "metadata": {
        "id": "O80q3yHqJujg"
      }
    },
    {
      "cell_type": "markdown",
      "source": [
        ""
      ],
      "metadata": {
        "id": "onHal3S9JtOT"
      }
    },
    {
      "cell_type": "code",
      "source": [
        "X_train, X_test, Y_train, Y_test = train_test_split(X, Y, test_size=0.33, shuffle=False)\n",
        "train_length = len(Y_train)\n",
        "test_length = len(Y_test)\n"
      ],
      "metadata": {
        "id": "dsE5a_cIQ02I"
      },
      "execution_count": 9,
      "outputs": []
    },
    {
      "cell_type": "code",
      "source": [
        "print(\"train length: {0}, test length: {1}\".format(train_length, test_length))\n",
        "print(\"x_train length: {0}, x_test length: {1}\".format(len(X_train), len(X_test)))\n",
        "print(index_dict[train_length - 1])\n",
        "print(index_dict[train_length])"
      ],
      "metadata": {
        "id": "Vl9oi-Cfgkna",
        "colab": {
          "base_uri": "https://localhost:8080/"
        },
        "outputId": "e388afc9-857f-45e1-dffc-34dc3da83cb0"
      },
      "execution_count": 10,
      "outputs": [
        {
          "output_type": "stream",
          "name": "stdout",
          "text": [
            "train length: 23186, test length: 11420\n",
            "x_train length: 23186, x_test length: 11420\n",
            "[661]\n",
            "[661]\n"
          ]
        }
      ]
    },
    {
      "cell_type": "code",
      "source": [
        "train_maze_count = index_dict[train_length][0]\n",
        "def Adjust_Train_test_Lengths():\n",
        "  if index_dict[train_length-1][0] == index_dict[train_length][0]:\n",
        "    for i in range(test_length):\n",
        "      if index_dict[train_length + i][0] == train_maze_count:\n",
        "        element = X_test.pop(0)\n",
        "        X_train.append(element)\n",
        "        element = Y_test.pop(0)\n",
        "        Y_train.append(element)\n",
        "      else:\n",
        "        break\n",
        "\n",
        "Adjust_Train_test_Lengths()\n",
        "X_train_position = position_dict[0:len(X_train)]\n",
        "X_test_position = position_dict[len(X_train):data_count]\n",
        "X_PS_train = X_PS[0:len(X_train)]\n",
        "X_PS_test = X_PS[len(X_train):data_count]\n",
        "\n",
        "train_length = len(Y_train)\n",
        "test_length = len(Y_test)\n",
        "train_maze_count = index_dict[train_length-1][0]\n",
        "maze_count = index_dict[data_count-1][0]\n",
        "test_maze_count = maze_count - train_maze_count"
      ],
      "metadata": {
        "id": "jtFJsxqVUqPe"
      },
      "execution_count": 11,
      "outputs": []
    },
    {
      "cell_type": "code",
      "source": [
        "print('after')\n",
        "print(\"total maze count: {0}, train maze count: {1}, test maze count: {2}\".format(maze_count, train_maze_count, test_maze_count))\n",
        "print(\"x_train length: {0}, x_test length: {1}\".format(len(X_train), len(X_test)))\n",
        "#print(X_train[train_length - 1])\n",
        "print(X_test[0])\n",
        "print(X_test[1])\n",
        "print(index_dict[train_length - 1])\n",
        "print(index_dict[train_length])"
      ],
      "metadata": {
        "id": "fI1djZ6eaIoK",
        "colab": {
          "base_uri": "https://localhost:8080/"
        },
        "outputId": "82be6a31-6643-4c00-d338-383b7007fbf6"
      },
      "execution_count": 12,
      "outputs": [
        {
          "output_type": "stream",
          "name": "stdout",
          "text": [
            "after\n",
            "total maze count: 1000, train maze count: 661, test maze count: 339\n",
            "x_train length: 23200, x_test length: 11406\n",
            "[[0 0 0 0 0 0 0 0 0 0]\n",
            " [0 0 0 0 0 0 0 0 0 0]\n",
            " [0 0 0 0 0 0 0 0 0 0]\n",
            " [0 0 0 0 0 0 0 0 0 0]\n",
            " [0 0 0 0 0 0 0 0 0 0]\n",
            " [0 0 0 0 0 0 0 0 0 0]\n",
            " [0 0 0 0 0 0 0 0 0 0]\n",
            " [0 0 0 0 0 0 0 0 0 0]\n",
            " [0 0 0 0 0 0 0 0 0 0]\n",
            " [0 0 0 0 0 0 0 0 0 0]]\n",
            "[[0 0 0 0 0 0 0 0 0 0]\n",
            " [0 0 0 0 0 0 0 0 0 0]\n",
            " [0 0 0 0 0 0 0 0 0 0]\n",
            " [0 0 0 0 0 0 0 0 0 0]\n",
            " [0 0 0 0 0 0 0 0 0 0]\n",
            " [0 0 0 0 0 0 0 0 0 0]\n",
            " [0 0 0 0 0 0 0 0 0 0]\n",
            " [0 0 0 0 0 0 0 0 0 0]\n",
            " [0 0 0 0 0 0 0 0 0 0]\n",
            " [0 0 0 0 0 0 0 0 0 0]]\n",
            "[661]\n",
            "[662]\n"
          ]
        }
      ]
    },
    {
      "cell_type": "code",
      "source": [
        "train_in_position = np.reshape(X_train_position, (-1, 1*2, ))\n",
        "test_in_position = np.reshape(X_test_position, (-1, 1*2, ))\n",
        "\n",
        "train_in_X_PS = np.reshape(X_PS_train, (-1, gridSize, gridSize))\n",
        "test_in_X_PS = np.reshape(X_PS_test, (-1, gridSize, gridSize))\n",
        "\n",
        "train_in_X = np.reshape(X_train, (-1, gridSize, gridSize))\n",
        "test_in_X = np.reshape(X_test, (-1, gridSize, gridSize))\n",
        "\n",
        "train_out = tf.keras.utils.to_categorical( Y_train, 4 )\n",
        "test_out = tf.keras.utils.to_categorical( Y_test, 4 )"
      ],
      "metadata": {
        "id": "I22_T4mSdksa"
      },
      "execution_count": 13,
      "outputs": []
    },
    {
      "cell_type": "code",
      "source": [
        "grid_input = tf.keras.layers.Input( shape = (gridSize,gridSize, 1) )\n",
        "grid_input_PS = tf.keras.layers.Input( shape = (gridSize,gridSize, 1) )\n",
        "position_input = tf.keras.layers.Input(shape = (1*2, ))\n",
        "\n",
        "cnn_1 = tf.keras.layers.Conv2D( filters = 64, kernel_size = (3,3), strides = (1,1), padding = \"valid\", activation = tf.nn.relu )( grid_input )\n",
        "cnn_2 = tf.keras.layers.Conv2D( filters = 64, kernel_size = (3,3), strides = (1,1), padding = \"valid\", activation = tf.nn.relu )( grid_input_PS )\n",
        "\n",
        "\n",
        "flatten_grid = tf.keras.layers.Flatten()(cnn_1)\n",
        "flatten_grid_PS = tf.keras.layers.Flatten()(cnn_2)\n",
        "concat = tf.keras.layers.concatenate([flatten_grid, flatten_grid_PS, position_input])\n",
        "dense_1 = tf.keras.layers.Dense( units = 200, activation = tf.nn.relu )( concat )\n",
        "dense_2 = tf.keras.layers.Dense( units = 100, activation = tf.nn.relu )( dense_1 )\n",
        "dense_3 = tf.keras.layers.Dense( units = 50, activation = tf.nn.relu )( dense_2 )\n",
        "dense_4 = tf.keras.layers.Dense( units = 25, activation = tf.nn.relu )( dense_3 )\n",
        "actions_output = tf.keras.layers.Dense( units = 4, activation = None )( dense_4 )\n",
        "probabilities = tf.keras.layers.Softmax()( actions_output )\n",
        "\n",
        "model = tf.keras.Model( inputs = [grid_input, grid_input_PS, position_input], outputs = probabilities )\n",
        "model.compile( optimizer = 'adam', loss = 'categorical_crossentropy', metrics = ['accuracy'] )"
      ],
      "metadata": {
        "id": "Dt9i85sqOHTn"
      },
      "execution_count": 14,
      "outputs": []
    },
    {
      "cell_type": "code",
      "source": [
        "def directionFromAction(action, position):\n",
        "  direction = ()\n",
        "  if action == 0:\n",
        "    # towards right\n",
        "    direction = (0 + position[0], 1 + position[1])\n",
        "  elif action == 1: \n",
        "    # towards down\n",
        "    direction = (1 + position[0], 0 + position[1])\n",
        "  elif action == 2:\n",
        "    # towards up\n",
        "    direction = (-1 + position[0], 0 + position[1])\n",
        "  elif action == 3:\n",
        "  # towards left\n",
        "    direction = (0 + position[0], -1 + position[1])\n",
        "  \n",
        "  return direction\n",
        "\n",
        "def generate_confusion_matrix(data, labels):\n",
        "  mat = [[ 0 for i in range(4)] for j in range(4)]\n",
        "\n",
        "  predictions = np.argmax( model.predict(data), axis = 1 )\n",
        "\n",
        "  for i in range(data[0].shape[0]):\n",
        "    mat[ labels[i] ][ predictions[i] ] += 1\n",
        "    #if i>=0 and i<= 30:\n",
        "      #print(predictions[i])\n",
        "\n",
        "  for i in range(4):\n",
        "    print( \"\\t\".join( [ str(c) for c in mat[i] ] ) )\n",
        "\n",
        "  return mat\n",
        "\n",
        "def AccuracyFrom_ConfusionMatrix(confusion_output):\n",
        "  correct = 0\n",
        "  incorrect = 0\n",
        "\n",
        "  for i in range(4):\n",
        "    for j in range(4):\n",
        "      if i==j:\n",
        "        correct += confusion_output[i][j]\n",
        "      else:\n",
        "        incorrect += confusion_output[i][j]\n",
        "\n",
        "  accuracy = correct/(correct+incorrect)\n",
        "  return accuracy\n"
      ],
      "metadata": {
        "id": "k27JH8C6T-Oc"
      },
      "execution_count": 15,
      "outputs": []
    },
    {
      "cell_type": "code",
      "source": [
        "confusion_output = generate_confusion_matrix([test_in_X, test_in_X_PS, test_in_position], Y_test)\n",
        "accuracy = AccuracyFrom_ConfusionMatrix(confusion_output)\n",
        "print(accuracy)\n"
      ],
      "metadata": {
        "colab": {
          "base_uri": "https://localhost:8080/"
        },
        "id": "_kJ4NXHqoRRT",
        "outputId": "d10fbc50-0dbb-498b-ab91-6c1006ef155c"
      },
      "execution_count": 16,
      "outputs": [
        {
          "output_type": "stream",
          "name": "stdout",
          "text": [
            "3\t5480\t42\t76\n",
            "8\t4091\t42\t114\n",
            "1\t313\t5\t11\n",
            "2\t1168\t9\t41\n",
            "0.36296685954760655\n"
          ]
        }
      ]
    },
    {
      "cell_type": "code",
      "source": [
        "history = model.fit([train_in_X, train_in_X_PS, train_in_position], train_out, epochs = 15)"
      ],
      "metadata": {
        "id": "BhIz2b2SqEpH",
        "colab": {
          "base_uri": "https://localhost:8080/"
        },
        "outputId": "86b03417-f121-4658-d066-a6fea6fc7731"
      },
      "execution_count": 17,
      "outputs": [
        {
          "output_type": "stream",
          "name": "stdout",
          "text": [
            "Epoch 1/15\n",
            "725/725 [==============================] - 16s 21ms/step - loss: 0.9153 - accuracy: 0.5715\n",
            "Epoch 2/15\n",
            "725/725 [==============================] - 16s 23ms/step - loss: 0.5434 - accuracy: 0.7584\n",
            "Epoch 3/15\n",
            "725/725 [==============================] - 17s 23ms/step - loss: 0.3771 - accuracy: 0.8401\n",
            "Epoch 4/15\n",
            "725/725 [==============================] - 16s 23ms/step - loss: 0.3105 - accuracy: 0.8733\n",
            "Epoch 5/15\n",
            "725/725 [==============================] - 18s 25ms/step - loss: 0.2492 - accuracy: 0.8984\n",
            "Epoch 6/15\n",
            "725/725 [==============================] - 16s 21ms/step - loss: 0.2252 - accuracy: 0.9108\n",
            "Epoch 7/15\n",
            "725/725 [==============================] - 18s 25ms/step - loss: 0.1852 - accuracy: 0.9262\n",
            "Epoch 8/15\n",
            "725/725 [==============================] - 15s 21ms/step - loss: 0.1769 - accuracy: 0.9320\n",
            "Epoch 9/15\n",
            "725/725 [==============================] - 17s 23ms/step - loss: 0.1536 - accuracy: 0.9376\n",
            "Epoch 10/15\n",
            "725/725 [==============================] - 16s 22ms/step - loss: 0.1388 - accuracy: 0.9455\n",
            "Epoch 11/15\n",
            "725/725 [==============================] - 16s 23ms/step - loss: 0.1250 - accuracy: 0.9517\n",
            "Epoch 12/15\n",
            "725/725 [==============================] - 17s 24ms/step - loss: 0.1142 - accuracy: 0.9538\n",
            "Epoch 13/15\n",
            "725/725 [==============================] - 17s 23ms/step - loss: 0.1092 - accuracy: 0.9571\n",
            "Epoch 14/15\n",
            "725/725 [==============================] - 15s 21ms/step - loss: 0.1091 - accuracy: 0.9576\n",
            "Epoch 15/15\n",
            "725/725 [==============================] - 17s 23ms/step - loss: 0.1011 - accuracy: 0.9593\n"
          ]
        }
      ]
    },
    {
      "cell_type": "code",
      "source": [
        "confusion_output = generate_confusion_matrix([test_in_X, test_in_X_PS, test_in_position], Y_test)\n",
        "accuracy = AccuracyFrom_ConfusionMatrix(confusion_output)\n",
        "\n",
        "print(accuracy)\n"
      ],
      "metadata": {
        "colab": {
          "base_uri": "https://localhost:8080/"
        },
        "id": "56RaUgBmqIrO",
        "outputId": "22773916-2c59-4977-8b8e-e36b9d35e851"
      },
      "execution_count": 18,
      "outputs": [
        {
          "output_type": "stream",
          "name": "stdout",
          "text": [
            "5463\t100\t24\t14\n",
            "159\t4018\t6\t72\n",
            "33\t35\t186\t76\n",
            "15\t129\t64\t1012\n",
            "0.9362616166929686\n"
          ]
        }
      ]
    },
    {
      "cell_type": "code",
      "source": [
        "model.save('model_agent3_dim10_1000.hf5')\n",
        "#model_file = ''\n",
        "#model=load_model(model_file)\n",
        "#model.summary()"
      ],
      "metadata": {
        "id": "LbyS47lGgTyH",
        "colab": {
          "base_uri": "https://localhost:8080/"
        },
        "outputId": "9c35865d-47a4-4aa6-8535-3ee686f1b43e"
      },
      "execution_count": 19,
      "outputs": [
        {
          "output_type": "stream",
          "name": "stdout",
          "text": [
            "INFO:tensorflow:Assets written to: model_agent3_dim10_1000.hf5/assets\n"
          ]
        }
      ]
    },
    {
      "cell_type": "code",
      "source": [
        "model=load_model('model_agent3_dim10_1000.hf5')\n",
        "model.summary()"
      ],
      "metadata": {
        "colab": {
          "base_uri": "https://localhost:8080/"
        },
        "id": "hOZj49Z0N8Ue",
        "outputId": "f5c7f639-f83a-4868-c2d3-d07f52f318bd"
      },
      "execution_count": 20,
      "outputs": [
        {
          "output_type": "stream",
          "name": "stdout",
          "text": [
            "Model: \"model\"\n",
            "__________________________________________________________________________________________________\n",
            " Layer (type)                   Output Shape         Param #     Connected to                     \n",
            "==================================================================================================\n",
            " input_1 (InputLayer)           [(None, 10, 10, 1)]  0           []                               \n",
            "                                                                                                  \n",
            " input_2 (InputLayer)           [(None, 10, 10, 1)]  0           []                               \n",
            "                                                                                                  \n",
            " conv2d (Conv2D)                (None, 8, 8, 64)     640         ['input_1[0][0]']                \n",
            "                                                                                                  \n",
            " conv2d_1 (Conv2D)              (None, 8, 8, 64)     640         ['input_2[0][0]']                \n",
            "                                                                                                  \n",
            " flatten (Flatten)              (None, 4096)         0           ['conv2d[0][0]']                 \n",
            "                                                                                                  \n",
            " flatten_1 (Flatten)            (None, 4096)         0           ['conv2d_1[0][0]']               \n",
            "                                                                                                  \n",
            " input_3 (InputLayer)           [(None, 2)]          0           []                               \n",
            "                                                                                                  \n",
            " concatenate (Concatenate)      (None, 8194)         0           ['flatten[0][0]',                \n",
            "                                                                  'flatten_1[0][0]',              \n",
            "                                                                  'input_3[0][0]']                \n",
            "                                                                                                  \n",
            " dense (Dense)                  (None, 200)          1639000     ['concatenate[0][0]']            \n",
            "                                                                                                  \n",
            " dense_1 (Dense)                (None, 100)          20100       ['dense[0][0]']                  \n",
            "                                                                                                  \n",
            " dense_2 (Dense)                (None, 50)           5050        ['dense_1[0][0]']                \n",
            "                                                                                                  \n",
            " dense_3 (Dense)                (None, 25)           1275        ['dense_2[0][0]']                \n",
            "                                                                                                  \n",
            " dense_4 (Dense)                (None, 4)            104         ['dense_3[0][0]']                \n",
            "                                                                                                  \n",
            " softmax (Softmax)              (None, 4)            0           ['dense_4[0][0]']                \n",
            "                                                                                                  \n",
            "==================================================================================================\n",
            "Total params: 1,666,809\n",
            "Trainable params: 1,666,809\n",
            "Non-trainable params: 0\n",
            "__________________________________________________________________________________________________\n"
          ]
        }
      ]
    },
    {
      "cell_type": "code",
      "source": [
        "directions = [[0,1], [1, 0], [-1, 0], [0, -1]]\n",
        "\n",
        "neighbours_in_8_directions = [[0, 1], # towards East\n",
        "                                 [1, 0],  # towards south\n",
        "                                 [-1, 0], # towards north\n",
        "                                 [0, -1], # towards west\n",
        "                                 [1, 1],  # towards SE\n",
        "                                 [-1, 1], # towards NE\n",
        "                                 [-1, -1],# towards NW\n",
        "                                 [1, -1]] # towards SW\n",
        "\n",
        "def Update_blocked_NeighborsIn_8_Directions(maze,kg_PS,pos):\n",
        "  #neighbourNodes = []\n",
        "  if kg_PS[pos[0]][pos[1]] == -1:\n",
        "    blocked = 0\n",
        "    for newPosition in neighbours_in_8_directions:\n",
        "    # Get the position of the node in maze\n",
        "        nodeLocation = (pos[0] + newPosition[0], pos[1] + newPosition[1])\n",
        "\n",
        "        #Check if the node position is within the maze dimensions\n",
        "        if CheckValidPosition(nodeLocation) and maze[nodeLocation[0]][nodeLocation[1]] == 1:\n",
        "          #neighbourNodes.append(nodeLocation)\n",
        "          blocked += 1\n",
        "\n",
        "    kg_PS[pos[0]][pos[1]] = blocked\n",
        "  return kg_PS\n",
        "  \n",
        "def getUpdatedPos(kg, pos):\n",
        "  positions = []\n",
        "  for i in directions:\n",
        "    new_position = [pos[0] + i[0], pos[1] + i[1]]\n",
        "    #if new_position[0] >= 0 and new_position[0] < gridSize and new_position[1] >= 0 and new_position[1] < gridSize:\n",
        "    if CheckValidPosition(new_position):\n",
        "      if kg[new_position[0]][new_position[1]] != 1:\n",
        "        positions.append(new_position)\n",
        "\n",
        "  rand = np.random.randint(len(positions))     \n",
        "  pos[0] = positions[rand][0]\n",
        "  pos[1] = positions[rand][1]\n",
        "  return pos\n",
        "\n",
        "\n",
        "def CheckValidPosition(position):\n",
        "  if position[0] >= 0 and position[0] < gridSize and position[1] >= 0 and position[1] < gridSize:\n",
        "    return True\n",
        "  else:\n",
        "    return False\n"
      ],
      "metadata": {
        "id": "ySsxeJE4d62H"
      },
      "execution_count": 21,
      "outputs": []
    },
    {
      "cell_type": "code",
      "source": [
        "def FindPathInTestGrids():\n",
        "  initial_grid = [[0 for i in range(gridSize)] for j in range(gridSize)]#test_in[0:1]\n",
        "  initial_grid_PS = [[-1 for i in range(gridSize)] for j in range(gridSize)]\n",
        "  #initial_grid[0][0] = 0\n",
        "  #initial_grid[gridSize-1][gridSize-1] = 0\n",
        "  initial_position = np.array([[0, 0]]) #test_in_position[0:1]\n",
        "  pathLengths = []\n",
        "  TimeTaken = []\n",
        "  solved_grids = 0\n",
        "  unsolved_grids = 0\n",
        "\n",
        "  for i in range (train_maze_count+1, maze_count+1):\n",
        "  #for i in range (train_maze_count+1, maze_count+1):\n",
        "    pathFound = False\n",
        "    grid_number = i\n",
        "    pathlength = 0\n",
        "    time_One_grid =0\n",
        "    kg =  np.array([initial_grid])\n",
        "    kg_PS = np.array([initial_grid_PS])\n",
        "    pos = np.array([[0, 0]])\n",
        "    maze = maze_dict[i -1]\n",
        "    #print(maze)\n",
        "    #print(kg)\n",
        "    pos = np.array([[0, 0]])\n",
        "    #print(pos)\n",
        "    startTime = time.time()  # Start time \n",
        "    blockcount = 0\n",
        "\n",
        "    while pathFound == False:\n",
        "      #print(kg[0])\n",
        "      #print(pos)\n",
        "      #kg[0] = UpdateKg(maze, kg[0], pos[0])\n",
        "      kg_PS[0] = Update_blocked_NeighborsIn_8_Directions(maze, kg_PS[0], pos[0])\n",
        "      #print(kg[0])\n",
        "      pathlength += 1\n",
        "      #break\n",
        "      single_prediction = np.argmax(model.predict([kg, kg_PS, pos]), axis = 1)\n",
        "      direction = directionFromAction(single_prediction,pos[0])\n",
        "      #print(direction)\n",
        "      if direction == (gridSize-1, gridSize-1):\n",
        "        pathFound = True\n",
        "        pathLengths.append(pathlength)\n",
        "        endTime = time.time() #end time\n",
        "        time_One_grid = endTime - startTime\n",
        "        TimeTaken.append(time_One_grid)\n",
        "        solved_grids += 1\n",
        "        #print(pathlength)\n",
        "        #print(time_One_grid)\n",
        "        print('grid {0} solved'.format(solved_grids))\n",
        "        break\n",
        "      isDirectionValid = CheckValidPosition(direction)\n",
        "      if (isDirectionValid and maze[direction[0]][direction[1]] == 1) or (isDirectionValid == False):\n",
        "        #print('blocked')\n",
        "        if isDirectionValid:\n",
        "          kg[0][direction[0]][direction[1]] = maze[direction[0]][direction[1]]\n",
        "        pathlength += 1\n",
        "        pos[0] = getUpdatedPos(maze, pos[0])\n",
        "        #print(pos)\n",
        "        blockcount +=1\n",
        "        if blockcount > (gridSize*5):\n",
        "          print('limit excceeded')\n",
        "          unsolved_grids += 1\n",
        "          break\n",
        "      else:\n",
        "        #print('not blocked')\n",
        "        kg[0][pos[0][0]][pos[0][1]] = maze[pos[0][0]][pos[0][1]]\n",
        "        pos[0] = direction\n",
        "\n",
        "  return test_maze_count, pathLengths, TimeTaken, solved_grids, unsolved_grids\n",
        " "
      ],
      "metadata": {
        "id": "jL3YctPpZGbU"
      },
      "execution_count": 23,
      "outputs": []
    },
    {
      "cell_type": "code",
      "source": [
        "test_maze_count, pathLengths, TimeTaken, solved_grids, unsolved_grids = FindPathInTestGrids()\n",
        "print('test grids: {0}'.format(test_maze_count))\n",
        "print('path lengths : {0}'.format(pathLengths))\n",
        "print('Time taken: {0} '.format(TimeTaken))\n",
        "print('solved grids: {0}, unsolved grids : {1}'.format(solved_grids, unsolved_grids))\n",
        "#print(AstartTime_dict[train_maze_count: maze_count])"
      ],
      "metadata": {
        "colab": {
          "base_uri": "https://localhost:8080/",
          "height": 565
        },
        "id": "OqjWCy5sHJH4",
        "outputId": "b5f79c70-4c7c-43d1-8cfc-4d2977500473"
      },
      "execution_count": 24,
      "outputs": [
        {
          "output_type": "stream",
          "name": "stdout",
          "text": [
            "grid 1 solved\n",
            "limit excceeded\n",
            "limit excceeded\n",
            "grid 2 solved\n",
            "grid 3 solved\n",
            "grid 4 solved\n",
            "grid 5 solved\n",
            "grid 6 solved\n",
            "grid 7 solved\n"
          ]
        },
        {
          "output_type": "error",
          "ename": "KeyboardInterrupt",
          "evalue": "ignored",
          "traceback": [
            "\u001b[0;31m---------------------------------------------------------------------------\u001b[0m",
            "\u001b[0;31mKeyboardInterrupt\u001b[0m                         Traceback (most recent call last)",
            "\u001b[0;32m<ipython-input-24-bf73214d3eeb>\u001b[0m in \u001b[0;36m<module>\u001b[0;34m()\u001b[0m\n\u001b[0;32m----> 1\u001b[0;31m \u001b[0mtest_maze_count\u001b[0m\u001b[0;34m,\u001b[0m \u001b[0mpathLengths\u001b[0m\u001b[0;34m,\u001b[0m \u001b[0mTimeTaken\u001b[0m\u001b[0;34m,\u001b[0m \u001b[0msolved_grids\u001b[0m\u001b[0;34m,\u001b[0m \u001b[0munsolved_grids\u001b[0m \u001b[0;34m=\u001b[0m \u001b[0mFindPathInTestGrids\u001b[0m\u001b[0;34m(\u001b[0m\u001b[0;34m)\u001b[0m\u001b[0;34m\u001b[0m\u001b[0;34m\u001b[0m\u001b[0m\n\u001b[0m\u001b[1;32m      2\u001b[0m \u001b[0mprint\u001b[0m\u001b[0;34m(\u001b[0m\u001b[0;34m'test grids: {0}'\u001b[0m\u001b[0;34m.\u001b[0m\u001b[0mformat\u001b[0m\u001b[0;34m(\u001b[0m\u001b[0mtest_maze_count\u001b[0m\u001b[0;34m)\u001b[0m\u001b[0;34m)\u001b[0m\u001b[0;34m\u001b[0m\u001b[0;34m\u001b[0m\u001b[0m\n\u001b[1;32m      3\u001b[0m \u001b[0mprint\u001b[0m\u001b[0;34m(\u001b[0m\u001b[0;34m'path lengths : {0}'\u001b[0m\u001b[0;34m.\u001b[0m\u001b[0mformat\u001b[0m\u001b[0;34m(\u001b[0m\u001b[0mpathLengths\u001b[0m\u001b[0;34m)\u001b[0m\u001b[0;34m)\u001b[0m\u001b[0;34m\u001b[0m\u001b[0;34m\u001b[0m\u001b[0m\n\u001b[1;32m      4\u001b[0m \u001b[0mprint\u001b[0m\u001b[0;34m(\u001b[0m\u001b[0;34m'Time taken: {0} '\u001b[0m\u001b[0;34m.\u001b[0m\u001b[0mformat\u001b[0m\u001b[0;34m(\u001b[0m\u001b[0mTimeTaken\u001b[0m\u001b[0;34m)\u001b[0m\u001b[0;34m)\u001b[0m\u001b[0;34m\u001b[0m\u001b[0;34m\u001b[0m\u001b[0m\n\u001b[1;32m      5\u001b[0m \u001b[0mprint\u001b[0m\u001b[0;34m(\u001b[0m\u001b[0;34m'solved grids: {0}, unsolved grids : {1}'\u001b[0m\u001b[0;34m.\u001b[0m\u001b[0mformat\u001b[0m\u001b[0;34m(\u001b[0m\u001b[0msolved_grids\u001b[0m\u001b[0;34m,\u001b[0m \u001b[0munsolved_grids\u001b[0m\u001b[0;34m)\u001b[0m\u001b[0;34m)\u001b[0m\u001b[0;34m\u001b[0m\u001b[0;34m\u001b[0m\u001b[0m\n",
            "\u001b[0;32m<ipython-input-23-e779659c93a8>\u001b[0m in \u001b[0;36mFindPathInTestGrids\u001b[0;34m()\u001b[0m\n\u001b[1;32m     35\u001b[0m       \u001b[0mpathlength\u001b[0m \u001b[0;34m+=\u001b[0m \u001b[0;36m1\u001b[0m\u001b[0;34m\u001b[0m\u001b[0;34m\u001b[0m\u001b[0m\n\u001b[1;32m     36\u001b[0m       \u001b[0;31m#break\u001b[0m\u001b[0;34m\u001b[0m\u001b[0;34m\u001b[0m\u001b[0;34m\u001b[0m\u001b[0m\n\u001b[0;32m---> 37\u001b[0;31m       \u001b[0msingle_prediction\u001b[0m \u001b[0;34m=\u001b[0m \u001b[0mnp\u001b[0m\u001b[0;34m.\u001b[0m\u001b[0margmax\u001b[0m\u001b[0;34m(\u001b[0m\u001b[0mmodel\u001b[0m\u001b[0;34m.\u001b[0m\u001b[0mpredict\u001b[0m\u001b[0;34m(\u001b[0m\u001b[0;34m[\u001b[0m\u001b[0mkg\u001b[0m\u001b[0;34m,\u001b[0m \u001b[0mkg_PS\u001b[0m\u001b[0;34m,\u001b[0m \u001b[0mpos\u001b[0m\u001b[0;34m]\u001b[0m\u001b[0;34m)\u001b[0m\u001b[0;34m,\u001b[0m \u001b[0maxis\u001b[0m \u001b[0;34m=\u001b[0m \u001b[0;36m1\u001b[0m\u001b[0;34m)\u001b[0m\u001b[0;34m\u001b[0m\u001b[0;34m\u001b[0m\u001b[0m\n\u001b[0m\u001b[1;32m     38\u001b[0m       \u001b[0mdirection\u001b[0m \u001b[0;34m=\u001b[0m \u001b[0mdirectionFromAction\u001b[0m\u001b[0;34m(\u001b[0m\u001b[0msingle_prediction\u001b[0m\u001b[0;34m,\u001b[0m\u001b[0mpos\u001b[0m\u001b[0;34m[\u001b[0m\u001b[0;36m0\u001b[0m\u001b[0;34m]\u001b[0m\u001b[0;34m)\u001b[0m\u001b[0;34m\u001b[0m\u001b[0;34m\u001b[0m\u001b[0m\n\u001b[1;32m     39\u001b[0m       \u001b[0;31m#print(direction)\u001b[0m\u001b[0;34m\u001b[0m\u001b[0;34m\u001b[0m\u001b[0;34m\u001b[0m\u001b[0m\n",
            "\u001b[0;32m/usr/local/lib/python3.7/dist-packages/keras/utils/traceback_utils.py\u001b[0m in \u001b[0;36merror_handler\u001b[0;34m(*args, **kwargs)\u001b[0m\n\u001b[1;32m     62\u001b[0m     \u001b[0mfiltered_tb\u001b[0m \u001b[0;34m=\u001b[0m \u001b[0;32mNone\u001b[0m\u001b[0;34m\u001b[0m\u001b[0;34m\u001b[0m\u001b[0m\n\u001b[1;32m     63\u001b[0m     \u001b[0;32mtry\u001b[0m\u001b[0;34m:\u001b[0m\u001b[0;34m\u001b[0m\u001b[0;34m\u001b[0m\u001b[0m\n\u001b[0;32m---> 64\u001b[0;31m       \u001b[0;32mreturn\u001b[0m \u001b[0mfn\u001b[0m\u001b[0;34m(\u001b[0m\u001b[0;34m*\u001b[0m\u001b[0margs\u001b[0m\u001b[0;34m,\u001b[0m \u001b[0;34m**\u001b[0m\u001b[0mkwargs\u001b[0m\u001b[0;34m)\u001b[0m\u001b[0;34m\u001b[0m\u001b[0;34m\u001b[0m\u001b[0m\n\u001b[0m\u001b[1;32m     65\u001b[0m     \u001b[0;32mexcept\u001b[0m \u001b[0mException\u001b[0m \u001b[0;32mas\u001b[0m \u001b[0me\u001b[0m\u001b[0;34m:\u001b[0m  \u001b[0;31m# pylint: disable=broad-except\u001b[0m\u001b[0;34m\u001b[0m\u001b[0;34m\u001b[0m\u001b[0m\n\u001b[1;32m     66\u001b[0m       \u001b[0mfiltered_tb\u001b[0m \u001b[0;34m=\u001b[0m \u001b[0m_process_traceback_frames\u001b[0m\u001b[0;34m(\u001b[0m\u001b[0me\u001b[0m\u001b[0;34m.\u001b[0m\u001b[0m__traceback__\u001b[0m\u001b[0;34m)\u001b[0m\u001b[0;34m\u001b[0m\u001b[0;34m\u001b[0m\u001b[0m\n",
            "\u001b[0;32m/usr/local/lib/python3.7/dist-packages/keras/engine/training.py\u001b[0m in \u001b[0;36mpredict\u001b[0;34m(self, x, batch_size, verbose, steps, callbacks, max_queue_size, workers, use_multiprocessing)\u001b[0m\n\u001b[1;32m   1783\u001b[0m       \u001b[0mcallbacks\u001b[0m\u001b[0;34m.\u001b[0m\u001b[0mon_predict_begin\u001b[0m\u001b[0;34m(\u001b[0m\u001b[0;34m)\u001b[0m\u001b[0;34m\u001b[0m\u001b[0;34m\u001b[0m\u001b[0m\n\u001b[1;32m   1784\u001b[0m       \u001b[0mbatch_outputs\u001b[0m \u001b[0;34m=\u001b[0m \u001b[0;32mNone\u001b[0m\u001b[0;34m\u001b[0m\u001b[0;34m\u001b[0m\u001b[0m\n\u001b[0;32m-> 1785\u001b[0;31m       \u001b[0;32mfor\u001b[0m \u001b[0m_\u001b[0m\u001b[0;34m,\u001b[0m \u001b[0miterator\u001b[0m \u001b[0;32min\u001b[0m \u001b[0mdata_handler\u001b[0m\u001b[0;34m.\u001b[0m\u001b[0menumerate_epochs\u001b[0m\u001b[0;34m(\u001b[0m\u001b[0;34m)\u001b[0m\u001b[0;34m:\u001b[0m  \u001b[0;31m# Single epoch.\u001b[0m\u001b[0;34m\u001b[0m\u001b[0;34m\u001b[0m\u001b[0m\n\u001b[0m\u001b[1;32m   1786\u001b[0m         \u001b[0;32mwith\u001b[0m \u001b[0mdata_handler\u001b[0m\u001b[0;34m.\u001b[0m\u001b[0mcatch_stop_iteration\u001b[0m\u001b[0;34m(\u001b[0m\u001b[0;34m)\u001b[0m\u001b[0;34m:\u001b[0m\u001b[0;34m\u001b[0m\u001b[0;34m\u001b[0m\u001b[0m\n\u001b[1;32m   1787\u001b[0m           \u001b[0;32mfor\u001b[0m \u001b[0mstep\u001b[0m \u001b[0;32min\u001b[0m \u001b[0mdata_handler\u001b[0m\u001b[0;34m.\u001b[0m\u001b[0msteps\u001b[0m\u001b[0;34m(\u001b[0m\u001b[0;34m)\u001b[0m\u001b[0;34m:\u001b[0m\u001b[0;34m\u001b[0m\u001b[0;34m\u001b[0m\u001b[0m\n",
            "\u001b[0;32m/usr/local/lib/python3.7/dist-packages/keras/engine/data_adapter.py\u001b[0m in \u001b[0;36menumerate_epochs\u001b[0;34m(self)\u001b[0m\n\u001b[1;32m   1193\u001b[0m     \u001b[0;34m\"\"\"Yields `(epoch, tf.data.Iterator)`.\"\"\"\u001b[0m\u001b[0;34m\u001b[0m\u001b[0;34m\u001b[0m\u001b[0m\n\u001b[1;32m   1194\u001b[0m     \u001b[0;32mwith\u001b[0m \u001b[0mself\u001b[0m\u001b[0;34m.\u001b[0m\u001b[0m_truncate_execution_to_epoch\u001b[0m\u001b[0;34m(\u001b[0m\u001b[0;34m)\u001b[0m\u001b[0;34m:\u001b[0m\u001b[0;34m\u001b[0m\u001b[0;34m\u001b[0m\u001b[0m\n\u001b[0;32m-> 1195\u001b[0;31m       \u001b[0mdata_iterator\u001b[0m \u001b[0;34m=\u001b[0m \u001b[0miter\u001b[0m\u001b[0;34m(\u001b[0m\u001b[0mself\u001b[0m\u001b[0;34m.\u001b[0m\u001b[0m_dataset\u001b[0m\u001b[0;34m)\u001b[0m\u001b[0;34m\u001b[0m\u001b[0;34m\u001b[0m\u001b[0m\n\u001b[0m\u001b[1;32m   1196\u001b[0m       \u001b[0;32mfor\u001b[0m \u001b[0mepoch\u001b[0m \u001b[0;32min\u001b[0m \u001b[0mrange\u001b[0m\u001b[0;34m(\u001b[0m\u001b[0mself\u001b[0m\u001b[0;34m.\u001b[0m\u001b[0m_initial_epoch\u001b[0m\u001b[0;34m,\u001b[0m \u001b[0mself\u001b[0m\u001b[0;34m.\u001b[0m\u001b[0m_epochs\u001b[0m\u001b[0;34m)\u001b[0m\u001b[0;34m:\u001b[0m\u001b[0;34m\u001b[0m\u001b[0;34m\u001b[0m\u001b[0m\n\u001b[1;32m   1197\u001b[0m         \u001b[0;32mif\u001b[0m \u001b[0mself\u001b[0m\u001b[0;34m.\u001b[0m\u001b[0m_insufficient_data\u001b[0m\u001b[0;34m:\u001b[0m  \u001b[0;31m# Set by `catch_stop_iteration`.\u001b[0m\u001b[0;34m\u001b[0m\u001b[0;34m\u001b[0m\u001b[0m\n",
            "\u001b[0;32m/usr/local/lib/python3.7/dist-packages/tensorflow/python/data/ops/dataset_ops.py\u001b[0m in \u001b[0;36m__iter__\u001b[0;34m(self)\u001b[0m\n\u001b[1;32m    488\u001b[0m     \u001b[0;32mif\u001b[0m \u001b[0mcontext\u001b[0m\u001b[0;34m.\u001b[0m\u001b[0mexecuting_eagerly\u001b[0m\u001b[0;34m(\u001b[0m\u001b[0;34m)\u001b[0m \u001b[0;32mor\u001b[0m \u001b[0mops\u001b[0m\u001b[0;34m.\u001b[0m\u001b[0minside_function\u001b[0m\u001b[0;34m(\u001b[0m\u001b[0;34m)\u001b[0m\u001b[0;34m:\u001b[0m\u001b[0;34m\u001b[0m\u001b[0;34m\u001b[0m\u001b[0m\n\u001b[1;32m    489\u001b[0m       \u001b[0;32mwith\u001b[0m \u001b[0mops\u001b[0m\u001b[0;34m.\u001b[0m\u001b[0mcolocate_with\u001b[0m\u001b[0;34m(\u001b[0m\u001b[0mself\u001b[0m\u001b[0;34m.\u001b[0m\u001b[0m_variant_tensor\u001b[0m\u001b[0;34m)\u001b[0m\u001b[0;34m:\u001b[0m\u001b[0;34m\u001b[0m\u001b[0;34m\u001b[0m\u001b[0m\n\u001b[0;32m--> 490\u001b[0;31m         \u001b[0;32mreturn\u001b[0m \u001b[0miterator_ops\u001b[0m\u001b[0;34m.\u001b[0m\u001b[0mOwnedIterator\u001b[0m\u001b[0;34m(\u001b[0m\u001b[0mself\u001b[0m\u001b[0;34m)\u001b[0m\u001b[0;34m\u001b[0m\u001b[0;34m\u001b[0m\u001b[0m\n\u001b[0m\u001b[1;32m    491\u001b[0m     \u001b[0;32melse\u001b[0m\u001b[0;34m:\u001b[0m\u001b[0;34m\u001b[0m\u001b[0;34m\u001b[0m\u001b[0m\n\u001b[1;32m    492\u001b[0m       raise RuntimeError(\"`tf.data.Dataset` only supports Python-style \"\n",
            "\u001b[0;32m/usr/local/lib/python3.7/dist-packages/tensorflow/python/data/ops/iterator_ops.py\u001b[0m in \u001b[0;36m__init__\u001b[0;34m(self, dataset, components, element_spec)\u001b[0m\n\u001b[1;32m    724\u001b[0m             \u001b[0;34m\"When `dataset` is provided, `element_spec` and `components` must \"\u001b[0m\u001b[0;34m\u001b[0m\u001b[0;34m\u001b[0m\u001b[0m\n\u001b[1;32m    725\u001b[0m             \"not be specified.\")\n\u001b[0;32m--> 726\u001b[0;31m       \u001b[0mself\u001b[0m\u001b[0;34m.\u001b[0m\u001b[0m_create_iterator\u001b[0m\u001b[0;34m(\u001b[0m\u001b[0mdataset\u001b[0m\u001b[0;34m)\u001b[0m\u001b[0;34m\u001b[0m\u001b[0;34m\u001b[0m\u001b[0m\n\u001b[0m\u001b[1;32m    727\u001b[0m \u001b[0;34m\u001b[0m\u001b[0m\n\u001b[1;32m    728\u001b[0m     \u001b[0mself\u001b[0m\u001b[0;34m.\u001b[0m\u001b[0m_get_next_call_count\u001b[0m \u001b[0;34m=\u001b[0m \u001b[0;36m0\u001b[0m\u001b[0;34m\u001b[0m\u001b[0;34m\u001b[0m\u001b[0m\n",
            "\u001b[0;32m/usr/local/lib/python3.7/dist-packages/tensorflow/python/data/ops/iterator_ops.py\u001b[0m in \u001b[0;36m_create_iterator\u001b[0;34m(self, dataset)\u001b[0m\n\u001b[1;32m    749\u001b[0m               \u001b[0moutput_types\u001b[0m\u001b[0;34m=\u001b[0m\u001b[0mself\u001b[0m\u001b[0;34m.\u001b[0m\u001b[0m_flat_output_types\u001b[0m\u001b[0;34m,\u001b[0m\u001b[0;34m\u001b[0m\u001b[0;34m\u001b[0m\u001b[0m\n\u001b[1;32m    750\u001b[0m               output_shapes=self._flat_output_shapes))\n\u001b[0;32m--> 751\u001b[0;31m       \u001b[0mgen_dataset_ops\u001b[0m\u001b[0;34m.\u001b[0m\u001b[0mmake_iterator\u001b[0m\u001b[0;34m(\u001b[0m\u001b[0mds_variant\u001b[0m\u001b[0;34m,\u001b[0m \u001b[0mself\u001b[0m\u001b[0;34m.\u001b[0m\u001b[0m_iterator_resource\u001b[0m\u001b[0;34m)\u001b[0m\u001b[0;34m\u001b[0m\u001b[0;34m\u001b[0m\u001b[0m\n\u001b[0m\u001b[1;32m    752\u001b[0m       \u001b[0;31m# Delete the resource when this object is deleted\u001b[0m\u001b[0;34m\u001b[0m\u001b[0;34m\u001b[0m\u001b[0;34m\u001b[0m\u001b[0m\n\u001b[1;32m    753\u001b[0m       self._resource_deleter = IteratorResourceDeleter(\n",
            "\u001b[0;32m/usr/local/lib/python3.7/dist-packages/tensorflow/python/ops/gen_dataset_ops.py\u001b[0m in \u001b[0;36mmake_iterator\u001b[0;34m(dataset, iterator, name)\u001b[0m\n\u001b[1;32m   3236\u001b[0m     \u001b[0;32mtry\u001b[0m\u001b[0;34m:\u001b[0m\u001b[0;34m\u001b[0m\u001b[0;34m\u001b[0m\u001b[0m\n\u001b[1;32m   3237\u001b[0m       _result = pywrap_tfe.TFE_Py_FastPathExecute(\n\u001b[0;32m-> 3238\u001b[0;31m         _ctx, \"MakeIterator\", name, dataset, iterator)\n\u001b[0m\u001b[1;32m   3239\u001b[0m       \u001b[0;32mreturn\u001b[0m \u001b[0m_result\u001b[0m\u001b[0;34m\u001b[0m\u001b[0;34m\u001b[0m\u001b[0m\n\u001b[1;32m   3240\u001b[0m     \u001b[0;32mexcept\u001b[0m \u001b[0m_core\u001b[0m\u001b[0;34m.\u001b[0m\u001b[0m_NotOkStatusException\u001b[0m \u001b[0;32mas\u001b[0m \u001b[0me\u001b[0m\u001b[0;34m:\u001b[0m\u001b[0;34m\u001b[0m\u001b[0;34m\u001b[0m\u001b[0m\n",
            "\u001b[0;31mKeyboardInterrupt\u001b[0m: "
          ]
        }
      ]
    },
    {
      "cell_type": "code",
      "source": [
        "sovability = solved_grids/(solved_grids + unsolved_grids)\n",
        "avg_path_length = sum(pathLengths)/len(pathLengths)\n",
        "avg_time = sum(TimeTaken)/len(TimeTaken)\n",
        "print(\"solvability : {0} \".format(sovability))\n",
        "print(\"average path length : {0} \".format(avg_path_length))\n",
        "print(\"average time taken to solve : {0} \".format(avg_time))"
      ],
      "metadata": {
        "id": "PVy24MWkm8eE"
      },
      "execution_count": null,
      "outputs": []
    }
  ]
}